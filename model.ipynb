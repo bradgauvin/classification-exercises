{
 "cells": [
  {
   "cell_type": "markdown",
   "id": "b02cd465",
   "metadata": {},
   "source": [
    "### Model exercises\n",
    "Using the titanic data, in your classification-exercises repository, create a notebook, model.ipynb where you will do the following:\n",
    "1. What is your baseline prediction? What is your baseline accuracy? remember: your baseline prediction for a classification problem is predicting the most prevelant class in the training dataset (the mode). When you make those predictions, what is your accuracy? This is your baseline accuracy.\n",
    "2. Fit the decision tree classifier to your training sample and transform (i.e. make predictions on the training sample)\n",
    "3. Evaluate your in-sample results using the model score, confusion matrix, and classification report.\n",
    "4. Compute: Accuracy, true positive rate, false positive rate, true negative rate, false negative rate, precision, recall, f1-score, and support.\n",
    "5. Run through steps 2-4 using a different max_depth value.\n",
    "6. Which model performs better on your in-sample data?\n",
    "7. Which model performs best on your out-of-sample data, the validate set?\n",
    "8. Work through these same exercises using the Telco dataset."
   ]
  },
  {
   "cell_type": "code",
   "execution_count": 1,
   "id": "a02abd36",
   "metadata": {},
   "outputs": [],
   "source": [
    "# Env Set up\n",
    "import matplotlib.pyplot as plt\n",
    "import numpy as np\n",
    "import pandas as pd\n",
    "import seaborn as sns\n",
    "import acquire as acq\n",
    "import prepare as pp\n",
    "# Decision Tree and Model Evaluation Imports\n",
    "from sklearn.tree import DecisionTreeClassifier, plot_tree, export_text\n",
    "from sklearn.model_selection import train_test_split\n",
    "from sklearn.metrics import classification_report, confusion_matrix, plot_confusion_matrix"
   ]
  },
  {
   "cell_type": "code",
   "execution_count": 2,
   "id": "5c45b86c",
   "metadata": {},
   "outputs": [
    {
     "name": "stdout",
     "output_type": "stream",
     "text": [
      "Using cached csv\n"
     ]
    }
   ],
   "source": [
    "titanic = acq.get_titanic_data()"
   ]
  },
  {
   "cell_type": "code",
   "execution_count": 3,
   "id": "381767f2",
   "metadata": {},
   "outputs": [
    {
     "name": "stdout",
     "output_type": "stream",
     "text": [
      "Using cached csv\n",
      "Data cleaned for duplicates, columns dropped [deck, embarked, class, age], filled na, and added numerical versions of sex and embark\n"
     ]
    }
   ],
   "source": [
    "titanic = pp.prep_titanic(titanic)"
   ]
  },
  {
   "cell_type": "code",
   "execution_count": 4,
   "id": "4df991c7",
   "metadata": {},
   "outputs": [
    {
     "data": {
      "text/plain": [
       "(891, 12)"
      ]
     },
     "execution_count": 4,
     "metadata": {},
     "output_type": "execute_result"
    }
   ],
   "source": [
    "titanic.shape"
   ]
  },
  {
   "cell_type": "code",
   "execution_count": 5,
   "id": "6a7f8cf7",
   "metadata": {},
   "outputs": [],
   "source": [
    "train, validate, test = pp.train_validate_test_split(titanic, target = 'survived')"
   ]
  },
  {
   "cell_type": "code",
   "execution_count": 6,
   "id": "99b4125b",
   "metadata": {},
   "outputs": [
    {
     "data": {
      "text/plain": [
       "((498, 12), (214, 12), (179, 12))"
      ]
     },
     "execution_count": 6,
     "metadata": {},
     "output_type": "execute_result"
    }
   ],
   "source": [
    "train.shape, validate.shape, test.shape"
   ]
  },
  {
   "cell_type": "code",
   "execution_count": 7,
   "id": "3e8cedcd",
   "metadata": {},
   "outputs": [
    {
     "data": {
      "text/plain": [
       "0    307\n",
       "1    191\n",
       "Name: survived, dtype: int64"
      ]
     },
     "execution_count": 7,
     "metadata": {},
     "output_type": "execute_result"
    }
   ],
   "source": [
    "# What is your baseline prediction? \n",
    "train.survived.value_counts()"
   ]
  },
  {
   "cell_type": "code",
   "execution_count": 8,
   "id": "35bb550a",
   "metadata": {},
   "outputs": [
    {
     "name": "stdout",
     "output_type": "stream",
     "text": [
      " Baseline accuracy is: 61.65%\n"
     ]
    }
   ],
   "source": [
    "# baseline accuracy\n",
    "train['baseline'] = 0\n",
    "print(f' Baseline accuracy is: {(train.survived==train.baseline).mean():.2%}')"
   ]
  },
  {
   "cell_type": "markdown",
   "id": "daa37381",
   "metadata": {},
   "source": [
    "1. Fit the decision tree classifier to your training sample and transform (i.e. make predictions on the training sample)\n"
   ]
  },
  {
   "cell_type": "code",
   "execution_count": 9,
   "id": "3af4cd1e",
   "metadata": {},
   "outputs": [
    {
     "name": "stdout",
     "output_type": "stream",
     "text": [
      "<class 'pandas.core.frame.DataFrame'>\n",
      "Int64Index: 498 entries, 583 to 744\n",
      "Data columns (total 13 columns):\n",
      " #   Column                   Non-Null Count  Dtype  \n",
      "---  ------                   --------------  -----  \n",
      " 0   passenger_id             498 non-null    int64  \n",
      " 1   survived                 498 non-null    int64  \n",
      " 2   pclass                   498 non-null    int64  \n",
      " 3   sex                      498 non-null    object \n",
      " 4   sibsp                    498 non-null    int64  \n",
      " 5   parch                    498 non-null    int64  \n",
      " 6   fare                     498 non-null    float64\n",
      " 7   embark_town              498 non-null    object \n",
      " 8   alone                    498 non-null    int64  \n",
      " 9   sex_male                 498 non-null    uint8  \n",
      " 10  embark_town_Queenstown   498 non-null    uint8  \n",
      " 11  embark_town_Southampton  498 non-null    uint8  \n",
      " 12  baseline                 498 non-null    int64  \n",
      "dtypes: float64(1), int64(7), object(2), uint8(3)\n",
      "memory usage: 44.3+ KB\n"
     ]
    }
   ],
   "source": [
    "train.info()"
   ]
  },
  {
   "cell_type": "code",
   "execution_count": 10,
   "id": "5582e72f",
   "metadata": {},
   "outputs": [],
   "source": [
    "# Feature selection\n",
    "features = ['pclass', 'embark_town_Queenstown', 'embark_town_Southampton', 'sex_male']"
   ]
  },
  {
   "cell_type": "code",
   "execution_count": 11,
   "id": "b1fd6d65",
   "metadata": {},
   "outputs": [],
   "source": [
    "# Variables\n",
    "x_train = train[features]\n",
    "y_train = train[['survived']]\n",
    "\n",
    "x_validate = validate[features]\n",
    "y_validate = validate[['survived']]\n",
    "\n",
    "x_test = test[features]\n",
    "y_test = test[['survived']]"
   ]
  },
  {
   "cell_type": "code",
   "execution_count": 12,
   "id": "ce3eb7f7",
   "metadata": {},
   "outputs": [
    {
     "data": {
      "text/html": [
       "<div>\n",
       "<style scoped>\n",
       "    .dataframe tbody tr th:only-of-type {\n",
       "        vertical-align: middle;\n",
       "    }\n",
       "\n",
       "    .dataframe tbody tr th {\n",
       "        vertical-align: top;\n",
       "    }\n",
       "\n",
       "    .dataframe thead th {\n",
       "        text-align: right;\n",
       "    }\n",
       "</style>\n",
       "<table border=\"1\" class=\"dataframe\">\n",
       "  <thead>\n",
       "    <tr style=\"text-align: right;\">\n",
       "      <th></th>\n",
       "      <th>pclass</th>\n",
       "      <th>embark_town_Queenstown</th>\n",
       "      <th>embark_town_Southampton</th>\n",
       "      <th>sex_male</th>\n",
       "    </tr>\n",
       "  </thead>\n",
       "  <tbody>\n",
       "    <tr>\n",
       "      <th>583</th>\n",
       "      <td>1</td>\n",
       "      <td>0</td>\n",
       "      <td>0</td>\n",
       "      <td>1</td>\n",
       "    </tr>\n",
       "    <tr>\n",
       "      <th>165</th>\n",
       "      <td>3</td>\n",
       "      <td>0</td>\n",
       "      <td>1</td>\n",
       "      <td>1</td>\n",
       "    </tr>\n",
       "    <tr>\n",
       "      <th>50</th>\n",
       "      <td>3</td>\n",
       "      <td>0</td>\n",
       "      <td>1</td>\n",
       "      <td>1</td>\n",
       "    </tr>\n",
       "    <tr>\n",
       "      <th>259</th>\n",
       "      <td>2</td>\n",
       "      <td>0</td>\n",
       "      <td>1</td>\n",
       "      <td>0</td>\n",
       "    </tr>\n",
       "    <tr>\n",
       "      <th>306</th>\n",
       "      <td>1</td>\n",
       "      <td>0</td>\n",
       "      <td>0</td>\n",
       "      <td>0</td>\n",
       "    </tr>\n",
       "  </tbody>\n",
       "</table>\n",
       "</div>"
      ],
      "text/plain": [
       "     pclass  embark_town_Queenstown  embark_town_Southampton  sex_male\n",
       "583       1                       0                        0         1\n",
       "165       3                       0                        1         1\n",
       "50        3                       0                        1         1\n",
       "259       2                       0                        1         0\n",
       "306       1                       0                        0         0"
      ]
     },
     "execution_count": 12,
     "metadata": {},
     "output_type": "execute_result"
    }
   ],
   "source": [
    "x_train.head()"
   ]
  },
  {
   "cell_type": "code",
   "execution_count": 13,
   "id": "4d9c8188",
   "metadata": {},
   "outputs": [
    {
     "data": {
      "text/html": [
       "<div>\n",
       "<style scoped>\n",
       "    .dataframe tbody tr th:only-of-type {\n",
       "        vertical-align: middle;\n",
       "    }\n",
       "\n",
       "    .dataframe tbody tr th {\n",
       "        vertical-align: top;\n",
       "    }\n",
       "\n",
       "    .dataframe thead th {\n",
       "        text-align: right;\n",
       "    }\n",
       "</style>\n",
       "<table border=\"1\" class=\"dataframe\">\n",
       "  <thead>\n",
       "    <tr style=\"text-align: right;\">\n",
       "      <th></th>\n",
       "      <th>survived</th>\n",
       "    </tr>\n",
       "  </thead>\n",
       "  <tbody>\n",
       "    <tr>\n",
       "      <th>583</th>\n",
       "      <td>0</td>\n",
       "    </tr>\n",
       "    <tr>\n",
       "      <th>165</th>\n",
       "      <td>1</td>\n",
       "    </tr>\n",
       "    <tr>\n",
       "      <th>50</th>\n",
       "      <td>0</td>\n",
       "    </tr>\n",
       "    <tr>\n",
       "      <th>259</th>\n",
       "      <td>1</td>\n",
       "    </tr>\n",
       "    <tr>\n",
       "      <th>306</th>\n",
       "      <td>1</td>\n",
       "    </tr>\n",
       "  </tbody>\n",
       "</table>\n",
       "</div>"
      ],
      "text/plain": [
       "     survived\n",
       "583         0\n",
       "165         1\n",
       "50          0\n",
       "259         1\n",
       "306         1"
      ]
     },
     "execution_count": 13,
     "metadata": {},
     "output_type": "execute_result"
    }
   ],
   "source": [
    "y_train[:5]"
   ]
  },
  {
   "cell_type": "code",
   "execution_count": 14,
   "id": "75bb08eb",
   "metadata": {},
   "outputs": [
    {
     "data": {
      "text/plain": [
       "survived\n",
       "0           307\n",
       "1           191\n",
       "dtype: int64"
      ]
     },
     "execution_count": 14,
     "metadata": {},
     "output_type": "execute_result"
    }
   ],
   "source": [
    "y_train.value_counts()"
   ]
  },
  {
   "cell_type": "code",
   "execution_count": 15,
   "id": "a1a11fd6",
   "metadata": {},
   "outputs": [],
   "source": [
    "tree = DecisionTreeClassifier(max_depth = 3)"
   ]
  },
  {
   "cell_type": "code",
   "execution_count": 16,
   "id": "a5419b9e",
   "metadata": {},
   "outputs": [],
   "source": [
    "tree= tree.fit(x_train,y_train)"
   ]
  },
  {
   "cell_type": "code",
   "execution_count": 17,
   "id": "3760d017",
   "metadata": {},
   "outputs": [],
   "source": [
    "y_pred = tree.predict(x_train)"
   ]
  },
  {
   "cell_type": "code",
   "execution_count": 18,
   "id": "3319eb90",
   "metadata": {},
   "outputs": [
    {
     "name": "stdout",
     "output_type": "stream",
     "text": [
      "|--- sex_male <= 0.50\n",
      "|   |--- pclass <= 2.50\n",
      "|   |   |--- embark_town_Southampton <= 0.50\n",
      "|   |   |   |--- class: 1\n",
      "|   |   |--- embark_town_Southampton >  0.50\n",
      "|   |   |   |--- class: 1\n",
      "|   |--- pclass >  2.50\n",
      "|   |   |--- embark_town_Southampton <= 0.50\n",
      "|   |   |   |--- class: 1\n",
      "|   |   |--- embark_town_Southampton >  0.50\n",
      "|   |   |   |--- class: 0\n",
      "|--- sex_male >  0.50\n",
      "|   |--- pclass <= 1.50\n",
      "|   |   |--- embark_town_Queenstown <= 0.50\n",
      "|   |   |   |--- class: 0\n",
      "|   |   |--- embark_town_Queenstown >  0.50\n",
      "|   |   |   |--- class: 0\n",
      "|   |--- pclass >  1.50\n",
      "|   |   |--- pclass <= 2.50\n",
      "|   |   |   |--- class: 0\n",
      "|   |   |--- pclass >  2.50\n",
      "|   |   |   |--- class: 0\n",
      "\n"
     ]
    }
   ],
   "source": [
    "print(export_text(tree, feature_names=x_train.columns.tolist()))"
   ]
  },
  {
   "cell_type": "code",
   "execution_count": 19,
   "id": "aa6e8a4c",
   "metadata": {},
   "outputs": [
    {
     "name": "stdout",
     "output_type": "stream",
     "text": [
      "Accuracy score on training set is: 81.93%\n"
     ]
    }
   ],
   "source": [
    "# Evaluate your in-sample results using the model score, confusion matrix, and classification report.\n",
    "print(f'Accuracy score on training set is: {tree.score(x_train,y_train):.2%}')"
   ]
  },
  {
   "cell_type": "code",
   "execution_count": 20,
   "id": "d6e9d339",
   "metadata": {},
   "outputs": [
    {
     "data": {
      "text/html": [
       "<div>\n",
       "<style scoped>\n",
       "    .dataframe tbody tr th:only-of-type {\n",
       "        vertical-align: middle;\n",
       "    }\n",
       "\n",
       "    .dataframe tbody tr th {\n",
       "        vertical-align: top;\n",
       "    }\n",
       "\n",
       "    .dataframe thead th {\n",
       "        text-align: right;\n",
       "    }\n",
       "</style>\n",
       "<table border=\"1\" class=\"dataframe\">\n",
       "  <thead>\n",
       "    <tr style=\"text-align: right;\">\n",
       "      <th></th>\n",
       "      <th>0</th>\n",
       "      <th>1</th>\n",
       "    </tr>\n",
       "  </thead>\n",
       "  <tbody>\n",
       "    <tr>\n",
       "      <th>0</th>\n",
       "      <td>294</td>\n",
       "      <td>13</td>\n",
       "    </tr>\n",
       "    <tr>\n",
       "      <th>1</th>\n",
       "      <td>77</td>\n",
       "      <td>114</td>\n",
       "    </tr>\n",
       "  </tbody>\n",
       "</table>\n",
       "</div>"
      ],
      "text/plain": [
       "     0    1\n",
       "0  294   13\n",
       "1   77  114"
      ]
     },
     "execution_count": 20,
     "metadata": {},
     "output_type": "execute_result"
    }
   ],
   "source": [
    "labels = sorted(y_train.survived.unique())\n",
    "pd.DataFrame(confusion_matrix(y_train, y_pred), index = labels, columns = labels)"
   ]
  },
  {
   "cell_type": "code",
   "execution_count": 21,
   "id": "3899ac32",
   "metadata": {},
   "outputs": [
    {
     "data": {
      "text/plain": [
       "(294, 13, 77, 114)"
      ]
     },
     "execution_count": 21,
     "metadata": {},
     "output_type": "execute_result"
    }
   ],
   "source": [
    "# rows are truth, columns are pred\n",
    "tn, fp, fn, tp = confusion_matrix(y_train, y_pred).ravel()\n",
    "(tn, fp, fn, tp)"
   ]
  },
  {
   "cell_type": "code",
   "execution_count": 22,
   "id": "a3c6545c",
   "metadata": {},
   "outputs": [
    {
     "name": "stdout",
     "output_type": "stream",
     "text": [
      "              precision    recall  f1-score   support\n",
      "\n",
      "           0       0.79      0.96      0.87       307\n",
      "           1       0.90      0.60      0.72       191\n",
      "\n",
      "    accuracy                           0.82       498\n",
      "   macro avg       0.85      0.78      0.79       498\n",
      "weighted avg       0.83      0.82      0.81       498\n",
      "\n"
     ]
    }
   ],
   "source": [
    "print(classification_report(y_train, y_pred))"
   ]
  },
  {
   "cell_type": "markdown",
   "id": "4ccf816f",
   "metadata": {},
   "source": [
    "Compute: Accuracy, true positive rate, false positive rate, true negative rate, false negative rate, precision, recall, f1-score, and support."
   ]
  },
  {
   "cell_type": "code",
   "execution_count": 23,
   "id": "1d7369e6",
   "metadata": {},
   "outputs": [],
   "source": [
    "# Formulas\n",
    "accuracy = (tp + tn) / (tp + tn + fp + fn)\n",
    "precision = tp/(tp+fp) \n",
    "recall = tp/(tp+fn)\n",
    "f1 = (2* precision * recall)/(precision + recall)"
   ]
  },
  {
   "cell_type": "code",
   "execution_count": 24,
   "id": "e37d490d",
   "metadata": {},
   "outputs": [
    {
     "name": "stdout",
     "output_type": "stream",
     "text": [
      "False positive rate: 4.23%\n",
      "False negative rate: 40.31%\n",
      "True positive rate: 59.69%\n",
      "True negative rate: 95.77%\n",
      "Accuracy rate: 81.93%\n",
      "Precision rate: 89.76%\n",
      "Recall rate: 59.69%\n",
      "F1 score:  71.70%\n"
     ]
    }
   ],
   "source": [
    "# Written out answers\n",
    "print(f\"False positive rate: {fp/(fp+tn):.2%}\")\n",
    "print(f\"False negative rate: {fn/(fn+tp):.2%}\")\n",
    "print(f\"True positive rate: {tp/(tp+fn):.2%}\")\n",
    "print(f\"True negative rate: {tn/(fp+tn):.2%}\")\n",
    "print(f\"Accuracy rate: {(tp + tn) / (tp + tn + fp + fn):.2%}\")\n",
    "print(f\"Precision rate: {precision:.2%}\")\n",
    "print(f\"Recall rate: {recall:.2%}\")\n",
    "print(f\"F1 score: {f1: .2%}\")\n"
   ]
  },
  {
   "cell_type": "markdown",
   "id": "d9c71c85",
   "metadata": {},
   "source": [
    "Run through steps 2-4 using a different max_depth value."
   ]
  },
  {
   "cell_type": "code",
   "execution_count": 25,
   "id": "eaf2bee4",
   "metadata": {},
   "outputs": [],
   "source": [
    "def decision_tree(train, d = 5, print_results = True):\n",
    "    \n",
    "    selected_features = ['pclass','embark_town_Queenstown','embark_town_Southampton','sex_male']\n",
    "    X_train = train[selected_features]\n",
    "    y_train = train[['survived']]\n",
    "    ship = DecisionTreeClassifier(max_depth=d, random_state=123)\n",
    "    ship = ship.fit(X_train, y_train)\n",
    "    y_pred = ship.predict(X_train)\n",
    "    if print_results:\n",
    "        print(\"TRAINING RESULTS\")\n",
    "        print(\"----------------\")\n",
    "        print(f\"Accuracy score on training set is: {ship.score(X_train, y_train):.2f}\")\n",
    "        print(classification_report(y_train, y_pred))\n",
    "\n",
    "        tn, fp, fn, tp = confusion_matrix(y_train, y_pred).ravel()\n",
    "\n",
    "        print(f\"False positive rate: {fp/(fp+tn):.2%}\")\n",
    "        print(f\"False negative rate: {fn/(fn+tp):.2%}\")\n",
    "        print(f\"True positive rate: {tp/(tp+fn):.2%}\")\n",
    "        print(f\"True negative rate: {tn/(fp+tn):.2%}\")\n",
    "        print(\"----------------\")\n",
    "    \n",
    "    return ship"
   ]
  },
  {
   "cell_type": "code",
   "execution_count": 26,
   "id": "f075c941",
   "metadata": {},
   "outputs": [
    {
     "name": "stdout",
     "output_type": "stream",
     "text": [
      "For decision tree with depth3:\n",
      "TRAINING RESULTS\n",
      "----------------\n",
      "Accuracy score on training set is: 0.82\n",
      "              precision    recall  f1-score   support\n",
      "\n",
      "           0       0.79      0.96      0.87       307\n",
      "           1       0.90      0.60      0.72       191\n",
      "\n",
      "    accuracy                           0.82       498\n",
      "   macro avg       0.85      0.78      0.79       498\n",
      "weighted avg       0.83      0.82      0.81       498\n",
      "\n",
      "False positive rate: 4.23%\n",
      "False negative rate: 40.31%\n",
      "True positive rate: 59.69%\n",
      "True negative rate: 95.77%\n",
      "----------------\n",
      "For decision tree with depth5:\n",
      "TRAINING RESULTS\n",
      "----------------\n",
      "Accuracy score on training set is: 0.82\n",
      "              precision    recall  f1-score   support\n",
      "\n",
      "           0       0.79      0.96      0.87       307\n",
      "           1       0.90      0.60      0.72       191\n",
      "\n",
      "    accuracy                           0.82       498\n",
      "   macro avg       0.85      0.78      0.79       498\n",
      "weighted avg       0.83      0.82      0.81       498\n",
      "\n",
      "False positive rate: 4.23%\n",
      "False negative rate: 40.31%\n",
      "True positive rate: 59.69%\n",
      "True negative rate: 95.77%\n",
      "----------------\n"
     ]
    }
   ],
   "source": [
    "for i in[3,5]:\n",
    "    print(f'For decision tree with depth{i}:')\n",
    "    decision_tree(train, d=i)"
   ]
  },
  {
   "cell_type": "markdown",
   "id": "d515388b",
   "metadata": {},
   "source": [
    "## Which model performs better on your in-sample data?\n",
    "### Takeaway:\n",
    "-  Depth 3 and 5 are identical"
   ]
  },
  {
   "cell_type": "markdown",
   "id": "eecc82a9",
   "metadata": {},
   "source": [
    "### Which model performs best on your out-of-sample data, the validate set?"
   ]
  },
  {
   "cell_type": "code",
   "execution_count": 27,
   "id": "b5bbaae7",
   "metadata": {},
   "outputs": [],
   "source": [
    "def validate_results(d):\n",
    "    ship = decision_tree(train, d = d, print_results = False)\n",
    "    print('')\n",
    "    print(f'For decision tree of depth: {ship.max_depth}')\n",
    "    print('VALIDATE RESULTS')\n",
    "    print('Accuracy of Decision Tree classifier on validate set: {:.2f}'\n",
    "         .format(ship.score(x_validate, y_validate)))\n",
    "\n",
    "\n",
    "    # Produce y_predictions that come from the X_validate\n",
    "    y_pred = ship.predict(x_validate)\n",
    "\n",
    "    # Compare actual y values (from validate) to predicted y_values from the model run on X_validate\n",
    "    print(classification_report(y_validate, y_pred))"
   ]
  },
  {
   "cell_type": "code",
   "execution_count": 28,
   "id": "239b9868",
   "metadata": {},
   "outputs": [
    {
     "name": "stdout",
     "output_type": "stream",
     "text": [
      "\n",
      "For decision tree of depth: 3\n",
      "VALIDATE RESULTS\n",
      "Accuracy of Decision Tree classifier on validate set: 0.79\n",
      "              precision    recall  f1-score   support\n",
      "\n",
      "           0       0.77      0.95      0.85       132\n",
      "           1       0.88      0.54      0.67        82\n",
      "\n",
      "    accuracy                           0.79       214\n",
      "   macro avg       0.82      0.75      0.76       214\n",
      "weighted avg       0.81      0.79      0.78       214\n",
      "\n",
      "\n",
      "For decision tree of depth: 5\n",
      "VALIDATE RESULTS\n",
      "Accuracy of Decision Tree classifier on validate set: 0.79\n",
      "              precision    recall  f1-score   support\n",
      "\n",
      "           0       0.77      0.95      0.85       132\n",
      "           1       0.88      0.54      0.67        82\n",
      "\n",
      "    accuracy                           0.79       214\n",
      "   macro avg       0.82      0.75      0.76       214\n",
      "weighted avg       0.81      0.79      0.78       214\n",
      "\n"
     ]
    }
   ],
   "source": [
    "for i in [3,5]:\n",
    "    validate_results(i)"
   ]
  },
  {
   "cell_type": "markdown",
   "id": "ac65ad42",
   "metadata": {},
   "source": [
    "### Takeaways:\n",
    "- Depth 3 and 5 are identical"
   ]
  },
  {
   "cell_type": "markdown",
   "id": "d4fe8afe",
   "metadata": {},
   "source": [
    "### Work through these same exercises using the Telco dataset.\n",
    "- See Telco_modeling notebook"
   ]
  },
  {
   "cell_type": "markdown",
   "id": "33ec1033",
   "metadata": {},
   "source": [
    "## Exercises Random Forest\n",
    "\n",
    "\n",
    "Continue working in your `model` file with titanic data to do the following: \n",
    "\n",
    "1. Fit the Random Forest classifier to your training sample and transform (i.e. make predictions on the training sample) setting the random_state accordingly and setting min_samples_leaf = 1 and max_depth = 10.\n",
    "\n",
    "1. Evaluate your results using the model score, confusion matrix, and classification report.\n",
    "\n",
    "1. Print and clearly label the following:  Accuracy, true positive rate, false positive rate, true negative rate, false negative rate, precision, recall, f1-score, and support.\n",
    "\n",
    "1. Run through steps increasing your min_samples_leaf and decreasing your max_depth. \n",
    "\n",
    "1. What are the differences in the evaluation metrics?  Which performs better on your in-sample data?  Why?\n",
    "\n",
    "After making a few models, which one has the best performance (or closest metrics) on both train and validate?"
   ]
  },
  {
   "cell_type": "code",
   "execution_count": 29,
   "id": "889e4347",
   "metadata": {},
   "outputs": [
    {
     "name": "stdout",
     "output_type": "stream",
     "text": [
      "Using cached csv\n"
     ]
    }
   ],
   "source": [
    "df=acq.get_titanic_data()"
   ]
  },
  {
   "cell_type": "code",
   "execution_count": 30,
   "id": "4415edd9",
   "metadata": {},
   "outputs": [
    {
     "data": {
      "text/plain": [
       "(891, 13)"
      ]
     },
     "execution_count": 30,
     "metadata": {},
     "output_type": "execute_result"
    }
   ],
   "source": [
    "df.shape"
   ]
  },
  {
   "cell_type": "code",
   "execution_count": 31,
   "id": "6d625b44",
   "metadata": {},
   "outputs": [],
   "source": [
    "df=df.drop(columns = ['passenger_id', 'deck','embarked','class'])"
   ]
  },
  {
   "cell_type": "code",
   "execution_count": 32,
   "id": "c7e8d3be",
   "metadata": {},
   "outputs": [
    {
     "data": {
      "text/html": [
       "<div>\n",
       "<style scoped>\n",
       "    .dataframe tbody tr th:only-of-type {\n",
       "        vertical-align: middle;\n",
       "    }\n",
       "\n",
       "    .dataframe tbody tr th {\n",
       "        vertical-align: top;\n",
       "    }\n",
       "\n",
       "    .dataframe thead th {\n",
       "        text-align: right;\n",
       "    }\n",
       "</style>\n",
       "<table border=\"1\" class=\"dataframe\">\n",
       "  <thead>\n",
       "    <tr style=\"text-align: right;\">\n",
       "      <th></th>\n",
       "      <th>survived</th>\n",
       "      <th>pclass</th>\n",
       "      <th>sex</th>\n",
       "      <th>age</th>\n",
       "      <th>sibsp</th>\n",
       "      <th>parch</th>\n",
       "      <th>fare</th>\n",
       "      <th>embark_town</th>\n",
       "      <th>alone</th>\n",
       "    </tr>\n",
       "  </thead>\n",
       "  <tbody>\n",
       "    <tr>\n",
       "      <th>0</th>\n",
       "      <td>0</td>\n",
       "      <td>3</td>\n",
       "      <td>male</td>\n",
       "      <td>22.0</td>\n",
       "      <td>1</td>\n",
       "      <td>0</td>\n",
       "      <td>7.2500</td>\n",
       "      <td>Southampton</td>\n",
       "      <td>0</td>\n",
       "    </tr>\n",
       "    <tr>\n",
       "      <th>1</th>\n",
       "      <td>1</td>\n",
       "      <td>1</td>\n",
       "      <td>female</td>\n",
       "      <td>38.0</td>\n",
       "      <td>1</td>\n",
       "      <td>0</td>\n",
       "      <td>71.2833</td>\n",
       "      <td>Cherbourg</td>\n",
       "      <td>0</td>\n",
       "    </tr>\n",
       "  </tbody>\n",
       "</table>\n",
       "</div>"
      ],
      "text/plain": [
       "   survived  pclass     sex   age  sibsp  parch     fare  embark_town  alone\n",
       "0         0       3    male  22.0      1      0   7.2500  Southampton      0\n",
       "1         1       1  female  38.0      1      0  71.2833    Cherbourg      0"
      ]
     },
     "execution_count": 32,
     "metadata": {},
     "output_type": "execute_result"
    }
   ],
   "source": [
    "df.head(2)"
   ]
  },
  {
   "cell_type": "code",
   "execution_count": 33,
   "id": "824ef664",
   "metadata": {},
   "outputs": [
    {
     "data": {
      "text/plain": [
       "(712, 9)"
      ]
     },
     "execution_count": 33,
     "metadata": {},
     "output_type": "execute_result"
    }
   ],
   "source": [
    "df=df.dropna()\n",
    "df.shape"
   ]
  },
  {
   "cell_type": "code",
   "execution_count": 34,
   "id": "c5e28c6e",
   "metadata": {},
   "outputs": [],
   "source": [
    "df = pd.get_dummies(df,columns = ['embark_town','sex'], drop_first = True)"
   ]
  },
  {
   "cell_type": "code",
   "execution_count": 35,
   "id": "bba063df",
   "metadata": {},
   "outputs": [
    {
     "data": {
      "text/plain": [
       "((398, 10), (171, 10), (143, 10))"
      ]
     },
     "execution_count": 35,
     "metadata": {},
     "output_type": "execute_result"
    }
   ],
   "source": [
    "train, validate, test = pp.train_validate_test_split(df, target='survived')\n",
    "train.shape, validate.shape, test.shape"
   ]
  },
  {
   "cell_type": "code",
   "execution_count": 36,
   "id": "4f0760bb",
   "metadata": {},
   "outputs": [],
   "source": [
    "train['baseline'] = 0"
   ]
  },
  {
   "cell_type": "code",
   "execution_count": 37,
   "id": "931b5b04",
   "metadata": {},
   "outputs": [
    {
     "name": "stdout",
     "output_type": "stream",
     "text": [
      "Baseline accuracy is: 59.55%\n"
     ]
    }
   ],
   "source": [
    "print(f'Baseline accuracy is: {(train.survived == train.baseline).mean():.2%}')"
   ]
  },
  {
   "cell_type": "code",
   "execution_count": 38,
   "id": "869b744e",
   "metadata": {},
   "outputs": [
    {
     "name": "stdout",
     "output_type": "stream",
     "text": [
      "<class 'pandas.core.frame.DataFrame'>\n",
      "Int64Index: 398 entries, 450 to 749\n",
      "Data columns (total 11 columns):\n",
      " #   Column                   Non-Null Count  Dtype  \n",
      "---  ------                   --------------  -----  \n",
      " 0   survived                 398 non-null    int64  \n",
      " 1   pclass                   398 non-null    int64  \n",
      " 2   age                      398 non-null    float64\n",
      " 3   sibsp                    398 non-null    int64  \n",
      " 4   parch                    398 non-null    int64  \n",
      " 5   fare                     398 non-null    float64\n",
      " 6   alone                    398 non-null    int64  \n",
      " 7   embark_town_Queenstown   398 non-null    uint8  \n",
      " 8   embark_town_Southampton  398 non-null    uint8  \n",
      " 9   sex_male                 398 non-null    uint8  \n",
      " 10  baseline                 398 non-null    int64  \n",
      "dtypes: float64(2), int64(6), uint8(3)\n",
      "memory usage: 29.2 KB\n"
     ]
    }
   ],
   "source": [
    "train.info()"
   ]
  },
  {
   "cell_type": "code",
   "execution_count": 39,
   "id": "b0a6290b",
   "metadata": {},
   "outputs": [],
   "source": [
    "features = ['pclass','embark_town_Queenstown', 'embark_town_Southampton','sex_male']"
   ]
  },
  {
   "cell_type": "code",
   "execution_count": 40,
   "id": "2a5f3e25",
   "metadata": {},
   "outputs": [],
   "source": [
    "def x_and_y(train, validate, test, features, target):\n",
    "    x_train = train[features]\n",
    "    y_train = train[target]\n",
    "    \n",
    "    x_validate = validate[features]\n",
    "    y_validate = validate[target]\n",
    "    \n",
    "    x_test = test[features]\n",
    "    y_test = test[target]\n",
    "    \n",
    "    return {'x_train': x_train, 'y_train': y_train, 'x_validate': x_validate, 'y_validate': y_validate, 'x_test': x_test, 'y_test': y_test}\n",
    "    "
   ]
  },
  {
   "cell_type": "code",
   "execution_count": 41,
   "id": "25898dbd",
   "metadata": {},
   "outputs": [
    {
     "data": {
      "text/plain": [
       "{'x_train':      pclass  embark_town_Queenstown  embark_town_Southampton  sex_male\n",
       " 450       2                       0                        1         1\n",
       " 543       2                       0                        1         1\n",
       " 157       3                       0                        1         1\n",
       " 462       1                       0                        1         1\n",
       " 397       2                       0                        1         1\n",
       " ..      ...                     ...                      ...       ...\n",
       " 820       1                       0                        1         0\n",
       " 673       2                       0                        1         1\n",
       " 310       1                       0                        0         0\n",
       " 72        2                       0                        1         1\n",
       " 749       3                       1                        0         1\n",
       " \n",
       " [398 rows x 4 columns],\n",
       " 'y_train': 450    0\n",
       " 543    1\n",
       " 157    0\n",
       " 462    0\n",
       " 397    0\n",
       "       ..\n",
       " 820    1\n",
       " 673    1\n",
       " 310    1\n",
       " 72     0\n",
       " 749    0\n",
       " Name: survived, Length: 398, dtype: int64,\n",
       " 'x_validate':      pclass  embark_town_Queenstown  embark_town_Southampton  sex_male\n",
       " 610       3                       0                        1         0\n",
       " 56        2                       0                        1         0\n",
       " 664       3                       0                        1         1\n",
       " 830       3                       0                        0         0\n",
       " 92        1                       0                        1         1\n",
       " ..      ...                     ...                      ...       ...\n",
       " 505       1                       0                        0         1\n",
       " 164       3                       0                        1         1\n",
       " 624       3                       0                        1         1\n",
       " 726       2                       0                        1         0\n",
       " 33        2                       0                        1         1\n",
       " \n",
       " [171 rows x 4 columns],\n",
       " 'y_validate': 610    0\n",
       " 56     1\n",
       " 664    1\n",
       " 830    1\n",
       " 92     0\n",
       "       ..\n",
       " 505    0\n",
       " 164    0\n",
       " 624    0\n",
       " 726    1\n",
       " 33     0\n",
       " Name: survived, Length: 171, dtype: int64,\n",
       " 'x_test':      pclass  embark_town_Queenstown  embark_town_Southampton  sex_male\n",
       " 178       2                       0                        1         1\n",
       " 722       2                       0                        1         1\n",
       " 200       3                       0                        1         1\n",
       " 539       1                       0                        0         0\n",
       " 79        3                       0                        1         0\n",
       " 412       1                       1                        0         0\n",
       " 4         3                       0                        1         1\n",
       " 504       1                       0                        1         0\n",
       " 146       3                       0                        1         1\n",
       " 38        3                       0                        1         0\n",
       " 508       3                       0                        1         1\n",
       " 635       2                       0                        1         0\n",
       " 808       2                       0                        1         1\n",
       " 131       3                       0                        1         1\n",
       " 671       1                       0                        1         1\n",
       " 675       3                       0                        1         1\n",
       " 377       1                       0                        0         1\n",
       " 239       2                       0                        1         1\n",
       " 81        3                       0                        1         1\n",
       " 342       2                       0                        1         1\n",
       " 668       3                       0                        1         1\n",
       " 488       3                       0                        1         1\n",
       " 89        3                       0                        1         1\n",
       " 133       2                       0                        1         0\n",
       " 345       2                       0                        1         0\n",
       " 144       2                       0                        1         1\n",
       " 125       3                       0                        0         1\n",
       " 106       3                       0                        1         0\n",
       " 105       3                       0                        1         1\n",
       " 708       1                       0                        1         0\n",
       " 484       1                       0                        0         1\n",
       " 843       3                       0                        0         1\n",
       " 265       2                       0                        1         1\n",
       " 694       1                       0                        1         1\n",
       " 1         1                       0                        0         0\n",
       " 438       1                       0                        1         1\n",
       " 316       2                       0                        1         0\n",
       " 867       1                       0                        1         1\n",
       " 40        3                       0                        1         0\n",
       " 609       1                       0                        1         0\n",
       " 723       2                       0                        1         1\n",
       " 885       3                       1                        0         0\n",
       " 419       3                       0                        1         0\n",
       " 687       3                       0                        1         1\n",
       " 659       1                       0                        0         1\n",
       " 467       1                       0                        1         1\n",
       " 225       3                       0                        1         1\n",
       " 372       3                       0                        1         1\n",
       " 626       2                       1                        0         1\n",
       " 618       2                       0                        1         0\n",
       " 877       3                       0                        1         1\n",
       " 786       3                       0                        1         0\n",
       " 713       3                       0                        1         1\n",
       " 630       1                       0                        1         1\n",
       " 244       3                       0                        0         1\n",
       " 743       3                       0                        1         1\n",
       " 483       3                       0                        1         0\n",
       " 764       3                       0                        1         1\n",
       " 389       2                       0                        0         0\n",
       " 261       3                       0                        1         1\n",
       " 585       1                       0                        1         0\n",
       " 253       3                       0                        1         1\n",
       " 736       3                       0                        1         0\n",
       " 383       1                       0                        1         0\n",
       " 234       2                       0                        1         1\n",
       " 153       3                       0                        1         1\n",
       " 314       2                       0                        1         1\n",
       " 127       3                       0                        1         1\n",
       " 259       2                       0                        1         0\n",
       " 23        1                       0                        1         1\n",
       " 71        3                       0                        1         0\n",
       " 439       2                       0                        1         1\n",
       " 757       2                       0                        1         1\n",
       " 471       3                       0                        1         1\n",
       " 282       3                       0                        1         1\n",
       " 586       2                       0                        1         1\n",
       " 52        1                       0                        0         0\n",
       " 583       1                       0                        0         1\n",
       " 369       1                       0                        0         0\n",
       " 399       2                       0                        1         0\n",
       " 575       3                       0                        1         1\n",
       " 193       2                       0                        1         1\n",
       " 114       3                       0                        0         0\n",
       " 138       3                       0                        1         1\n",
       " 220       3                       0                        1         1\n",
       " 113       3                       0                        1         0\n",
       " 728       2                       0                        1         1\n",
       " 175       3                       0                        1         1\n",
       " 802       1                       0                        1         1\n",
       " 11        1                       0                        1         0\n",
       " 85        3                       0                        1         0\n",
       " 39        3                       0                        0         0\n",
       " 7         3                       0                        1         1\n",
       " 59        3                       0                        1         1\n",
       " 546       2                       0                        1         0\n",
       " 376       3                       0                        1         0\n",
       " 381       3                       0                        0         0\n",
       " 703       3                       1                        0         1\n",
       " 480       3                       0                        1         1\n",
       " 8         3                       0                        1         0\n",
       " 603       3                       0                        1         1\n",
       " 880       2                       0                        1         0\n",
       " 658       2                       0                        1         1\n",
       " 875       3                       0                        0         0\n",
       " 363       3                       0                        1         1\n",
       " 806       1                       0                        1         1\n",
       " 541       3                       0                        1         0\n",
       " 810       3                       0                        1         1\n",
       " 66        2                       0                        1         0\n",
       " 165       3                       0                        1         1\n",
       " 134       2                       0                        1         1\n",
       " 748       1                       0                        1         1\n",
       " 100       3                       0                        1         0\n",
       " 840       3                       0                        1         1\n",
       " 423       3                       0                        1         0\n",
       " 302       3                       0                        1         1\n",
       " 797       3                       0                        1         0\n",
       " 556       1                       0                        0         0\n",
       " 845       3                       0                        1         1\n",
       " 230       1                       0                        1         0\n",
       " 155       1                       0                        0         1\n",
       " 724       1                       0                        1         1\n",
       " 213       2                       0                        1         1\n",
       " 290       1                       0                        1         0\n",
       " 860       3                       0                        1         1\n",
       " 534       3                       0                        1         0\n",
       " 701       1                       0                        1         1\n",
       " 130       3                       0                        0         1\n",
       " 179       3                       0                        1         1\n",
       " 771       3                       0                        1         1\n",
       " 716       1                       0                        0         0\n",
       " 210       3                       0                        1         1\n",
       " 453       1                       0                        0         1\n",
       " 93        3                       0                        1         1\n",
       " 765       1                       0                        1         0\n",
       " 530       2                       0                        1         0\n",
       " 558       1                       0                        1         0\n",
       " 122       2                       0                        0         1\n",
       " 98        2                       0                        1         0\n",
       " 857       1                       0                        1         1\n",
       " 6         1                       0                        1         1\n",
       " 357       2                       0                        1         0\n",
       " 58        2                       0                        1         0,\n",
       " 'y_test': 178    0\n",
       " 722    0\n",
       " 200    0\n",
       " 539    1\n",
       " 79     1\n",
       " 412    1\n",
       " 4      0\n",
       " 504    1\n",
       " 146    1\n",
       " 38     0\n",
       " 508    0\n",
       " 635    1\n",
       " 808    0\n",
       " 131    0\n",
       " 671    0\n",
       " 675    0\n",
       " 377    0\n",
       " 239    0\n",
       " 81     1\n",
       " 342    0\n",
       " 668    0\n",
       " 488    0\n",
       " 89     0\n",
       " 133    1\n",
       " 345    1\n",
       " 144    0\n",
       " 125    1\n",
       " 106    1\n",
       " 105    0\n",
       " 708    1\n",
       " 484    1\n",
       " 843    0\n",
       " 265    0\n",
       " 694    0\n",
       " 1      1\n",
       " 438    0\n",
       " 316    1\n",
       " 867    0\n",
       " 40     0\n",
       " 609    1\n",
       " 723    0\n",
       " 885    0\n",
       " 419    0\n",
       " 687    0\n",
       " 659    0\n",
       " 467    0\n",
       " 225    0\n",
       " 372    0\n",
       " 626    0\n",
       " 618    1\n",
       " 877    0\n",
       " 786    1\n",
       " 713    0\n",
       " 630    1\n",
       " 244    0\n",
       " 743    0\n",
       " 483    1\n",
       " 764    0\n",
       " 389    1\n",
       " 261    1\n",
       " 585    1\n",
       " 253    0\n",
       " 736    0\n",
       " 383    1\n",
       " 234    0\n",
       " 153    0\n",
       " 314    0\n",
       " 127    1\n",
       " 259    1\n",
       " 23     1\n",
       " 71     0\n",
       " 439    0\n",
       " 757    0\n",
       " 471    0\n",
       " 282    0\n",
       " 586    0\n",
       " 52     1\n",
       " 583    0\n",
       " 369    1\n",
       " 399    1\n",
       " 575    0\n",
       " 193    1\n",
       " 114    0\n",
       " 138    0\n",
       " 220    1\n",
       " 113    0\n",
       " 728    0\n",
       " 175    0\n",
       " 802    1\n",
       " 11     1\n",
       " 85     1\n",
       " 39     1\n",
       " 7      0\n",
       " 59     0\n",
       " 546    1\n",
       " 376    1\n",
       " 381    1\n",
       " 703    0\n",
       " 480    0\n",
       " 8      1\n",
       " 603    0\n",
       " 880    1\n",
       " 658    0\n",
       " 875    1\n",
       " 363    0\n",
       " 806    0\n",
       " 541    0\n",
       " 810    0\n",
       " 66     1\n",
       " 165    1\n",
       " 134    0\n",
       " 748    0\n",
       " 100    0\n",
       " 840    0\n",
       " 423    0\n",
       " 302    0\n",
       " 797    1\n",
       " 556    1\n",
       " 845    0\n",
       " 230    1\n",
       " 155    0\n",
       " 724    1\n",
       " 213    0\n",
       " 290    1\n",
       " 860    0\n",
       " 534    0\n",
       " 701    1\n",
       " 130    0\n",
       " 179    0\n",
       " 771    0\n",
       " 716    1\n",
       " 210    0\n",
       " 453    1\n",
       " 93     0\n",
       " 765    1\n",
       " 530    1\n",
       " 558    1\n",
       " 122    0\n",
       " 98     1\n",
       " 857    1\n",
       " 6      0\n",
       " 357    0\n",
       " 58     1\n",
       " Name: survived, dtype: int64}"
      ]
     },
     "execution_count": 41,
     "metadata": {},
     "output_type": "execute_result"
    }
   ],
   "source": [
    "x_and_y(train,validate,test,features, target = 'survived')"
   ]
  },
  {
   "cell_type": "code",
   "execution_count": 42,
   "id": "3247f979",
   "metadata": {},
   "outputs": [
    {
     "data": {
      "text/html": [
       "<div>\n",
       "<style scoped>\n",
       "    .dataframe tbody tr th:only-of-type {\n",
       "        vertical-align: middle;\n",
       "    }\n",
       "\n",
       "    .dataframe tbody tr th {\n",
       "        vertical-align: top;\n",
       "    }\n",
       "\n",
       "    .dataframe thead th {\n",
       "        text-align: right;\n",
       "    }\n",
       "</style>\n",
       "<table border=\"1\" class=\"dataframe\">\n",
       "  <thead>\n",
       "    <tr style=\"text-align: right;\">\n",
       "      <th></th>\n",
       "      <th>pclass</th>\n",
       "      <th>embark_town_Queenstown</th>\n",
       "      <th>embark_town_Southampton</th>\n",
       "      <th>sex_male</th>\n",
       "    </tr>\n",
       "  </thead>\n",
       "  <tbody>\n",
       "    <tr>\n",
       "      <th>583</th>\n",
       "      <td>1</td>\n",
       "      <td>0</td>\n",
       "      <td>0</td>\n",
       "      <td>1</td>\n",
       "    </tr>\n",
       "    <tr>\n",
       "      <th>165</th>\n",
       "      <td>3</td>\n",
       "      <td>0</td>\n",
       "      <td>1</td>\n",
       "      <td>1</td>\n",
       "    </tr>\n",
       "    <tr>\n",
       "      <th>50</th>\n",
       "      <td>3</td>\n",
       "      <td>0</td>\n",
       "      <td>1</td>\n",
       "      <td>1</td>\n",
       "    </tr>\n",
       "    <tr>\n",
       "      <th>259</th>\n",
       "      <td>2</td>\n",
       "      <td>0</td>\n",
       "      <td>1</td>\n",
       "      <td>0</td>\n",
       "    </tr>\n",
       "    <tr>\n",
       "      <th>306</th>\n",
       "      <td>1</td>\n",
       "      <td>0</td>\n",
       "      <td>0</td>\n",
       "      <td>0</td>\n",
       "    </tr>\n",
       "    <tr>\n",
       "      <th>...</th>\n",
       "      <td>...</td>\n",
       "      <td>...</td>\n",
       "      <td>...</td>\n",
       "      <td>...</td>\n",
       "    </tr>\n",
       "    <tr>\n",
       "      <th>313</th>\n",
       "      <td>3</td>\n",
       "      <td>0</td>\n",
       "      <td>1</td>\n",
       "      <td>1</td>\n",
       "    </tr>\n",
       "    <tr>\n",
       "      <th>636</th>\n",
       "      <td>3</td>\n",
       "      <td>0</td>\n",
       "      <td>1</td>\n",
       "      <td>1</td>\n",
       "    </tr>\n",
       "    <tr>\n",
       "      <th>222</th>\n",
       "      <td>3</td>\n",
       "      <td>0</td>\n",
       "      <td>1</td>\n",
       "      <td>1</td>\n",
       "    </tr>\n",
       "    <tr>\n",
       "      <th>485</th>\n",
       "      <td>3</td>\n",
       "      <td>0</td>\n",
       "      <td>1</td>\n",
       "      <td>0</td>\n",
       "    </tr>\n",
       "    <tr>\n",
       "      <th>744</th>\n",
       "      <td>3</td>\n",
       "      <td>0</td>\n",
       "      <td>1</td>\n",
       "      <td>1</td>\n",
       "    </tr>\n",
       "  </tbody>\n",
       "</table>\n",
       "<p>498 rows × 4 columns</p>\n",
       "</div>"
      ],
      "text/plain": [
       "     pclass  embark_town_Queenstown  embark_town_Southampton  sex_male\n",
       "583       1                       0                        0         1\n",
       "165       3                       0                        1         1\n",
       "50        3                       0                        1         1\n",
       "259       2                       0                        1         0\n",
       "306       1                       0                        0         0\n",
       "..      ...                     ...                      ...       ...\n",
       "313       3                       0                        1         1\n",
       "636       3                       0                        1         1\n",
       "222       3                       0                        1         1\n",
       "485       3                       0                        1         0\n",
       "744       3                       0                        1         1\n",
       "\n",
       "[498 rows x 4 columns]"
      ]
     },
     "execution_count": 42,
     "metadata": {},
     "output_type": "execute_result"
    }
   ],
   "source": [
    "x_train"
   ]
  },
  {
   "cell_type": "code",
   "execution_count": 43,
   "id": "efaa0111",
   "metadata": {},
   "outputs": [
    {
     "data": {
      "text/html": [
       "<div>\n",
       "<style scoped>\n",
       "    .dataframe tbody tr th:only-of-type {\n",
       "        vertical-align: middle;\n",
       "    }\n",
       "\n",
       "    .dataframe tbody tr th {\n",
       "        vertical-align: top;\n",
       "    }\n",
       "\n",
       "    .dataframe thead th {\n",
       "        text-align: right;\n",
       "    }\n",
       "</style>\n",
       "<table border=\"1\" class=\"dataframe\">\n",
       "  <thead>\n",
       "    <tr style=\"text-align: right;\">\n",
       "      <th></th>\n",
       "      <th>survived</th>\n",
       "    </tr>\n",
       "  </thead>\n",
       "  <tbody>\n",
       "    <tr>\n",
       "      <th>583</th>\n",
       "      <td>0</td>\n",
       "    </tr>\n",
       "    <tr>\n",
       "      <th>165</th>\n",
       "      <td>1</td>\n",
       "    </tr>\n",
       "    <tr>\n",
       "      <th>50</th>\n",
       "      <td>0</td>\n",
       "    </tr>\n",
       "    <tr>\n",
       "      <th>259</th>\n",
       "      <td>1</td>\n",
       "    </tr>\n",
       "    <tr>\n",
       "      <th>306</th>\n",
       "      <td>1</td>\n",
       "    </tr>\n",
       "    <tr>\n",
       "      <th>...</th>\n",
       "      <td>...</td>\n",
       "    </tr>\n",
       "    <tr>\n",
       "      <th>313</th>\n",
       "      <td>0</td>\n",
       "    </tr>\n",
       "    <tr>\n",
       "      <th>636</th>\n",
       "      <td>0</td>\n",
       "    </tr>\n",
       "    <tr>\n",
       "      <th>222</th>\n",
       "      <td>0</td>\n",
       "    </tr>\n",
       "    <tr>\n",
       "      <th>485</th>\n",
       "      <td>0</td>\n",
       "    </tr>\n",
       "    <tr>\n",
       "      <th>744</th>\n",
       "      <td>1</td>\n",
       "    </tr>\n",
       "  </tbody>\n",
       "</table>\n",
       "<p>498 rows × 1 columns</p>\n",
       "</div>"
      ],
      "text/plain": [
       "     survived\n",
       "583         0\n",
       "165         1\n",
       "50          0\n",
       "259         1\n",
       "306         1\n",
       "..        ...\n",
       "313         0\n",
       "636         0\n",
       "222         0\n",
       "485         0\n",
       "744         1\n",
       "\n",
       "[498 rows x 1 columns]"
      ]
     },
     "execution_count": 43,
     "metadata": {},
     "output_type": "execute_result"
    }
   ],
   "source": [
    "y_train"
   ]
  },
  {
   "cell_type": "markdown",
   "id": "41bef335",
   "metadata": {},
   "source": [
    "### Train Model"
   ]
  },
  {
   "cell_type": "code",
   "execution_count": 44,
   "id": "bbed3383",
   "metadata": {},
   "outputs": [],
   "source": [
    "# ignore warnings\n",
    "import warnings\n",
    "warnings.filterwarnings(\"ignore\")\n",
    "\n",
    "import numpy as np\n",
    "\n",
    "from sklearn.model_selection import train_test_split\n",
    "from sklearn.ensemble import RandomForestClassifier\n",
    "from sklearn.metrics import classification_report\n",
    "from sklearn.metrics import confusion_matrix\n",
    "\n",
    "\n",
    "import matplotlib.pyplot as plt\n",
    "%matplotlib inline\n",
    "import seaborn as sns\n",
    "\n",
    "\n",
    "from pydataset import data"
   ]
  },
  {
   "cell_type": "code",
   "execution_count": 45,
   "id": "b397fafd",
   "metadata": {},
   "outputs": [],
   "source": [
    "rf = RandomForestClassifier(max_depth=3, \n",
    "                            random_state=123)"
   ]
  },
  {
   "cell_type": "code",
   "execution_count": 46,
   "id": "aa331605",
   "metadata": {},
   "outputs": [
    {
     "data": {
      "text/plain": [
       "RandomForestClassifier(max_depth=3, random_state=123)"
      ]
     },
     "execution_count": 46,
     "metadata": {},
     "output_type": "execute_result"
    }
   ],
   "source": [
    "# Fit the model\n",
    "rf.fit(x_train,y_train)"
   ]
  },
  {
   "cell_type": "code",
   "execution_count": 47,
   "id": "82836139",
   "metadata": {},
   "outputs": [
    {
     "name": "stdout",
     "output_type": "stream",
     "text": [
      "[0.2549494  0.02162778 0.03081401 0.69260881]\n"
     ]
    }
   ],
   "source": [
    "# Feature importance\n",
    "print(rf.feature_importances_)"
   ]
  },
  {
   "cell_type": "code",
   "execution_count": 48,
   "id": "8942b203",
   "metadata": {},
   "outputs": [
    {
     "data": {
      "text/plain": [
       "array([0, 0, 0, 1, 1, 0, 0, 0, 0, 0, 0, 0, 1, 0, 0, 0, 0, 1, 0, 0, 0, 0,\n",
       "       1, 1, 0, 0, 1, 1, 0, 0, 0, 0, 0, 0, 1, 0, 0, 1, 0, 1, 0, 0, 0, 1,\n",
       "       0, 0, 0, 0, 1, 0, 0, 0, 1, 1, 0, 1, 0, 1, 0, 0, 0, 0, 0, 0, 0, 0,\n",
       "       0, 0, 0, 1, 0, 0, 1, 0, 0, 0, 0, 0, 0, 0, 0, 1, 0, 0, 0, 0, 1, 0,\n",
       "       0, 0, 0, 0, 0, 1, 0, 0, 1, 0, 0, 1, 0, 0, 1, 0, 1, 1, 0, 0, 0, 0,\n",
       "       0, 0, 0, 0, 0, 1, 0, 0, 1, 1, 0, 0, 0, 0, 0, 1, 1, 0, 0, 0, 1, 0,\n",
       "       0, 1, 0, 0, 0, 0, 0, 0, 1, 0, 0, 0, 0, 0, 1, 1, 1, 1, 0, 1, 1, 0,\n",
       "       0, 0, 0, 0, 1, 0, 0, 1, 0, 0, 0, 0, 0, 0, 0, 0, 0, 1, 1, 0, 0, 0,\n",
       "       1, 0, 0, 0, 0, 0, 0, 1, 0, 1, 0, 1, 1, 0, 0, 1, 0, 0, 1, 1, 0, 0,\n",
       "       0, 0, 0, 1, 1, 0, 0, 0, 0, 0, 0, 1, 0, 0, 0, 0, 1, 0, 0, 0, 1, 0,\n",
       "       1, 0, 0, 1, 0, 0, 0, 0, 0, 0, 0, 0, 0, 0, 0, 1, 0, 0, 0, 0, 0, 0,\n",
       "       1, 0, 1, 0, 1, 0, 0, 1, 0, 0, 0, 0, 0, 1, 1, 1, 1, 0, 0, 0, 1, 1,\n",
       "       0, 0, 0, 0, 0, 0, 0, 0, 0, 1, 0, 0, 0, 0, 0, 0, 0, 1, 1, 1, 0, 0,\n",
       "       1, 0, 0, 0, 0, 0, 0, 0, 0, 0, 0, 0, 0, 0, 0, 0, 0, 1, 0, 0, 1, 0,\n",
       "       0, 1, 0, 0, 0, 1, 0, 1, 0, 1, 0, 0, 0, 0, 1, 0, 0, 0, 0, 0, 0, 1,\n",
       "       0, 0, 1, 0, 0, 1, 0, 1, 0, 0, 0, 1, 1, 0, 0, 1, 0, 0, 0, 0, 1, 0,\n",
       "       0, 1, 1, 1, 1, 0, 1, 0, 0, 0, 1, 0, 0, 0, 0, 0, 0, 0, 0, 0, 0, 0,\n",
       "       0, 0, 1, 1, 1, 0, 0, 1, 1, 0, 0, 1, 0, 0, 0, 0, 0, 0, 0, 1, 0, 0,\n",
       "       1, 0, 0, 0, 0, 1, 0, 0, 0, 0, 0, 0, 0, 0, 0, 0, 0, 0, 1, 1, 1, 0,\n",
       "       1, 0, 0, 0, 0, 1, 0, 1, 0, 1, 0, 1, 0, 0, 0, 0, 1, 0, 1, 0, 1, 0,\n",
       "       0, 0, 0, 0, 0, 0, 0, 0, 0, 0, 0, 1, 0, 0, 1, 0, 0, 0, 0, 0, 0, 0,\n",
       "       1, 0, 0, 1, 0, 0, 0, 0, 1, 0, 0, 0, 0, 0, 1, 0, 0, 0, 0, 1, 0, 1,\n",
       "       0, 0, 0, 0, 0, 0, 1, 0, 1, 0, 0, 0, 0, 0])"
      ]
     },
     "execution_count": 48,
     "metadata": {},
     "output_type": "execute_result"
    }
   ],
   "source": [
    "y_pred = rf.predict(x_train)\n",
    "y_pred"
   ]
  },
  {
   "cell_type": "code",
   "execution_count": 49,
   "id": "844364df",
   "metadata": {},
   "outputs": [
    {
     "data": {
      "text/plain": [
       "array([[0.64691191, 0.35308809],\n",
       "       [0.87617731, 0.12382269],\n",
       "       [0.87617731, 0.12382269],\n",
       "       [0.09916049, 0.90083951],\n",
       "       [0.06618338, 0.93381662],\n",
       "       [0.74993003, 0.25006997],\n",
       "       [0.78508208, 0.21491792],\n",
       "       [0.78508208, 0.21491792],\n",
       "       [0.87075847, 0.12924153],\n",
       "       [0.5901263 , 0.4098737 ],\n",
       "       [0.5901263 , 0.4098737 ],\n",
       "       [0.65184688, 0.34815312],\n",
       "       [0.09916049, 0.90083951],\n",
       "       [0.65184688, 0.34815312],\n",
       "       [0.78508208, 0.21491792],\n",
       "       [0.87617731, 0.12382269],\n",
       "       [0.87617731, 0.12382269],\n",
       "       [0.25481767, 0.74518233],\n",
       "       [0.78508208, 0.21491792],\n",
       "       [0.5901263 , 0.4098737 ],\n",
       "       [0.5901263 , 0.4098737 ],\n",
       "       [0.87617731, 0.12382269],\n",
       "       [0.08150039, 0.91849961],\n",
       "       [0.08150039, 0.91849961],\n",
       "       [0.65184688, 0.34815312],\n",
       "       [0.87617731, 0.12382269],\n",
       "       [0.08451577, 0.91548423],\n",
       "       [0.06618338, 0.93381662],\n",
       "       [0.65184688, 0.34815312],\n",
       "       [0.78508208, 0.21491792],\n",
       "       [0.87617731, 0.12382269],\n",
       "       [0.78508208, 0.21491792],\n",
       "       [0.87617731, 0.12382269],\n",
       "       [0.87617731, 0.12382269],\n",
       "       [0.09916049, 0.90083951],\n",
       "       [0.78508208, 0.21491792],\n",
       "       [0.78508208, 0.21491792],\n",
       "       [0.09916049, 0.90083951],\n",
       "       [0.87617731, 0.12382269],\n",
       "       [0.09916049, 0.90083951],\n",
       "       [0.87617731, 0.12382269],\n",
       "       [0.87617731, 0.12382269],\n",
       "       [0.5901263 , 0.4098737 ],\n",
       "       [0.08451577, 0.91548423],\n",
       "       [0.65184688, 0.34815312],\n",
       "       [0.87617731, 0.12382269],\n",
       "       [0.87075847, 0.12924153],\n",
       "       [0.87617731, 0.12382269],\n",
       "       [0.25481767, 0.74518233],\n",
       "       [0.87617731, 0.12382269],\n",
       "       [0.87617731, 0.12382269],\n",
       "       [0.78508208, 0.21491792],\n",
       "       [0.08150039, 0.91849961],\n",
       "       [0.06618338, 0.93381662],\n",
       "       [0.87617731, 0.12382269],\n",
       "       [0.41786131, 0.58213869],\n",
       "       [0.87617731, 0.12382269],\n",
       "       [0.09916049, 0.90083951],\n",
       "       [0.5901263 , 0.4098737 ],\n",
       "       [0.87617731, 0.12382269],\n",
       "       [0.74993003, 0.25006997],\n",
       "       [0.78508208, 0.21491792],\n",
       "       [0.84088266, 0.15911734],\n",
       "       [0.78508208, 0.21491792],\n",
       "       [0.87617731, 0.12382269],\n",
       "       [0.87075847, 0.12924153],\n",
       "       [0.84088266, 0.15911734],\n",
       "       [0.87617731, 0.12382269],\n",
       "       [0.87075847, 0.12924153],\n",
       "       [0.09916049, 0.90083951],\n",
       "       [0.87075847, 0.12924153],\n",
       "       [0.87617731, 0.12382269],\n",
       "       [0.09916049, 0.90083951],\n",
       "       [0.64691191, 0.35308809],\n",
       "       [0.87075847, 0.12924153],\n",
       "       [0.64691191, 0.35308809],\n",
       "       [0.87617731, 0.12382269],\n",
       "       [0.78508208, 0.21491792],\n",
       "       [0.87617731, 0.12382269],\n",
       "       [0.87617731, 0.12382269],\n",
       "       [0.78508208, 0.21491792],\n",
       "       [0.06618338, 0.93381662],\n",
       "       [0.87617731, 0.12382269],\n",
       "       [0.78508208, 0.21491792],\n",
       "       [0.87617731, 0.12382269],\n",
       "       [0.87075847, 0.12924153],\n",
       "       [0.06618338, 0.93381662],\n",
       "       [0.5901263 , 0.4098737 ],\n",
       "       [0.5901263 , 0.4098737 ],\n",
       "       [0.78508208, 0.21491792],\n",
       "       [0.87617731, 0.12382269],\n",
       "       [0.87075847, 0.12924153],\n",
       "       [0.5901263 , 0.4098737 ],\n",
       "       [0.08150039, 0.91849961],\n",
       "       [0.78508208, 0.21491792],\n",
       "       [0.87617731, 0.12382269],\n",
       "       [0.06618338, 0.93381662],\n",
       "       [0.64691191, 0.35308809],\n",
       "       [0.64691191, 0.35308809],\n",
       "       [0.06618338, 0.93381662],\n",
       "       [0.87617731, 0.12382269],\n",
       "       [0.64691191, 0.35308809],\n",
       "       [0.09916049, 0.90083951],\n",
       "       [0.87617731, 0.12382269],\n",
       "       [0.08150039, 0.91849961],\n",
       "       [0.08150039, 0.91849961],\n",
       "       [0.87617731, 0.12382269],\n",
       "       [0.78508208, 0.21491792],\n",
       "       [0.87617731, 0.12382269],\n",
       "       [0.87617731, 0.12382269],\n",
       "       [0.65184688, 0.34815312],\n",
       "       [0.65184688, 0.34815312],\n",
       "       [0.78508208, 0.21491792],\n",
       "       [0.84088266, 0.15911734],\n",
       "       [0.5901263 , 0.4098737 ],\n",
       "       [0.09916049, 0.90083951],\n",
       "       [0.87617731, 0.12382269],\n",
       "       [0.87617731, 0.12382269],\n",
       "       [0.08150039, 0.91849961],\n",
       "       [0.09916049, 0.90083951],\n",
       "       [0.5901263 , 0.4098737 ],\n",
       "       [0.84088266, 0.15911734],\n",
       "       [0.65184688, 0.34815312],\n",
       "       [0.5901263 , 0.4098737 ],\n",
       "       [0.78508208, 0.21491792],\n",
       "       [0.09916049, 0.90083951],\n",
       "       [0.09916049, 0.90083951],\n",
       "       [0.64691191, 0.35308809],\n",
       "       [0.5901263 , 0.4098737 ],\n",
       "       [0.5901263 , 0.4098737 ],\n",
       "       [0.25481767, 0.74518233],\n",
       "       [0.87617731, 0.12382269],\n",
       "       [0.5901263 , 0.4098737 ],\n",
       "       [0.09916049, 0.90083951],\n",
       "       [0.78508208, 0.21491792],\n",
       "       [0.87617731, 0.12382269],\n",
       "       [0.87075847, 0.12924153],\n",
       "       [0.87617731, 0.12382269],\n",
       "       [0.78508208, 0.21491792],\n",
       "       [0.64691191, 0.35308809],\n",
       "       [0.09916049, 0.90083951],\n",
       "       [0.65184688, 0.34815312],\n",
       "       [0.65184688, 0.34815312],\n",
       "       [0.87075847, 0.12924153],\n",
       "       [0.78508208, 0.21491792],\n",
       "       [0.65184688, 0.34815312],\n",
       "       [0.06618338, 0.93381662],\n",
       "       [0.09916049, 0.90083951],\n",
       "       [0.06618338, 0.93381662],\n",
       "       [0.06618338, 0.93381662],\n",
       "       [0.78508208, 0.21491792],\n",
       "       [0.09916049, 0.90083951],\n",
       "       [0.06618338, 0.93381662],\n",
       "       [0.87617731, 0.12382269],\n",
       "       [0.5901263 , 0.4098737 ],\n",
       "       [0.87617731, 0.12382269],\n",
       "       [0.87617731, 0.12382269],\n",
       "       [0.87617731, 0.12382269],\n",
       "       [0.25481767, 0.74518233],\n",
       "       [0.87617731, 0.12382269],\n",
       "       [0.64691191, 0.35308809],\n",
       "       [0.09916049, 0.90083951],\n",
       "       [0.78508208, 0.21491792],\n",
       "       [0.5901263 , 0.4098737 ],\n",
       "       [0.87617731, 0.12382269],\n",
       "       [0.84088266, 0.15911734],\n",
       "       [0.87617731, 0.12382269],\n",
       "       [0.87617731, 0.12382269],\n",
       "       [0.78508208, 0.21491792],\n",
       "       [0.87617731, 0.12382269],\n",
       "       [0.78508208, 0.21491792],\n",
       "       [0.06618338, 0.93381662],\n",
       "       [0.25481767, 0.74518233],\n",
       "       [0.87075847, 0.12924153],\n",
       "       [0.65184688, 0.34815312],\n",
       "       [0.65184688, 0.34815312],\n",
       "       [0.08150039, 0.91849961],\n",
       "       [0.84088266, 0.15911734],\n",
       "       [0.87617731, 0.12382269],\n",
       "       [0.65184688, 0.34815312],\n",
       "       [0.87617731, 0.12382269],\n",
       "       [0.87617731, 0.12382269],\n",
       "       [0.87617731, 0.12382269],\n",
       "       [0.06618338, 0.93381662],\n",
       "       [0.87617731, 0.12382269],\n",
       "       [0.25481767, 0.74518233],\n",
       "       [0.78508208, 0.21491792],\n",
       "       [0.09916049, 0.90083951],\n",
       "       [0.25481767, 0.74518233],\n",
       "       [0.5901263 , 0.4098737 ],\n",
       "       [0.74993003, 0.25006997],\n",
       "       [0.08150039, 0.91849961],\n",
       "       [0.87617731, 0.12382269],\n",
       "       [0.78508208, 0.21491792],\n",
       "       [0.08150039, 0.91849961],\n",
       "       [0.25481767, 0.74518233],\n",
       "       [0.78508208, 0.21491792],\n",
       "       [0.87617731, 0.12382269],\n",
       "       [0.87617731, 0.12382269],\n",
       "       [0.87617731, 0.12382269],\n",
       "       [0.87617731, 0.12382269],\n",
       "       [0.08150039, 0.91849961],\n",
       "       [0.06618338, 0.93381662],\n",
       "       [0.65184688, 0.34815312],\n",
       "       [0.87617731, 0.12382269],\n",
       "       [0.87617731, 0.12382269],\n",
       "       [0.78508208, 0.21491792],\n",
       "       [0.65184688, 0.34815312],\n",
       "       [0.87617731, 0.12382269],\n",
       "       [0.08451577, 0.91548423],\n",
       "       [0.5901263 , 0.4098737 ],\n",
       "       [0.87617731, 0.12382269],\n",
       "       [0.84088266, 0.15911734],\n",
       "       [0.5901263 , 0.4098737 ],\n",
       "       [0.08150039, 0.91849961],\n",
       "       [0.65184688, 0.34815312],\n",
       "       [0.87617731, 0.12382269],\n",
       "       [0.87075847, 0.12924153],\n",
       "       [0.09916049, 0.90083951],\n",
       "       [0.87617731, 0.12382269],\n",
       "       [0.41786131, 0.58213869],\n",
       "       [0.87617731, 0.12382269],\n",
       "       [0.87617731, 0.12382269],\n",
       "       [0.08150039, 0.91849961],\n",
       "       [0.84088266, 0.15911734],\n",
       "       [0.87617731, 0.12382269],\n",
       "       [0.65184688, 0.34815312],\n",
       "       [0.87617731, 0.12382269],\n",
       "       [0.87617731, 0.12382269],\n",
       "       [0.87617731, 0.12382269],\n",
       "       [0.78508208, 0.21491792],\n",
       "       [0.87617731, 0.12382269],\n",
       "       [0.87617731, 0.12382269],\n",
       "       [0.87617731, 0.12382269],\n",
       "       [0.87617731, 0.12382269],\n",
       "       [0.09916049, 0.90083951],\n",
       "       [0.5901263 , 0.4098737 ],\n",
       "       [0.84088266, 0.15911734],\n",
       "       [0.78508208, 0.21491792],\n",
       "       [0.5901263 , 0.4098737 ],\n",
       "       [0.87617731, 0.12382269],\n",
       "       [0.5901263 , 0.4098737 ],\n",
       "       [0.09916049, 0.90083951],\n",
       "       [0.78508208, 0.21491792],\n",
       "       [0.08150039, 0.91849961],\n",
       "       [0.84088266, 0.15911734],\n",
       "       [0.06618338, 0.93381662],\n",
       "       [0.84088266, 0.15911734],\n",
       "       [0.87617731, 0.12382269],\n",
       "       [0.09916049, 0.90083951],\n",
       "       [0.87617731, 0.12382269],\n",
       "       [0.78508208, 0.21491792],\n",
       "       [0.87617731, 0.12382269],\n",
       "       [0.65184688, 0.34815312],\n",
       "       [0.87617731, 0.12382269],\n",
       "       [0.41786131, 0.58213869],\n",
       "       [0.25481767, 0.74518233],\n",
       "       [0.06618338, 0.93381662],\n",
       "       [0.06618338, 0.93381662],\n",
       "       [0.5901263 , 0.4098737 ],\n",
       "       [0.78508208, 0.21491792],\n",
       "       [0.87617731, 0.12382269],\n",
       "       [0.25481767, 0.74518233],\n",
       "       [0.06618338, 0.93381662],\n",
       "       [0.87617731, 0.12382269],\n",
       "       [0.78508208, 0.21491792],\n",
       "       [0.5901263 , 0.4098737 ],\n",
       "       [0.87617731, 0.12382269],\n",
       "       [0.87617731, 0.12382269],\n",
       "       [0.5901263 , 0.4098737 ],\n",
       "       [0.87617731, 0.12382269],\n",
       "       [0.64691191, 0.35308809],\n",
       "       [0.87617731, 0.12382269],\n",
       "       [0.06618338, 0.93381662],\n",
       "       [0.5901263 , 0.4098737 ],\n",
       "       [0.87617731, 0.12382269],\n",
       "       [0.87617731, 0.12382269],\n",
       "       [0.87617731, 0.12382269],\n",
       "       [0.87617731, 0.12382269],\n",
       "       [0.87617731, 0.12382269],\n",
       "       [0.87617731, 0.12382269],\n",
       "       [0.06618338, 0.93381662],\n",
       "       [0.25481767, 0.74518233],\n",
       "       [0.25481767, 0.74518233],\n",
       "       [0.87617731, 0.12382269],\n",
       "       [0.64691191, 0.35308809],\n",
       "       [0.09916049, 0.90083951],\n",
       "       [0.65184688, 0.34815312],\n",
       "       [0.65184688, 0.34815312],\n",
       "       [0.87617731, 0.12382269],\n",
       "       [0.87617731, 0.12382269],\n",
       "       [0.78508208, 0.21491792],\n",
       "       [0.87617731, 0.12382269],\n",
       "       [0.87617731, 0.12382269],\n",
       "       [0.65184688, 0.34815312],\n",
       "       [0.65184688, 0.34815312],\n",
       "       [0.78508208, 0.21491792],\n",
       "       [0.87617731, 0.12382269],\n",
       "       [0.5901263 , 0.4098737 ],\n",
       "       [0.65184688, 0.34815312],\n",
       "       [0.87617731, 0.12382269],\n",
       "       [0.87617731, 0.12382269],\n",
       "       [0.87617731, 0.12382269],\n",
       "       [0.25481767, 0.74518233],\n",
       "       [0.87617731, 0.12382269],\n",
       "       [0.65184688, 0.34815312],\n",
       "       [0.08150039, 0.91849961],\n",
       "       [0.87617731, 0.12382269],\n",
       "       [0.78508208, 0.21491792],\n",
       "       [0.41786131, 0.58213869],\n",
       "       [0.78508208, 0.21491792],\n",
       "       [0.87617731, 0.12382269],\n",
       "       [0.87075847, 0.12924153],\n",
       "       [0.25481767, 0.74518233],\n",
       "       [0.5901263 , 0.4098737 ],\n",
       "       [0.41786131, 0.58213869],\n",
       "       [0.87617731, 0.12382269],\n",
       "       [0.08150039, 0.91849961],\n",
       "       [0.64691191, 0.35308809],\n",
       "       [0.84088266, 0.15911734],\n",
       "       [0.5901263 , 0.4098737 ],\n",
       "       [0.87617731, 0.12382269],\n",
       "       [0.08150039, 0.91849961],\n",
       "       [0.64691191, 0.35308809],\n",
       "       [0.84088266, 0.15911734],\n",
       "       [0.65184688, 0.34815312],\n",
       "       [0.64691191, 0.35308809],\n",
       "       [0.78508208, 0.21491792],\n",
       "       [0.65184688, 0.34815312],\n",
       "       [0.09916049, 0.90083951],\n",
       "       [0.87617731, 0.12382269],\n",
       "       [0.78508208, 0.21491792],\n",
       "       [0.25481767, 0.74518233],\n",
       "       [0.64691191, 0.35308809],\n",
       "       [0.65184688, 0.34815312],\n",
       "       [0.25481767, 0.74518233],\n",
       "       [0.87617731, 0.12382269],\n",
       "       [0.41786131, 0.58213869],\n",
       "       [0.78508208, 0.21491792],\n",
       "       [0.87075847, 0.12924153],\n",
       "       [0.78508208, 0.21491792],\n",
       "       [0.08451577, 0.91548423],\n",
       "       [0.25481767, 0.74518233],\n",
       "       [0.65184688, 0.34815312],\n",
       "       [0.65184688, 0.34815312],\n",
       "       [0.41786131, 0.58213869],\n",
       "       [0.64691191, 0.35308809],\n",
       "       [0.65184688, 0.34815312],\n",
       "       [0.78508208, 0.21491792],\n",
       "       [0.65184688, 0.34815312],\n",
       "       [0.06618338, 0.93381662],\n",
       "       [0.64691191, 0.35308809],\n",
       "       [0.87617731, 0.12382269],\n",
       "       [0.41786131, 0.58213869],\n",
       "       [0.09916049, 0.90083951],\n",
       "       [0.08150039, 0.91849961],\n",
       "       [0.06618338, 0.93381662],\n",
       "       [0.87617731, 0.12382269],\n",
       "       [0.41786131, 0.58213869],\n",
       "       [0.74993003, 0.25006997],\n",
       "       [0.5901263 , 0.4098737 ],\n",
       "       [0.5901263 , 0.4098737 ],\n",
       "       [0.09916049, 0.90083951],\n",
       "       [0.84088266, 0.15911734],\n",
       "       [0.87075847, 0.12924153],\n",
       "       [0.64691191, 0.35308809],\n",
       "       [0.78508208, 0.21491792],\n",
       "       [0.87617731, 0.12382269],\n",
       "       [0.87617731, 0.12382269],\n",
       "       [0.64691191, 0.35308809],\n",
       "       [0.78508208, 0.21491792],\n",
       "       [0.87075847, 0.12924153],\n",
       "       [0.5901263 , 0.4098737 ],\n",
       "       [0.78508208, 0.21491792],\n",
       "       [0.5901263 , 0.4098737 ],\n",
       "       [0.5901263 , 0.4098737 ],\n",
       "       [0.06618338, 0.93381662],\n",
       "       [0.09916049, 0.90083951],\n",
       "       [0.06618338, 0.93381662],\n",
       "       [0.5901263 , 0.4098737 ],\n",
       "       [0.78508208, 0.21491792],\n",
       "       [0.09916049, 0.90083951],\n",
       "       [0.09916049, 0.90083951],\n",
       "       [0.87617731, 0.12382269],\n",
       "       [0.65184688, 0.34815312],\n",
       "       [0.25481767, 0.74518233],\n",
       "       [0.84088266, 0.15911734],\n",
       "       [0.5901263 , 0.4098737 ],\n",
       "       [0.75338375, 0.24661625],\n",
       "       [0.78508208, 0.21491792],\n",
       "       [0.84088266, 0.15911734],\n",
       "       [0.78508208, 0.21491792],\n",
       "       [0.78508208, 0.21491792],\n",
       "       [0.09916049, 0.90083951],\n",
       "       [0.64691191, 0.35308809],\n",
       "       [0.5901263 , 0.4098737 ],\n",
       "       [0.09916049, 0.90083951],\n",
       "       [0.87617731, 0.12382269],\n",
       "       [0.84088266, 0.15911734],\n",
       "       [0.5901263 , 0.4098737 ],\n",
       "       [0.87617731, 0.12382269],\n",
       "       [0.08451577, 0.91548423],\n",
       "       [0.87617731, 0.12382269],\n",
       "       [0.65184688, 0.34815312],\n",
       "       [0.78508208, 0.21491792],\n",
       "       [0.87617731, 0.12382269],\n",
       "       [0.78508208, 0.21491792],\n",
       "       [0.87617731, 0.12382269],\n",
       "       [0.78508208, 0.21491792],\n",
       "       [0.5901263 , 0.4098737 ],\n",
       "       [0.65184688, 0.34815312],\n",
       "       [0.87075847, 0.12924153],\n",
       "       [0.87617731, 0.12382269],\n",
       "       [0.87075847, 0.12924153],\n",
       "       [0.06618338, 0.93381662],\n",
       "       [0.09916049, 0.90083951],\n",
       "       [0.08150039, 0.91849961],\n",
       "       [0.5901263 , 0.4098737 ],\n",
       "       [0.08150039, 0.91849961],\n",
       "       [0.65184688, 0.34815312],\n",
       "       [0.65184688, 0.34815312],\n",
       "       [0.87617731, 0.12382269],\n",
       "       [0.78508208, 0.21491792],\n",
       "       [0.09916049, 0.90083951],\n",
       "       [0.87617731, 0.12382269],\n",
       "       [0.09916049, 0.90083951],\n",
       "       [0.5901263 , 0.4098737 ],\n",
       "       [0.09916049, 0.90083951],\n",
       "       [0.87617731, 0.12382269],\n",
       "       [0.41786131, 0.58213869],\n",
       "       [0.87617731, 0.12382269],\n",
       "       [0.84088266, 0.15911734],\n",
       "       [0.84088266, 0.15911734],\n",
       "       [0.78508208, 0.21491792],\n",
       "       [0.25481767, 0.74518233],\n",
       "       [0.78508208, 0.21491792],\n",
       "       [0.25481767, 0.74518233],\n",
       "       [0.87617731, 0.12382269],\n",
       "       [0.06618338, 0.93381662],\n",
       "       [0.87617731, 0.12382269],\n",
       "       [0.87617731, 0.12382269],\n",
       "       [0.5901263 , 0.4098737 ],\n",
       "       [0.87617731, 0.12382269],\n",
       "       [0.78508208, 0.21491792],\n",
       "       [0.87617731, 0.12382269],\n",
       "       [0.5901263 , 0.4098737 ],\n",
       "       [0.87617731, 0.12382269],\n",
       "       [0.87617731, 0.12382269],\n",
       "       [0.64691191, 0.35308809],\n",
       "       [0.84088266, 0.15911734],\n",
       "       [0.65184688, 0.34815312],\n",
       "       [0.06618338, 0.93381662],\n",
       "       [0.84088266, 0.15911734],\n",
       "       [0.78508208, 0.21491792],\n",
       "       [0.41786131, 0.58213869],\n",
       "       [0.65184688, 0.34815312],\n",
       "       [0.87075847, 0.12924153],\n",
       "       [0.64691191, 0.35308809],\n",
       "       [0.84088266, 0.15911734],\n",
       "       [0.78508208, 0.21491792],\n",
       "       [0.87617731, 0.12382269],\n",
       "       [0.87617731, 0.12382269],\n",
       "       [0.09916049, 0.90083951],\n",
       "       [0.64691191, 0.35308809],\n",
       "       [0.5901263 , 0.4098737 ],\n",
       "       [0.06618338, 0.93381662],\n",
       "       [0.64691191, 0.35308809],\n",
       "       [0.87617731, 0.12382269],\n",
       "       [0.84088266, 0.15911734],\n",
       "       [0.87617731, 0.12382269],\n",
       "       [0.09916049, 0.90083951],\n",
       "       [0.87617731, 0.12382269],\n",
       "       [0.65184688, 0.34815312],\n",
       "       [0.87617731, 0.12382269],\n",
       "       [0.87075847, 0.12924153],\n",
       "       [0.84088266, 0.15911734],\n",
       "       [0.09916049, 0.90083951],\n",
       "       [0.87617731, 0.12382269],\n",
       "       [0.64691191, 0.35308809],\n",
       "       [0.87617731, 0.12382269],\n",
       "       [0.64691191, 0.35308809],\n",
       "       [0.09916049, 0.90083951],\n",
       "       [0.64691191, 0.35308809],\n",
       "       [0.41786131, 0.58213869],\n",
       "       [0.87617731, 0.12382269],\n",
       "       [0.64691191, 0.35308809],\n",
       "       [0.87617731, 0.12382269],\n",
       "       [0.5901263 , 0.4098737 ],\n",
       "       [0.87617731, 0.12382269],\n",
       "       [0.5901263 , 0.4098737 ],\n",
       "       [0.09916049, 0.90083951],\n",
       "       [0.78508208, 0.21491792],\n",
       "       [0.41786131, 0.58213869],\n",
       "       [0.87617731, 0.12382269],\n",
       "       [0.87617731, 0.12382269],\n",
       "       [0.87617731, 0.12382269],\n",
       "       [0.5901263 , 0.4098737 ],\n",
       "       [0.87617731, 0.12382269]])"
      ]
     },
     "execution_count": 49,
     "metadata": {},
     "output_type": "execute_result"
    }
   ],
   "source": [
    "y_pred_proba = rf.predict_proba(x_train)\n",
    "y_pred_proba"
   ]
  },
  {
   "cell_type": "markdown",
   "id": "43687acd",
   "metadata": {},
   "source": [
    "### Evaluation Model"
   ]
  },
  {
   "cell_type": "code",
   "execution_count": 50,
   "id": "25974f98",
   "metadata": {},
   "outputs": [
    {
     "name": "stdout",
     "output_type": "stream",
     "text": [
      "Accuracy of random forest classifier on traing set: 0.82\n"
     ]
    }
   ],
   "source": [
    "# Compute Accuracy\n",
    "print('Accuracy of random forest classifier on traing set: {:.2f}'.format(rf.score(x_train, y_train)))"
   ]
  },
  {
   "cell_type": "code",
   "execution_count": 51,
   "id": "ad73d7c8",
   "metadata": {},
   "outputs": [
    {
     "name": "stdout",
     "output_type": "stream",
     "text": [
      "[[294  13]\n",
      " [ 77 114]]\n"
     ]
    }
   ],
   "source": [
    "# Confusion Matrix\n",
    "print(confusion_matrix(y_train,y_pred))"
   ]
  },
  {
   "cell_type": "code",
   "execution_count": 52,
   "id": "f7928b83",
   "metadata": {},
   "outputs": [
    {
     "name": "stdout",
     "output_type": "stream",
     "text": [
      "              precision    recall  f1-score   support\n",
      "\n",
      "           0       0.79      0.96      0.87       307\n",
      "           1       0.90      0.60      0.72       191\n",
      "\n",
      "    accuracy                           0.82       498\n",
      "   macro avg       0.85      0.78      0.79       498\n",
      "weighted avg       0.83      0.82      0.81       498\n",
      "\n"
     ]
    }
   ],
   "source": [
    "# Print and clearly label the following: Accuracy, true positive rate, false positive rate,\n",
    "# true negative rate, false negative rate, precision, recall, f1-score, and support.\n",
    "print(classification_report(y_train, y_pred))"
   ]
  },
  {
   "cell_type": "markdown",
   "id": "beb7939b",
   "metadata": {},
   "source": [
    "### Validate Model"
   ]
  },
  {
   "cell_type": "code",
   "execution_count": 53,
   "id": "f5187f57",
   "metadata": {},
   "outputs": [
    {
     "name": "stdout",
     "output_type": "stream",
     "text": [
      "Accuracy of random forest classifier on test test: 0.79\n"
     ]
    }
   ],
   "source": [
    "print('Accuracy of random forest classifier on test test: {:.2f}'\n",
    "     .format(rf.score(x_validate,y_validate)))"
   ]
  },
  {
   "cell_type": "markdown",
   "id": "74201db9",
   "metadata": {},
   "source": [
    "### Now looking at directions instead of following lesson example:"
   ]
  },
  {
   "cell_type": "markdown",
   "id": "d836c6cb",
   "metadata": {},
   "source": [
    "Fit the Random Forest classifier to your training sample and transform (i.e. make predictions on the training sample) setting the random_state accordingly and setting min_samples_leaf = 1 and max_depth = 10."
   ]
  },
  {
   "cell_type": "code",
   "execution_count": 54,
   "id": "a4267ecc",
   "metadata": {},
   "outputs": [],
   "source": [
    "# Try to build a function...\n",
    "def random_forest(train, validate,features , min_samples_leaf, d, print_results = True):\n",
    "    \n",
    "    X_train = train[features]\n",
    "    y_train = train[['survived']]\n",
    "    rf = RandomForestClassifier(max_depth=d, min_samples_leaf=min_samples_leaf, random_state=123)\n",
    "    # Fit\n",
    "    rf = rf.fit(X_train, y_train['survived'])\n",
    "    \n",
    "    # Predict\n",
    "    y_pred = rf.predict(X_train)\n",
    "    \n",
    "    # Results\n",
    "    tn, fp, fn, tp = confusion_matrix(y_train, y_pred).ravel()\n",
    "    if print_results:\n",
    "        print(\"TRAINING RESULTS\")\n",
    "        print(\"----------------\")\n",
    "        # Feature importance\n",
    "        print(f\"Feature importance:\\n{dict(zip(features,rf.feature_importances_))}\")\n",
    "        print(f\"Accuracy of random forest classifer on training set: {rf.score(X_train, y_train):.2%}\")\n",
    "        print(classification_report(y_train, y_pred))\n",
    "\n",
    "        \n",
    "        print(\"Confusion matrix: rows are truth, columns are pred\")\n",
    "        print(\"\")\n",
    "        print(confusion_matrix(y_train, y_pred))\n",
    "        print(\"\")\n",
    "        print(f\"False positive rate: {fp/(fp+tn):.2%}\")\n",
    "        print(f\"False negative rate: {fn/(fn+tp):.2%}\")\n",
    "        print(f\"True positive rate: {tp/(tp+fn):.2%}\")\n",
    "        print(f\"True negative rate: {tn/(fp+tn):.2%}\")\n",
    "        print(\"----------------\")\n",
    "    train_report = classification_report(y_train, y_pred, output_dict=True)\n",
    "    ### Predict for Validate \n",
    "    y_pred_val = rf.predict(validate[features])\n",
    "    ### Classification report\n",
    "    validate_report = classification_report(validate[['survived']],y_pred_val, output_dict=True)\n",
    "    if print_results:\n",
    "        print(\"VALIDATE RESULTS\")\n",
    "        print(\"----------------\")\n",
    "        print(classification_report(validate[['survived']],y_pred_val))\n",
    "    reports = {'train':train_report,'validate':validate_report}\n",
    "    return reports"
   ]
  },
  {
   "cell_type": "code",
   "execution_count": 55,
   "id": "ec3e72b3",
   "metadata": {},
   "outputs": [
    {
     "name": "stdout",
     "output_type": "stream",
     "text": [
      "TRAINING RESULTS\n",
      "----------------\n",
      "Feature importance:\n",
      "{'pclass': 0.31157122794183023, 'embark_town_Queenstown': 0.027475321223680762, 'embark_town_Southampton': 0.042824936023002885, 'sex_male': 0.6181285148114861}\n",
      "Accuracy of random forest classifer on training set: 80.40%\n",
      "              precision    recall  f1-score   support\n",
      "\n",
      "           0       0.79      0.92      0.85       237\n",
      "           1       0.84      0.64      0.73       161\n",
      "\n",
      "    accuracy                           0.80       398\n",
      "   macro avg       0.81      0.78      0.79       398\n",
      "weighted avg       0.81      0.80      0.80       398\n",
      "\n",
      "Confusion matrix: rows are truth, columns are pred\n",
      "\n",
      "[[217  20]\n",
      " [ 58 103]]\n",
      "\n",
      "False positive rate: 8.44%\n",
      "False negative rate: 36.02%\n",
      "True positive rate: 63.98%\n",
      "True negative rate: 91.56%\n",
      "----------------\n",
      "VALIDATE RESULTS\n",
      "----------------\n",
      "              precision    recall  f1-score   support\n",
      "\n",
      "           0       0.74      0.92      0.82       102\n",
      "           1       0.82      0.52      0.64        69\n",
      "\n",
      "    accuracy                           0.76       171\n",
      "   macro avg       0.78      0.72      0.73       171\n",
      "weighted avg       0.77      0.76      0.75       171\n",
      "\n"
     ]
    },
    {
     "data": {
      "text/plain": [
       "{'train': {'0': {'precision': 0.7890909090909091,\n",
       "   'recall': 0.9156118143459916,\n",
       "   'f1-score': 0.8476562499999999,\n",
       "   'support': 237},\n",
       "  '1': {'precision': 0.8373983739837398,\n",
       "   'recall': 0.639751552795031,\n",
       "   'f1-score': 0.7253521126760563,\n",
       "   'support': 161},\n",
       "  'accuracy': 0.8040201005025126,\n",
       "  'macro avg': {'precision': 0.8132446415373245,\n",
       "   'recall': 0.7776816835705114,\n",
       "   'f1-score': 0.786504181338028,\n",
       "   'support': 398},\n",
       "  'weighted avg': {'precision': 0.8086323710199185,\n",
       "   'recall': 0.8040201005025126,\n",
       "   'f1-score': 0.7981814607810177,\n",
       "   'support': 398}},\n",
       " 'validate': {'0': {'precision': 0.7401574803149606,\n",
       "   'recall': 0.9215686274509803,\n",
       "   'f1-score': 0.8209606986899565,\n",
       "   'support': 102},\n",
       "  '1': {'precision': 0.8181818181818182,\n",
       "   'recall': 0.5217391304347826,\n",
       "   'f1-score': 0.6371681415929203,\n",
       "   'support': 69},\n",
       "  'accuracy': 0.7602339181286549,\n",
       "  'macro avg': {'precision': 0.7791696492483895,\n",
       "   'recall': 0.7216538789428815,\n",
       "   'f1-score': 0.7290644201414385,\n",
       "   'support': 171},\n",
       "  'weighted avg': {'precision': 0.7716409850682541,\n",
       "   'recall': 0.7602339181286549,\n",
       "   'f1-score': 0.7467987896858892,\n",
       "   'support': 171}}}"
      ]
     },
     "execution_count": 55,
     "metadata": {},
     "output_type": "execute_result"
    }
   ],
   "source": [
    "features = ['pclass','embark_town_Queenstown', 'embark_town_Southampton','sex_male']\n",
    "random_forest(train,validate,features,1,10,True)"
   ]
  },
  {
   "cell_type": "code",
   "execution_count": 56,
   "id": "a11e9c24",
   "metadata": {},
   "outputs": [
    {
     "name": "stdout",
     "output_type": "stream",
     "text": [
      "Tree with max depth of 2\n",
      "                    0           1  accuracy   macro avg  weighted avg\n",
      "precision    0.820433    0.760000  0.799197    0.790217      0.797255\n",
      "recall       0.863192    0.696335  0.799197    0.779764      0.799197\n",
      "f1-score     0.841270    0.726776  0.799197    0.784023      0.797358\n",
      "support    307.000000  191.000000  0.799197  498.000000    498.000000\n",
      "\n",
      "Tree with max depth of 3\n",
      "                    0           1  accuracy   macro avg  weighted avg\n",
      "precision    0.792453    0.897638  0.819277    0.845045      0.832795\n",
      "recall       0.957655    0.596859  0.819277    0.777257      0.819277\n",
      "f1-score     0.867257    0.716981  0.819277    0.792119      0.809621\n",
      "support    307.000000  191.000000  0.819277  498.000000    498.000000\n",
      "\n",
      "Tree with max depth of 4\n",
      "                    0           1  accuracy   macro avg  weighted avg\n",
      "precision    0.792453    0.897638  0.819277    0.845045      0.832795\n",
      "recall       0.957655    0.596859  0.819277    0.777257      0.819277\n",
      "f1-score     0.867257    0.716981  0.819277    0.792119      0.809621\n",
      "support    307.000000  191.000000  0.819277  498.000000    498.000000\n",
      "\n",
      "Tree with max depth of 5\n",
      "                    0           1  accuracy   macro avg  weighted avg\n",
      "precision    0.792453    0.897638  0.819277    0.845045      0.832795\n",
      "recall       0.957655    0.596859  0.819277    0.777257      0.819277\n",
      "f1-score     0.867257    0.716981  0.819277    0.792119      0.809621\n",
      "support    307.000000  191.000000  0.819277  498.000000    498.000000\n",
      "\n",
      "Tree with max depth of 6\n",
      "                    0           1  accuracy   macro avg  weighted avg\n",
      "precision    0.792453    0.897638  0.819277    0.845045      0.832795\n",
      "recall       0.957655    0.596859  0.819277    0.777257      0.819277\n",
      "f1-score     0.867257    0.716981  0.819277    0.792119      0.809621\n",
      "support    307.000000  191.000000  0.819277  498.000000    498.000000\n",
      "\n",
      "Tree with max depth of 7\n",
      "                    0           1  accuracy   macro avg  weighted avg\n",
      "precision    0.792453    0.897638  0.819277    0.845045      0.832795\n",
      "recall       0.957655    0.596859  0.819277    0.777257      0.819277\n",
      "f1-score     0.867257    0.716981  0.819277    0.792119      0.809621\n",
      "support    307.000000  191.000000  0.819277  498.000000    498.000000\n",
      "\n",
      "Tree with max depth of 8\n",
      "                    0           1  accuracy   macro avg  weighted avg\n",
      "precision    0.792453    0.897638  0.819277    0.845045      0.832795\n",
      "recall       0.957655    0.596859  0.819277    0.777257      0.819277\n",
      "f1-score     0.867257    0.716981  0.819277    0.792119      0.809621\n",
      "support    307.000000  191.000000  0.819277  498.000000    498.000000\n",
      "\n",
      "Tree with max depth of 9\n",
      "                    0           1  accuracy   macro avg  weighted avg\n",
      "precision    0.792453    0.897638  0.819277    0.845045      0.832795\n",
      "recall       0.957655    0.596859  0.819277    0.777257      0.819277\n",
      "f1-score     0.867257    0.716981  0.819277    0.792119      0.809621\n",
      "support    307.000000  191.000000  0.819277  498.000000    498.000000\n",
      "\n",
      "Tree with max depth of 10\n",
      "                    0           1  accuracy   macro avg  weighted avg\n",
      "precision    0.792453    0.897638  0.819277    0.845045      0.832795\n",
      "recall       0.957655    0.596859  0.819277    0.777257      0.819277\n",
      "f1-score     0.867257    0.716981  0.819277    0.792119      0.809621\n",
      "support    307.000000  191.000000  0.819277  498.000000    498.000000\n",
      "\n"
     ]
    }
   ],
   "source": [
    "for i in range (2,11):\n",
    "    rfc = RandomForestClassifier(max_depth=i, random_state=123)\n",
    "    rfc = rfc.fit(x_train,y_train)\n",
    "    #predictions\n",
    "    y_pred = rfc.predict(x_train)\n",
    "    # Classification loop\n",
    "    report = classification_report(y_train, y_pred, output_dict=True)\n",
    "    print(f'Tree with max depth of {i}')\n",
    "    print(pd.DataFrame(report))\n",
    "    print()\n",
    "          "
   ]
  },
  {
   "cell_type": "code",
   "execution_count": 57,
   "id": "0d5e4454",
   "metadata": {},
   "outputs": [
    {
     "data": {
      "text/html": [
       "<div>\n",
       "<style scoped>\n",
       "    .dataframe tbody tr th:only-of-type {\n",
       "        vertical-align: middle;\n",
       "    }\n",
       "\n",
       "    .dataframe tbody tr th {\n",
       "        vertical-align: top;\n",
       "    }\n",
       "\n",
       "    .dataframe thead th {\n",
       "        text-align: right;\n",
       "    }\n",
       "</style>\n",
       "<table border=\"1\" class=\"dataframe\">\n",
       "  <thead>\n",
       "    <tr style=\"text-align: right;\">\n",
       "      <th></th>\n",
       "      <th>max_depth</th>\n",
       "      <th>train_accuracy</th>\n",
       "      <th>validate_accuracy</th>\n",
       "      <th>difference</th>\n",
       "    </tr>\n",
       "  </thead>\n",
       "  <tbody>\n",
       "    <tr>\n",
       "      <th>0</th>\n",
       "      <td>1</td>\n",
       "      <td>0.799197</td>\n",
       "      <td>0.761682</td>\n",
       "      <td>0.037515</td>\n",
       "    </tr>\n",
       "    <tr>\n",
       "      <th>1</th>\n",
       "      <td>2</td>\n",
       "      <td>0.799197</td>\n",
       "      <td>0.761682</td>\n",
       "      <td>0.037515</td>\n",
       "    </tr>\n",
       "    <tr>\n",
       "      <th>2</th>\n",
       "      <td>3</td>\n",
       "      <td>0.819277</td>\n",
       "      <td>0.794393</td>\n",
       "      <td>0.024885</td>\n",
       "    </tr>\n",
       "    <tr>\n",
       "      <th>3</th>\n",
       "      <td>4</td>\n",
       "      <td>0.819277</td>\n",
       "      <td>0.794393</td>\n",
       "      <td>0.024885</td>\n",
       "    </tr>\n",
       "    <tr>\n",
       "      <th>4</th>\n",
       "      <td>5</td>\n",
       "      <td>0.819277</td>\n",
       "      <td>0.794393</td>\n",
       "      <td>0.024885</td>\n",
       "    </tr>\n",
       "    <tr>\n",
       "      <th>5</th>\n",
       "      <td>6</td>\n",
       "      <td>0.819277</td>\n",
       "      <td>0.794393</td>\n",
       "      <td>0.024885</td>\n",
       "    </tr>\n",
       "    <tr>\n",
       "      <th>6</th>\n",
       "      <td>7</td>\n",
       "      <td>0.819277</td>\n",
       "      <td>0.794393</td>\n",
       "      <td>0.024885</td>\n",
       "    </tr>\n",
       "    <tr>\n",
       "      <th>7</th>\n",
       "      <td>8</td>\n",
       "      <td>0.819277</td>\n",
       "      <td>0.794393</td>\n",
       "      <td>0.024885</td>\n",
       "    </tr>\n",
       "    <tr>\n",
       "      <th>8</th>\n",
       "      <td>9</td>\n",
       "      <td>0.819277</td>\n",
       "      <td>0.794393</td>\n",
       "      <td>0.024885</td>\n",
       "    </tr>\n",
       "    <tr>\n",
       "      <th>9</th>\n",
       "      <td>10</td>\n",
       "      <td>0.819277</td>\n",
       "      <td>0.794393</td>\n",
       "      <td>0.024885</td>\n",
       "    </tr>\n",
       "    <tr>\n",
       "      <th>10</th>\n",
       "      <td>11</td>\n",
       "      <td>0.819277</td>\n",
       "      <td>0.794393</td>\n",
       "      <td>0.024885</td>\n",
       "    </tr>\n",
       "    <tr>\n",
       "      <th>11</th>\n",
       "      <td>12</td>\n",
       "      <td>0.819277</td>\n",
       "      <td>0.794393</td>\n",
       "      <td>0.024885</td>\n",
       "    </tr>\n",
       "    <tr>\n",
       "      <th>12</th>\n",
       "      <td>13</td>\n",
       "      <td>0.819277</td>\n",
       "      <td>0.794393</td>\n",
       "      <td>0.024885</td>\n",
       "    </tr>\n",
       "    <tr>\n",
       "      <th>13</th>\n",
       "      <td>14</td>\n",
       "      <td>0.819277</td>\n",
       "      <td>0.794393</td>\n",
       "      <td>0.024885</td>\n",
       "    </tr>\n",
       "    <tr>\n",
       "      <th>14</th>\n",
       "      <td>15</td>\n",
       "      <td>0.819277</td>\n",
       "      <td>0.794393</td>\n",
       "      <td>0.024885</td>\n",
       "    </tr>\n",
       "    <tr>\n",
       "      <th>15</th>\n",
       "      <td>16</td>\n",
       "      <td>0.819277</td>\n",
       "      <td>0.794393</td>\n",
       "      <td>0.024885</td>\n",
       "    </tr>\n",
       "    <tr>\n",
       "      <th>16</th>\n",
       "      <td>17</td>\n",
       "      <td>0.819277</td>\n",
       "      <td>0.794393</td>\n",
       "      <td>0.024885</td>\n",
       "    </tr>\n",
       "    <tr>\n",
       "      <th>17</th>\n",
       "      <td>18</td>\n",
       "      <td>0.819277</td>\n",
       "      <td>0.794393</td>\n",
       "      <td>0.024885</td>\n",
       "    </tr>\n",
       "    <tr>\n",
       "      <th>18</th>\n",
       "      <td>19</td>\n",
       "      <td>0.819277</td>\n",
       "      <td>0.794393</td>\n",
       "      <td>0.024885</td>\n",
       "    </tr>\n",
       "    <tr>\n",
       "      <th>19</th>\n",
       "      <td>20</td>\n",
       "      <td>0.819277</td>\n",
       "      <td>0.794393</td>\n",
       "      <td>0.024885</td>\n",
       "    </tr>\n",
       "    <tr>\n",
       "      <th>20</th>\n",
       "      <td>21</td>\n",
       "      <td>0.819277</td>\n",
       "      <td>0.794393</td>\n",
       "      <td>0.024885</td>\n",
       "    </tr>\n",
       "    <tr>\n",
       "      <th>21</th>\n",
       "      <td>22</td>\n",
       "      <td>0.819277</td>\n",
       "      <td>0.794393</td>\n",
       "      <td>0.024885</td>\n",
       "    </tr>\n",
       "    <tr>\n",
       "      <th>22</th>\n",
       "      <td>23</td>\n",
       "      <td>0.819277</td>\n",
       "      <td>0.794393</td>\n",
       "      <td>0.024885</td>\n",
       "    </tr>\n",
       "    <tr>\n",
       "      <th>23</th>\n",
       "      <td>24</td>\n",
       "      <td>0.819277</td>\n",
       "      <td>0.794393</td>\n",
       "      <td>0.024885</td>\n",
       "    </tr>\n",
       "  </tbody>\n",
       "</table>\n",
       "</div>"
      ],
      "text/plain": [
       "    max_depth  train_accuracy  validate_accuracy  difference\n",
       "0           1        0.799197           0.761682    0.037515\n",
       "1           2        0.799197           0.761682    0.037515\n",
       "2           3        0.819277           0.794393    0.024885\n",
       "3           4        0.819277           0.794393    0.024885\n",
       "4           5        0.819277           0.794393    0.024885\n",
       "5           6        0.819277           0.794393    0.024885\n",
       "6           7        0.819277           0.794393    0.024885\n",
       "7           8        0.819277           0.794393    0.024885\n",
       "8           9        0.819277           0.794393    0.024885\n",
       "9          10        0.819277           0.794393    0.024885\n",
       "10         11        0.819277           0.794393    0.024885\n",
       "11         12        0.819277           0.794393    0.024885\n",
       "12         13        0.819277           0.794393    0.024885\n",
       "13         14        0.819277           0.794393    0.024885\n",
       "14         15        0.819277           0.794393    0.024885\n",
       "15         16        0.819277           0.794393    0.024885\n",
       "16         17        0.819277           0.794393    0.024885\n",
       "17         18        0.819277           0.794393    0.024885\n",
       "18         19        0.819277           0.794393    0.024885\n",
       "19         20        0.819277           0.794393    0.024885\n",
       "20         21        0.819277           0.794393    0.024885\n",
       "21         22        0.819277           0.794393    0.024885\n",
       "22         23        0.819277           0.794393    0.024885\n",
       "23         24        0.819277           0.794393    0.024885"
      ]
     },
     "execution_count": 57,
     "metadata": {},
     "output_type": "execute_result"
    }
   ],
   "source": [
    "# Copied from decision tree lesson & updted with random forest classifier\n",
    "metrics = []\n",
    "\n",
    "for i in range(1, 25):\n",
    "    # Make the model\n",
    "    rfc = RandomForestClassifier(max_depth=i, random_state=123)\n",
    "\n",
    "    # Fit the model (on train and only train)\n",
    "    rfc = rfc.fit(x_train, y_train)\n",
    "\n",
    "    # Use the model\n",
    "    # We'll evaluate the model's performance on train, first\n",
    "    in_sample_accuracy = rfc.score(x_train, y_train)\n",
    "    \n",
    "    out_of_sample_accuracy = rfc.score(x_validate, y_validate)\n",
    "\n",
    "    output = {\n",
    "        \"max_depth\": i,\n",
    "        \"train_accuracy\": in_sample_accuracy,\n",
    "        \"validate_accuracy\": out_of_sample_accuracy\n",
    "    }\n",
    "    \n",
    "    metrics.append(output)\n",
    "    \n",
    "df = pd.DataFrame(metrics)\n",
    "df[\"difference\"] = df.train_accuracy - df.validate_accuracy\n",
    "df"
   ]
  },
  {
   "cell_type": "code",
   "execution_count": 58,
   "id": "23a78a74",
   "metadata": {},
   "outputs": [
    {
     "data": {
      "image/png": "[encoded data removed]",
      "text/plain": [
       "<Figure size 864x504 with 1 Axes>"
      ]
     },
     "metadata": {
      "needs_background": "light"
     },
     "output_type": "display_data"
    }
   ],
   "source": [
    "df.set_index('max_depth').plot(figsize = (12,7))\n",
    "plt.ylabel('Accuracy')\n",
    "plt.xticks(np.arange(0,21,1))\n",
    "plt.grid()"
   ]
  },
  {
   "cell_type": "markdown",
   "id": "a9365ab4",
   "metadata": {},
   "source": [
    "# Exercises KNN\n",
    "\n",
    "Continue working in your `model.ipynb` file with the titanic dataset.\n",
    "\n",
    "1. Fit a K-Nearest Neighbors classifier to your training sample and transform (i.e. make predictions on the training sample)\n",
    "\n",
    "2. Evaluate your results using the model score, confusion matrix, and classification report.\n",
    "\n",
    "3. Print and clearly label the following: Accuracy, true positive rate, false positive rate, true negative rate, false negative rate, precision, recall, f1-score, and support.\n",
    "\n",
    "4. Run through steps 2-4 setting k to 10\n",
    "\n",
    "5. Run through setps 2-4 setting k to 20\n",
    "\n",
    "6. What are the differences in the evaluation metrics? Which performs better on your in-sample data? Why?\n",
    "\n",
    "7. Which model performs best on our out-of-sample data from validate?\n",
    "\n",
    "-------\n",
    "\n",
    "Once you have completed work on the titanic dataset, try building some knn models with your telco data."
   ]
  },
  {
   "cell_type": "code",
   "execution_count": 59,
   "id": "cfd34d51",
   "metadata": {},
   "outputs": [
    {
     "data": {
      "text/html": [
       "<div>\n",
       "<style scoped>\n",
       "    .dataframe tbody tr th:only-of-type {\n",
       "        vertical-align: middle;\n",
       "    }\n",
       "\n",
       "    .dataframe tbody tr th {\n",
       "        vertical-align: top;\n",
       "    }\n",
       "\n",
       "    .dataframe thead th {\n",
       "        text-align: right;\n",
       "    }\n",
       "</style>\n",
       "<table border=\"1\" class=\"dataframe\">\n",
       "  <thead>\n",
       "    <tr style=\"text-align: right;\">\n",
       "      <th></th>\n",
       "      <th>passenger_id</th>\n",
       "      <th>survived</th>\n",
       "      <th>pclass</th>\n",
       "      <th>sex</th>\n",
       "      <th>sibsp</th>\n",
       "      <th>parch</th>\n",
       "      <th>fare</th>\n",
       "      <th>embark_town</th>\n",
       "      <th>alone</th>\n",
       "      <th>sex_male</th>\n",
       "      <th>embark_town_Queenstown</th>\n",
       "      <th>embark_town_Southampton</th>\n",
       "    </tr>\n",
       "  </thead>\n",
       "  <tbody>\n",
       "    <tr>\n",
       "      <th>0</th>\n",
       "      <td>0</td>\n",
       "      <td>0</td>\n",
       "      <td>3</td>\n",
       "      <td>male</td>\n",
       "      <td>1</td>\n",
       "      <td>0</td>\n",
       "      <td>7.2500</td>\n",
       "      <td>Southampton</td>\n",
       "      <td>0</td>\n",
       "      <td>1</td>\n",
       "      <td>0</td>\n",
       "      <td>1</td>\n",
       "    </tr>\n",
       "    <tr>\n",
       "      <th>1</th>\n",
       "      <td>1</td>\n",
       "      <td>1</td>\n",
       "      <td>1</td>\n",
       "      <td>female</td>\n",
       "      <td>1</td>\n",
       "      <td>0</td>\n",
       "      <td>71.2833</td>\n",
       "      <td>Cherbourg</td>\n",
       "      <td>0</td>\n",
       "      <td>0</td>\n",
       "      <td>0</td>\n",
       "      <td>0</td>\n",
       "    </tr>\n",
       "    <tr>\n",
       "      <th>2</th>\n",
       "      <td>2</td>\n",
       "      <td>1</td>\n",
       "      <td>3</td>\n",
       "      <td>female</td>\n",
       "      <td>0</td>\n",
       "      <td>0</td>\n",
       "      <td>7.9250</td>\n",
       "      <td>Southampton</td>\n",
       "      <td>1</td>\n",
       "      <td>0</td>\n",
       "      <td>0</td>\n",
       "      <td>1</td>\n",
       "    </tr>\n",
       "    <tr>\n",
       "      <th>3</th>\n",
       "      <td>3</td>\n",
       "      <td>1</td>\n",
       "      <td>1</td>\n",
       "      <td>female</td>\n",
       "      <td>1</td>\n",
       "      <td>0</td>\n",
       "      <td>53.1000</td>\n",
       "      <td>Southampton</td>\n",
       "      <td>0</td>\n",
       "      <td>0</td>\n",
       "      <td>0</td>\n",
       "      <td>1</td>\n",
       "    </tr>\n",
       "    <tr>\n",
       "      <th>4</th>\n",
       "      <td>4</td>\n",
       "      <td>0</td>\n",
       "      <td>3</td>\n",
       "      <td>male</td>\n",
       "      <td>0</td>\n",
       "      <td>0</td>\n",
       "      <td>8.0500</td>\n",
       "      <td>Southampton</td>\n",
       "      <td>1</td>\n",
       "      <td>1</td>\n",
       "      <td>0</td>\n",
       "      <td>1</td>\n",
       "    </tr>\n",
       "  </tbody>\n",
       "</table>\n",
       "</div>"
      ],
      "text/plain": [
       "   passenger_id  survived  pclass     sex  sibsp  parch     fare  embark_town  \\\n",
       "0             0         0       3    male      1      0   7.2500  Southampton   \n",
       "1             1         1       1  female      1      0  71.2833    Cherbourg   \n",
       "2             2         1       3  female      0      0   7.9250  Southampton   \n",
       "3             3         1       1  female      1      0  53.1000  Southampton   \n",
       "4             4         0       3    male      0      0   8.0500  Southampton   \n",
       "\n",
       "   alone  sex_male  embark_town_Queenstown  embark_town_Southampton  \n",
       "0      0         1                       0                        1  \n",
       "1      0         0                       0                        0  \n",
       "2      1         0                       0                        1  \n",
       "3      0         0                       0                        1  \n",
       "4      1         1                       0                        1  "
      ]
     },
     "execution_count": 59,
     "metadata": {},
     "output_type": "execute_result"
    }
   ],
   "source": [
    "titanic.head()"
   ]
  },
  {
   "cell_type": "code",
   "execution_count": 60,
   "id": "3fc42037",
   "metadata": {},
   "outputs": [
    {
     "data": {
      "text/plain": [
       "((498, 12), (214, 12), (179, 12))"
      ]
     },
     "execution_count": 60,
     "metadata": {},
     "output_type": "execute_result"
    }
   ],
   "source": [
    "train, validate, test = pp.train_validate_test_split(titanic,target = 'survived')\n",
    "train.shape, validate.shape, test.shape"
   ]
  },
  {
   "cell_type": "code",
   "execution_count": 61,
   "id": "eafcf412",
   "metadata": {},
   "outputs": [
    {
     "name": "stdout",
     "output_type": "stream",
     "text": [
      "<class 'pandas.core.frame.DataFrame'>\n",
      "Int64Index: 498 entries, 583 to 744\n",
      "Data columns (total 12 columns):\n",
      " #   Column                   Non-Null Count  Dtype  \n",
      "---  ------                   --------------  -----  \n",
      " 0   passenger_id             498 non-null    int64  \n",
      " 1   survived                 498 non-null    int64  \n",
      " 2   pclass                   498 non-null    int64  \n",
      " 3   sex                      498 non-null    object \n",
      " 4   sibsp                    498 non-null    int64  \n",
      " 5   parch                    498 non-null    int64  \n",
      " 6   fare                     498 non-null    float64\n",
      " 7   embark_town              498 non-null    object \n",
      " 8   alone                    498 non-null    int64  \n",
      " 9   sex_male                 498 non-null    uint8  \n",
      " 10  embark_town_Queenstown   498 non-null    uint8  \n",
      " 11  embark_town_Southampton  498 non-null    uint8  \n",
      "dtypes: float64(1), int64(6), object(2), uint8(3)\n",
      "memory usage: 40.4+ KB\n"
     ]
    }
   ],
   "source": [
    "train.info()"
   ]
  },
  {
   "cell_type": "code",
   "execution_count": 62,
   "id": "3d79dd80",
   "metadata": {},
   "outputs": [
    {
     "data": {
      "text/plain": [
       "<AxesSubplot:xlabel='pclass', ylabel='sex_male'>"
      ]
     },
     "execution_count": 62,
     "metadata": {},
     "output_type": "execute_result"
    },
    {
     "data": {
      "image/png": "[encoded data removed]",
      "text/plain": [
       "<Figure size 432x288 with 1 Axes>"
      ]
     },
     "metadata": {
      "needs_background": "light"
     },
     "output_type": "display_data"
    }
   ],
   "source": [
    "# Following lesson example.  Not very helpful.\n",
    "sns.scatterplot(data=x_train, x='pclass', y='sex_male')"
   ]
  },
  {
   "cell_type": "code",
   "execution_count": 63,
   "id": "fa8c5452",
   "metadata": {},
   "outputs": [],
   "source": [
    "features = ['pclass','sibsp','parch','fare','alone','sex_male','embark_town_Queenstown','embark_town_Southampton']"
   ]
  },
  {
   "cell_type": "code",
   "execution_count": 64,
   "id": "b1ab10bc",
   "metadata": {},
   "outputs": [
    {
     "data": {
      "text/plain": [
       "0.6164658634538153"
      ]
     },
     "execution_count": 64,
     "metadata": {},
     "output_type": "execute_result"
    }
   ],
   "source": [
    "# Accuracy to beat!\n",
    "accuracy_b = (train.survived.value_counts().idxmax() == train.survived).mean()\n",
    "accuracy_b"
   ]
  },
  {
   "cell_type": "code",
   "execution_count": 65,
   "id": "da882d82",
   "metadata": {},
   "outputs": [
    {
     "data": {
      "text/html": [
       "<div>\n",
       "<style scoped>\n",
       "    .dataframe tbody tr th:only-of-type {\n",
       "        vertical-align: middle;\n",
       "    }\n",
       "\n",
       "    .dataframe tbody tr th {\n",
       "        vertical-align: top;\n",
       "    }\n",
       "\n",
       "    .dataframe thead th {\n",
       "        text-align: right;\n",
       "    }\n",
       "</style>\n",
       "<table border=\"1\" class=\"dataframe\">\n",
       "  <thead>\n",
       "    <tr style=\"text-align: right;\">\n",
       "      <th></th>\n",
       "      <th>pclass</th>\n",
       "      <th>sibsp</th>\n",
       "      <th>parch</th>\n",
       "      <th>fare</th>\n",
       "      <th>alone</th>\n",
       "      <th>sex_male</th>\n",
       "      <th>embark_town_Queenstown</th>\n",
       "      <th>embark_town_Southampton</th>\n",
       "    </tr>\n",
       "  </thead>\n",
       "  <tbody>\n",
       "    <tr>\n",
       "      <th>583</th>\n",
       "      <td>1</td>\n",
       "      <td>0</td>\n",
       "      <td>0</td>\n",
       "      <td>40.1250</td>\n",
       "      <td>1</td>\n",
       "      <td>1</td>\n",
       "      <td>0</td>\n",
       "      <td>0</td>\n",
       "    </tr>\n",
       "    <tr>\n",
       "      <th>165</th>\n",
       "      <td>3</td>\n",
       "      <td>0</td>\n",
       "      <td>2</td>\n",
       "      <td>20.5250</td>\n",
       "      <td>0</td>\n",
       "      <td>1</td>\n",
       "      <td>0</td>\n",
       "      <td>1</td>\n",
       "    </tr>\n",
       "    <tr>\n",
       "      <th>50</th>\n",
       "      <td>3</td>\n",
       "      <td>4</td>\n",
       "      <td>1</td>\n",
       "      <td>39.6875</td>\n",
       "      <td>0</td>\n",
       "      <td>1</td>\n",
       "      <td>0</td>\n",
       "      <td>1</td>\n",
       "    </tr>\n",
       "    <tr>\n",
       "      <th>259</th>\n",
       "      <td>2</td>\n",
       "      <td>0</td>\n",
       "      <td>1</td>\n",
       "      <td>26.0000</td>\n",
       "      <td>0</td>\n",
       "      <td>0</td>\n",
       "      <td>0</td>\n",
       "      <td>1</td>\n",
       "    </tr>\n",
       "    <tr>\n",
       "      <th>306</th>\n",
       "      <td>1</td>\n",
       "      <td>0</td>\n",
       "      <td>0</td>\n",
       "      <td>110.8833</td>\n",
       "      <td>1</td>\n",
       "      <td>0</td>\n",
       "      <td>0</td>\n",
       "      <td>0</td>\n",
       "    </tr>\n",
       "    <tr>\n",
       "      <th>...</th>\n",
       "      <td>...</td>\n",
       "      <td>...</td>\n",
       "      <td>...</td>\n",
       "      <td>...</td>\n",
       "      <td>...</td>\n",
       "      <td>...</td>\n",
       "      <td>...</td>\n",
       "      <td>...</td>\n",
       "    </tr>\n",
       "    <tr>\n",
       "      <th>313</th>\n",
       "      <td>3</td>\n",
       "      <td>0</td>\n",
       "      <td>0</td>\n",
       "      <td>7.8958</td>\n",
       "      <td>1</td>\n",
       "      <td>1</td>\n",
       "      <td>0</td>\n",
       "      <td>1</td>\n",
       "    </tr>\n",
       "    <tr>\n",
       "      <th>636</th>\n",
       "      <td>3</td>\n",
       "      <td>0</td>\n",
       "      <td>0</td>\n",
       "      <td>7.9250</td>\n",
       "      <td>1</td>\n",
       "      <td>1</td>\n",
       "      <td>0</td>\n",
       "      <td>1</td>\n",
       "    </tr>\n",
       "    <tr>\n",
       "      <th>222</th>\n",
       "      <td>3</td>\n",
       "      <td>0</td>\n",
       "      <td>0</td>\n",
       "      <td>8.0500</td>\n",
       "      <td>1</td>\n",
       "      <td>1</td>\n",
       "      <td>0</td>\n",
       "      <td>1</td>\n",
       "    </tr>\n",
       "    <tr>\n",
       "      <th>485</th>\n",
       "      <td>3</td>\n",
       "      <td>3</td>\n",
       "      <td>1</td>\n",
       "      <td>25.4667</td>\n",
       "      <td>0</td>\n",
       "      <td>0</td>\n",
       "      <td>0</td>\n",
       "      <td>1</td>\n",
       "    </tr>\n",
       "    <tr>\n",
       "      <th>744</th>\n",
       "      <td>3</td>\n",
       "      <td>0</td>\n",
       "      <td>0</td>\n",
       "      <td>7.9250</td>\n",
       "      <td>1</td>\n",
       "      <td>1</td>\n",
       "      <td>0</td>\n",
       "      <td>1</td>\n",
       "    </tr>\n",
       "  </tbody>\n",
       "</table>\n",
       "<p>498 rows × 8 columns</p>\n",
       "</div>"
      ],
      "text/plain": [
       "     pclass  sibsp  parch      fare  alone  sex_male  embark_town_Queenstown  \\\n",
       "583       1      0      0   40.1250      1         1                       0   \n",
       "165       3      0      2   20.5250      0         1                       0   \n",
       "50        3      4      1   39.6875      0         1                       0   \n",
       "259       2      0      1   26.0000      0         0                       0   \n",
       "306       1      0      0  110.8833      1         0                       0   \n",
       "..      ...    ...    ...       ...    ...       ...                     ...   \n",
       "313       3      0      0    7.8958      1         1                       0   \n",
       "636       3      0      0    7.9250      1         1                       0   \n",
       "222       3      0      0    8.0500      1         1                       0   \n",
       "485       3      3      1   25.4667      0         0                       0   \n",
       "744       3      0      0    7.9250      1         1                       0   \n",
       "\n",
       "     embark_town_Southampton  \n",
       "583                        0  \n",
       "165                        1  \n",
       "50                         1  \n",
       "259                        1  \n",
       "306                        0  \n",
       "..                       ...  \n",
       "313                        1  \n",
       "636                        1  \n",
       "222                        1  \n",
       "485                        1  \n",
       "744                        1  \n",
       "\n",
       "[498 rows x 8 columns]"
      ]
     },
     "execution_count": 65,
     "metadata": {},
     "output_type": "execute_result"
    }
   ],
   "source": [
    "x_train = train[features]\n",
    "y_train = train['survived']\n",
    "x_train"
   ]
  },
  {
   "cell_type": "code",
   "execution_count": 66,
   "id": "a091f76f",
   "metadata": {},
   "outputs": [
    {
     "data": {
      "text/plain": [
       "583    0\n",
       "165    1\n",
       "50     0\n",
       "259    1\n",
       "306    1\n",
       "      ..\n",
       "313    0\n",
       "636    0\n",
       "222    0\n",
       "485    0\n",
       "744    1\n",
       "Name: survived, Length: 498, dtype: int64"
      ]
     },
     "execution_count": 66,
     "metadata": {},
     "output_type": "execute_result"
    }
   ],
   "source": [
    "y_train"
   ]
  },
  {
   "cell_type": "code",
   "execution_count": 67,
   "id": "3bc0a0ed",
   "metadata": {},
   "outputs": [],
   "source": [
    "#Forgot to set up environment\n",
    "# Sklearn modules\n",
    "from sklearn.neighbors import KNeighborsClassifier\n",
    "from sklearn.metrics import classification_report\n",
    "from sklearn.metrics import confusion_matrix, plot_confusion_matrix"
   ]
  },
  {
   "cell_type": "code",
   "execution_count": 68,
   "id": "ec0d225d",
   "metadata": {},
   "outputs": [],
   "source": [
    "knn=KNeighborsClassifier()"
   ]
  },
  {
   "cell_type": "code",
   "execution_count": 69,
   "id": "1650a56f",
   "metadata": {},
   "outputs": [
    {
     "data": {
      "text/plain": [
       "KNeighborsClassifier()"
      ]
     },
     "execution_count": 69,
     "metadata": {},
     "output_type": "execute_result"
    }
   ],
   "source": [
    "knn.fit(x_train,y_train)"
   ]
  },
  {
   "cell_type": "code",
   "execution_count": 70,
   "id": "5a488cdb",
   "metadata": {},
   "outputs": [
    {
     "data": {
      "text/plain": [
       "array([0, 1, 0, 1, 1])"
      ]
     },
     "execution_count": 70,
     "metadata": {},
     "output_type": "execute_result"
    }
   ],
   "source": [
    "y_pred = knn.predict(x_train)\n",
    "y_pred [:5]"
   ]
  },
  {
   "cell_type": "code",
   "execution_count": 71,
   "id": "18437fb3",
   "metadata": {},
   "outputs": [
    {
     "data": {
      "text/plain": [
       "array([[0.6, 0.4],\n",
       "       [0.4, 0.6],\n",
       "       [0.6, 0.4],\n",
       "       [0. , 1. ],\n",
       "       [0.4, 0.6]])"
      ]
     },
     "execution_count": 71,
     "metadata": {},
     "output_type": "execute_result"
    }
   ],
   "source": [
    "y_pred_proba = knn.predict_proba(x_train)\n",
    "y_pred_proba[:5]"
   ]
  },
  {
   "cell_type": "markdown",
   "id": "c9340674",
   "metadata": {},
   "source": [
    "### Evaluate"
   ]
  },
  {
   "cell_type": "code",
   "execution_count": 72,
   "id": "800886dd",
   "metadata": {},
   "outputs": [
    {
     "name": "stdout",
     "output_type": "stream",
     "text": [
      "Accuracy of KNN classifier on training set: 0.81\n"
     ]
    }
   ],
   "source": [
    "# Evaluate your results using the model score, confusion matrix, and classification report.\n",
    "print('Accuracy of KNN classifier on training set: {:.2f}'\n",
    "     .format(knn.score(x_train, y_train)))"
   ]
  },
  {
   "cell_type": "code",
   "execution_count": 73,
   "id": "1f5a3bd1",
   "metadata": {},
   "outputs": [
    {
     "name": "stdout",
     "output_type": "stream",
     "text": [
      "[[265  42]\n",
      " [ 55 136]]\n"
     ]
    }
   ],
   "source": [
    "print(confusion_matrix(y_train, y_pred))"
   ]
  },
  {
   "cell_type": "code",
   "execution_count": 74,
   "id": "5984d49c",
   "metadata": {},
   "outputs": [
    {
     "data": {
      "text/html": [
       "<div>\n",
       "<style scoped>\n",
       "    .dataframe tbody tr th:only-of-type {\n",
       "        vertical-align: middle;\n",
       "    }\n",
       "\n",
       "    .dataframe tbody tr th {\n",
       "        vertical-align: top;\n",
       "    }\n",
       "\n",
       "    .dataframe thead th {\n",
       "        text-align: right;\n",
       "    }\n",
       "</style>\n",
       "<table border=\"1\" class=\"dataframe\">\n",
       "  <thead>\n",
       "    <tr style=\"text-align: right;\">\n",
       "      <th>col_0</th>\n",
       "      <th>0</th>\n",
       "      <th>1</th>\n",
       "    </tr>\n",
       "    <tr>\n",
       "      <th>survived</th>\n",
       "      <th></th>\n",
       "      <th></th>\n",
       "    </tr>\n",
       "  </thead>\n",
       "  <tbody>\n",
       "    <tr>\n",
       "      <th>0</th>\n",
       "      <td>265</td>\n",
       "      <td>42</td>\n",
       "    </tr>\n",
       "    <tr>\n",
       "      <th>1</th>\n",
       "      <td>55</td>\n",
       "      <td>136</td>\n",
       "    </tr>\n",
       "  </tbody>\n",
       "</table>\n",
       "</div>"
      ],
      "text/plain": [
       "col_0       0    1\n",
       "survived          \n",
       "0         265   42\n",
       "1          55  136"
      ]
     },
     "execution_count": 74,
     "metadata": {},
     "output_type": "execute_result"
    }
   ],
   "source": [
    "pd.crosstab(y_train, y_pred)"
   ]
  },
  {
   "cell_type": "code",
   "execution_count": 75,
   "id": "7552a79e",
   "metadata": {},
   "outputs": [
    {
     "data": {
      "text/plain": [
       "<sklearn.metrics._plot.confusion_matrix.ConfusionMatrixDisplay at 0x152e6e490>"
      ]
     },
     "execution_count": 75,
     "metadata": {},
     "output_type": "execute_result"
    },
    {
     "data": {
      "image/png": "[encoded data removed]",
      "text/plain": [
       "<Figure size 432x288 with 2 Axes>"
      ]
     },
     "metadata": {
      "needs_background": "light"
     },
     "output_type": "display_data"
    }
   ],
   "source": [
    "plot_confusion_matrix(knn, x_train, y_train)"
   ]
  },
  {
   "cell_type": "code",
   "execution_count": 76,
   "id": "f3833d58",
   "metadata": {},
   "outputs": [
    {
     "data": {
      "text/plain": [
       "(265, 42, 55, 136)"
      ]
     },
     "execution_count": 76,
     "metadata": {},
     "output_type": "execute_result"
    }
   ],
   "source": [
    "tn, fp, fn, tp = confusion_matrix(y_train, y_pred).ravel()\n",
    "tn, fp, fn, tp"
   ]
  },
  {
   "cell_type": "code",
   "execution_count": 77,
   "id": "d00ca7f2",
   "metadata": {},
   "outputs": [
    {
     "name": "stdout",
     "output_type": "stream",
     "text": [
      "TRAINING RESULTS\n",
      "----------------\n",
      "Feature importance:\n",
      "{'pclass': 0.2549494027745099, 'sibsp': 0.021627779178897626, 'parch': 0.030814008231242255, 'fare': 0.6926088098153502}\n",
      "Accuracy of KNN on training set: 80.52%\n",
      "              precision    recall  f1-score   support\n",
      "\n",
      "           0       0.83      0.86      0.85       307\n",
      "           1       0.76      0.71      0.74       191\n",
      "\n",
      "    accuracy                           0.81       498\n",
      "   macro avg       0.80      0.79      0.79       498\n",
      "weighted avg       0.80      0.81      0.80       498\n",
      "\n",
      "Confusion matrix: rows are truth, columns are pred\n",
      "\n",
      "[[265  42]\n",
      " [ 55 136]]\n",
      "\n",
      "False positive rate: 13.68%\n",
      "False negative rate: 28.80%\n",
      "True positive rate: 71.20%\n",
      "True negative rate: 86.32%\n",
      "----------------\n"
     ]
    }
   ],
   "source": [
    "# Copied from above\n",
    "# Print and clearly label the following: Accuracy, true positive rate, false positive rate,\n",
    "# true negative rate, false negative rate, precision, recall, f1-score, and support.\n",
    "print(\"TRAINING RESULTS\")\n",
    "print(\"----------------\")\n",
    "# Feature importance\n",
    "print(f\"Feature importance:\\n{dict(zip(features,rf.feature_importances_))}\")\n",
    "print(f\"Accuracy of KNN on training set: {knn.score(x_train, y_train):.2%}\")\n",
    "print(classification_report(y_train, y_pred))\n",
    "\n",
    "\n",
    "print(\"Confusion matrix: rows are truth, columns are pred\")\n",
    "print(\"\")\n",
    "print(confusion_matrix(y_train, y_pred))\n",
    "print(\"\")\n",
    "print(f\"False positive rate: {fp/(fp+tn):.2%}\")\n",
    "print(f\"False negative rate: {fn/(fn+tp):.2%}\")\n",
    "print(f\"True positive rate: {tp/(tp+fn):.2%}\")\n",
    "print(f\"True negative rate: {tn/(fp+tn):.2%}\")\n",
    "print(\"----------------\")"
   ]
  },
  {
   "cell_type": "markdown",
   "id": "032a67af",
   "metadata": {},
   "source": [
    "### Run through steps 2-4 setting k to 10"
   ]
  },
  {
   "cell_type": "code",
   "execution_count": 78,
   "id": "68014d47",
   "metadata": {},
   "outputs": [],
   "source": [
    "#Copied and adjusted from lesson\n",
    "# Create KNN Object\n",
    "knn10 = KNeighborsClassifier(n_neighbors=10, weights='uniform')\n",
    "\n",
    "# Fit object to training data\n",
    "knn10.fit(x_train, y_train)\n",
    "\n",
    "# Make predictions on training data\n",
    "y_pred10 = knn10.predict(x_train)"
   ]
  },
  {
   "cell_type": "code",
   "execution_count": 79,
   "id": "433cbf37",
   "metadata": {},
   "outputs": [
    {
     "name": "stdout",
     "output_type": "stream",
     "text": [
      "Accuracy of KNN classifier on training set: 0.78\n"
     ]
    }
   ],
   "source": [
    "print('Accuracy of KNN classifier on training set: {:.2f}'\n",
    "     .format(knn10.score(x_train, y_train)))"
   ]
  },
  {
   "cell_type": "code",
   "execution_count": 80,
   "id": "314d0ee0",
   "metadata": {},
   "outputs": [
    {
     "data": {
      "text/plain": [
       "<sklearn.metrics._plot.confusion_matrix.ConfusionMatrixDisplay at 0x152d4d2b0>"
      ]
     },
     "execution_count": 80,
     "metadata": {},
     "output_type": "execute_result"
    },
    {
     "data": {
      "image/png": "[encoded data removed]",
      "text/plain": [
       "<Figure size 432x288 with 2 Axes>"
      ]
     },
     "metadata": {
      "needs_background": "light"
     },
     "output_type": "display_data"
    }
   ],
   "source": [
    "plot_confusion_matrix(knn10, x_train, y_train)"
   ]
  },
  {
   "cell_type": "code",
   "execution_count": 86,
   "id": "231dc628",
   "metadata": {},
   "outputs": [],
   "source": [
    "# x_and_y function wouldn't update to new features\n",
    "x_validate = validate[features]\n",
    "y_validate = validate['survived']\n",
    "x_validate\n",
    "\n",
    "x_test = test[features]\n",
    "y_test = test['survived']"
   ]
  },
  {
   "cell_type": "code",
   "execution_count": 87,
   "id": "467aa15f",
   "metadata": {},
   "outputs": [
    {
     "name": "stdout",
     "output_type": "stream",
     "text": [
      "Accuracy of KNN (k=5) classifier on validate set: 0.73\n",
      "Accuracy of KNN (k=10) classifier on validate set: 0.72\n"
     ]
    }
   ],
   "source": [
    "print('Accuracy of KNN (k=5) classifier on validate set: {:.2f}'\n",
    "     .format(knn.score(x_validate, y_validate)))\n",
    "\n",
    "print('Accuracy of KNN (k=10) classifier on validate set: {:.2f}'\n",
    "     .format(knn10.score(x_validate, y_validate)))"
   ]
  },
  {
   "cell_type": "markdown",
   "id": "29cbe86d",
   "metadata": {},
   "source": [
    "### Takeaway:\n",
    " - second model is slightly lower performing"
   ]
  },
  {
   "cell_type": "markdown",
   "id": "e223956f",
   "metadata": {},
   "source": [
    "### Finding the Best value for k"
   ]
  },
  {
   "cell_type": "code",
   "execution_count": 88,
   "id": "c6d09af1",
   "metadata": {},
   "outputs": [
    {
     "data": {
      "image/png": "[encoded data removed]",
      "text/plain": [
       "<Figure size 432x288 with 1 Axes>"
      ]
     },
     "metadata": {
      "needs_background": "light"
     },
     "output_type": "display_data"
    }
   ],
   "source": [
    "import matplotlib.pyplot as plt\n",
    "k_range = range(1, 20)\n",
    "train_scores = []\n",
    "validate_scores = []\n",
    "test_scores = []\n",
    "for k in k_range:\n",
    "    knn = KNeighborsClassifier(n_neighbors = k)\n",
    "    knn.fit(x_train, y_train)\n",
    "    train_scores.append(knn.score(x_train, y_train))\n",
    "    validate_scores.append(knn.score(x_validate, y_validate))\n",
    "    test_scores.append(knn.score(x_test, y_test))\n",
    "plt.figure()\n",
    "plt.xlabel('k')\n",
    "plt.ylabel('accuracy')\n",
    "plt.plot(k_range, train_scores, label='Train')\n",
    "plt.plot(k_range, validate_scores, label='Validate')\n",
    "plt.plot(k_range, test_scores, label='Test')\n",
    "plt.legend()\n",
    "plt.xticks([0,5,10,15,20])\n",
    "plt.show()"
   ]
  },
  {
   "cell_type": "markdown",
   "id": "e747c312",
   "metadata": {},
   "source": [
    "### Run through setps 2-4 setting k to 20"
   ]
  },
  {
   "cell_type": "code",
   "execution_count": 90,
   "id": "0d4c3c39",
   "metadata": {},
   "outputs": [],
   "source": [
    "def k_nearest(train, features, target, k, validate = None, print_results = True):\n",
    "    \n",
    "    x_train = train[features]\n",
    "    y_train = train[target]\n",
    "    knn = KNeighborsClassifier(n_neighbors = k)\n",
    "    # Fit\n",
    "    knn = knn.fit(x_train, y_train)\n",
    "    \n",
    "    # Predict\n",
    "    y_pred = knn.predict(x_train)\n",
    "    \n",
    "    # Results\n",
    "    tn, fp, fn, tp = confusion_matrix(y_train, y_pred).ravel()\n",
    "    if print_results:\n",
    "        print(\"----------------\")\n",
    "        print(f\"USING k OF {knn.n_neighbors}\")\n",
    "        print(\"TRAINING RESULTS\")\n",
    "        print(\"----------------\")\n",
    "        # Feature importance\n",
    "        # print(f\"Feature importance:\\n{dict(zip(selected_features,knn.feature_importances_))}\")\n",
    "        \n",
    "        print(f\"Accuracy of k-nearest neighbors classifer on training set: {knn.score(x_train, y_train):.2%}\")\n",
    "        print(classification_report(y_train, y_pred))\n",
    "\n",
    "        \n",
    "        print(\"Confusion matrix: rows are truth, columns are pred\")\n",
    "        print(\"\")\n",
    "        print(confusion_matrix(y_train, y_pred))\n",
    "        print(\"\")\n",
    "        print(f\"False positive rate: {fp/(fp+tn):.2%}\")\n",
    "        print(f\"False negative rate: {fn/(fn+tp):.2%}\")\n",
    "        print(f\"True positive rate: {tp/(tp+fn):.2%}\")\n",
    "        print(f\"True negative rate: {tn/(fp+tn):.2%}\")\n",
    "        print(\"----------------\")\n",
    "    train_report = classification_report(y_train, y_pred, output_dict=True)\n",
    "    if validate is not None:\n",
    "        ### Predict for Validate \n",
    "        y_pred_val = knn.predict(validate[features])\n",
    "        ### Classification report\n",
    "        validate_report = classification_report(validate[target],y_pred_val, output_dict=True)\n",
    "        if print_results:\n",
    "            print(\"----------------\")\n",
    "            print(f\"USING k OF {knn.n_neighbors}\")\n",
    "            print(\"VALIDATE RESULTS\")\n",
    "            print(\"-------KNN---------\")\n",
    "            print(classification_report(validate[target],y_pred_val))\n",
    "    else:\n",
    "        validate_report = None\n",
    "    reports = {'train':train_report,'validate':validate_report}\n",
    "    return reports"
   ]
  },
  {
   "cell_type": "code",
   "execution_count": 97,
   "id": "6e052745",
   "metadata": {},
   "outputs": [
    {
     "name": "stdout",
     "output_type": "stream",
     "text": [
      "----------------\n",
      "USING k OF 20\n",
      "TRAINING RESULTS\n",
      "----------------\n",
      "Accuracy of k-nearest neighbors classifer on training set: 72.09%\n",
      "              precision    recall  f1-score   support\n",
      "\n",
      "           0       0.73      0.86      0.79       307\n",
      "           1       0.69      0.50      0.58       191\n",
      "\n",
      "    accuracy                           0.72       498\n",
      "   macro avg       0.71      0.68      0.68       498\n",
      "weighted avg       0.72      0.72      0.71       498\n",
      "\n",
      "Confusion matrix: rows are truth, columns are pred\n",
      "\n",
      "[[264  43]\n",
      " [ 96  95]]\n",
      "\n",
      "False positive rate: 14.01%\n",
      "False negative rate: 50.26%\n",
      "True positive rate: 49.74%\n",
      "True negative rate: 85.99%\n",
      "----------------\n"
     ]
    }
   ],
   "source": [
    "r = k_nearest(train, features, 'survived', 20,  print_results= True)"
   ]
  },
  {
   "cell_type": "code",
   "execution_count": 92,
   "id": "16f34299",
   "metadata": {},
   "outputs": [],
   "source": [
    "ks =[]\n",
    "accuracies = []\n",
    "precisions = []\n",
    "recalls = []\n",
    "v_accuracies = []\n",
    "v_precisions = []\n",
    "v_recalls = []\n",
    "class_to_analyze = '1'\n",
    "analysis_range = range(1,21,1)\n",
    "\n",
    "for k in analysis_range:\n",
    "    ks.append(k)\n",
    "    reports = k_nearest(train, features, 'survived', k, validate,  False)\n",
    "\n",
    "    train_report = reports['train']\n",
    "    accuracies.append(train_report['accuracy'])\n",
    "    precisions.append(train_report[class_to_analyze]['precision'])\n",
    "    recalls.append(train_report[class_to_analyze]['recall'])\n",
    "\n",
    "    validate_report = reports['validate']\n",
    "    v_accuracies.append(validate_report['accuracy'])\n",
    "    v_precisions.append(validate_report[class_to_analyze]['precision'])\n",
    "    v_recalls.append(validate_report[class_to_analyze]['recall'])\n",
    "        \n",
    "train_results_df= pd.DataFrame(data = {\"k\":ks,\"accuracy\":accuracies,\"precision\":precisions,\"recall\":recalls})\n",
    "validate_results_df= pd.DataFrame(data = {\"k\":ks,\"accuracy\":v_accuracies,\"precision\":v_precisions,\"recall\":v_recalls})"
   ]
  },
  {
   "cell_type": "code",
   "execution_count": 93,
   "id": "ff598a9f",
   "metadata": {},
   "outputs": [],
   "source": [
    "# Combine train and validate results to allow for plotting together\n",
    "combined_df = train_results_df.merge(validate_results_df,on=['k'], suffixes=['_train','_validate'])\n",
    "combined_df[\"accuracy_diff\"] = combined_df.accuracy_validate-combined_df.accuracy_train\n",
    "combined_df[\"precision_diff\"] = combined_df.precision_validate-combined_df.precision_train\n",
    "combined_df[\"recall_diff\"] = combined_df.recall_validate-combined_df.recall_train"
   ]
  },
  {
   "cell_type": "code",
   "execution_count": 94,
   "id": "b97d1d88",
   "metadata": {},
   "outputs": [],
   "source": [
    "# Melt metrics into same column to enable clean plotting with seaborn\n",
    "data = pd.melt(combined_df.drop(columns = ['accuracy_diff','precision_diff','recall_diff']), id_vars =['k'], var_name='metric')"
   ]
  },
  {
   "cell_type": "code",
   "execution_count": 96,
   "id": "83db8aa1",
   "metadata": {
    "scrolled": true
   },
   "outputs": [
    {
     "data": {
      "image/png": "[encoded data removed]",
      "text/plain": [
       "<Figure size 1152x432 with 3 Axes>"
      ]
     },
     "metadata": {
      "needs_background": "light"
     },
     "output_type": "display_data"
    }
   ],
   "source": [
    "_, ax = plt.subplots(1,3, figsize=(16,6))\n",
    "to_plot = [\"accuracy\",\"precision\",\"recall\"]\n",
    "for i, metric in enumerate(to_plot):\n",
    "    sns.lineplot(x = data[data.metric.str.contains(metric)].k, \n",
    "                 y = data[data.metric.str.contains(metric)].value, \n",
    "                 hue = data[data.metric.str.contains(metric)].metric,  \n",
    "                 ax=ax[i])\n",
    "    \n",
    "    plt.suptitle(f'KNN Train and validate performance \\nPrecision and recall based on class {class_to_analyze}')\n",
    "    plt.tight_layout()\n",
    "    #plt.xticks([analysis_range])\n",
    "    ax[i].legend(title = 'data set')\n",
    "    ax[i].set_title(metric)\n",
    "    if metric == \"accuracy\":\n",
    "        ax[i].set_title('Accuracy (Baseline accuracy shown in green)')\n",
    "        ax[i].axhline('baseline_accuracy', color = 'green')"
   ]
  },
  {
   "cell_type": "markdown",
   "id": "b1409fb1",
   "metadata": {},
   "source": [
    "### Logistical Regression Exercises"
   ]
  },
  {
   "cell_type": "markdown",
   "id": "e89436a8",
   "metadata": {},
   "source": [
    "Exercises\n",
    "\n",
    "In these exercises, we'll continue working with the titanic dataset and building logistic regression models. Throughout this exercise, be sure you are training, evaluation, and comparing models on the train and validate datasets. The test dataset should only be used for your final model.\n",
    "\n",
    "For all of the models you create, choose a threshold that optimizes for accuracy.\n",
    "\n",
    "Do your work for these exercises in either a notebook or a python script named model within your classification-exercises repository. Add, commit, and push your work.\n",
    "\n",
    "Create a model that includes age in addition to fare and pclass. Does this model perform better than your baseline?\n",
    "\n",
    "Include sex in your model as well. Note that you'll need to encode or create a dummy variable of this feature before including it in a model.\n",
    "\n",
    "Try out other combinations of features and models.\n",
    "\n",
    "Use you best 3 models to predict and evaluate on your validate sample.\n",
    "\n",
    "Choose you best model from the validation performation, and evaluate it on the test dataset. How do the performance metrics compare to validate? to train?\n",
    "\n",
    "Bonus1 How do different strategies for handling the missing values in the age column affect model performance?\n",
    "\n",
    "Bonus2: How do different strategies for encoding sex affect model performance?\n",
    "\n",
    "Bonus3: scikit-learn's LogisticRegression classifier is actually applying a regularization penalty to the coefficients by default. This penalty causes the magnitude of the coefficients in the resulting model to be smaller than they otherwise would be. This value can be modified with the C hyper parameter. Small values of C correspond to a larger penalty, and large values of C correspond to a smaller penalty.\n",
    "Try out the following values for C and note how the coefficients and the model's performance on both the dataset it was trained on and on the validate split are affected.\n",
    "\n",
    "C\n",
    "=\n",
    ".01\n",
    ",\n",
    ".1\n",
    ",\n",
    "1\n",
    ",\n",
    "10\n",
    ",\n",
    "100\n",
    ",\n",
    "1000\n",
    "\n",
    "Bonus Bonus: how does scaling the data interact with your choice of C?"
   ]
  },
  {
   "cell_type": "code",
   "execution_count": 19,
   "id": "d2be9c47",
   "metadata": {},
   "outputs": [],
   "source": [
    "import numpy as np\n",
    "import pandas as pd\n",
    "\n",
    "from sklearn.model_selection import train_test_split\n",
    "from sklearn.linear_model import LogisticRegression\n",
    "from sklearn.metrics import classification_report\n",
    "from sklearn.metrics import confusion_matrix\n",
    "import sklearn.linear_model\n",
    "\n",
    "# ignore warnings\n",
    "import warnings\n",
    "warnings.filterwarnings(\"ignore\")\n",
    "\n",
    "\n",
    "import matplotlib.pyplot as plt\n",
    "import seaborn as sns\n",
    "\n",
    "\n",
    "from acquire import get_titanic_data\n",
    "import prepare as pp\n",
    "import modeling"
   ]
  },
  {
   "cell_type": "code",
   "execution_count": 7,
   "id": "2c41ade5",
   "metadata": {},
   "outputs": [
    {
     "name": "stdout",
     "output_type": "stream",
     "text": [
      "Using cached csv\n"
     ]
    }
   ],
   "source": [
    "# Acquire data\n",
    "titanic = get_titanic_data()"
   ]
  },
  {
   "cell_type": "code",
   "execution_count": 10,
   "id": "e0dfd5bd",
   "metadata": {},
   "outputs": [
    {
     "name": "stdout",
     "output_type": "stream",
     "text": [
      "Using cached csv\n",
      "Data cleaned for duplicates, columns dropped [deck, embarked, class, age], filled na, and added numerical versions of sex and embark\n"
     ]
    }
   ],
   "source": [
    "titanic = pp.prep_titanic(titanic)"
   ]
  },
  {
   "cell_type": "code",
   "execution_count": 33,
   "id": "6f4aaa70",
   "metadata": {},
   "outputs": [],
   "source": [
    "titanic = titanic.drop(columns = ['passenger_id','sex','embark_town'])"
   ]
  },
  {
   "cell_type": "code",
   "execution_count": 34,
   "id": "9e5ee837",
   "metadata": {},
   "outputs": [
    {
     "data": {
      "text/html": [
       "<div>\n",
       "<style scoped>\n",
       "    .dataframe tbody tr th:only-of-type {\n",
       "        vertical-align: middle;\n",
       "    }\n",
       "\n",
       "    .dataframe tbody tr th {\n",
       "        vertical-align: top;\n",
       "    }\n",
       "\n",
       "    .dataframe thead th {\n",
       "        text-align: right;\n",
       "    }\n",
       "</style>\n",
       "<table border=\"1\" class=\"dataframe\">\n",
       "  <thead>\n",
       "    <tr style=\"text-align: right;\">\n",
       "      <th></th>\n",
       "      <th>survived</th>\n",
       "      <th>pclass</th>\n",
       "      <th>sibsp</th>\n",
       "      <th>parch</th>\n",
       "      <th>fare</th>\n",
       "      <th>alone</th>\n",
       "      <th>sex_male</th>\n",
       "      <th>embark_town_Queenstown</th>\n",
       "      <th>embark_town_Southampton</th>\n",
       "    </tr>\n",
       "  </thead>\n",
       "  <tbody>\n",
       "    <tr>\n",
       "      <th>0</th>\n",
       "      <td>0</td>\n",
       "      <td>3</td>\n",
       "      <td>1</td>\n",
       "      <td>0</td>\n",
       "      <td>7.2500</td>\n",
       "      <td>0</td>\n",
       "      <td>1</td>\n",
       "      <td>0</td>\n",
       "      <td>1</td>\n",
       "    </tr>\n",
       "    <tr>\n",
       "      <th>1</th>\n",
       "      <td>1</td>\n",
       "      <td>1</td>\n",
       "      <td>1</td>\n",
       "      <td>0</td>\n",
       "      <td>71.2833</td>\n",
       "      <td>0</td>\n",
       "      <td>0</td>\n",
       "      <td>0</td>\n",
       "      <td>0</td>\n",
       "    </tr>\n",
       "  </tbody>\n",
       "</table>\n",
       "</div>"
      ],
      "text/plain": [
       "   survived  pclass  sibsp  parch     fare  alone  sex_male  \\\n",
       "0         0       3      1      0   7.2500      0         1   \n",
       "1         1       1      1      0  71.2833      0         0   \n",
       "\n",
       "   embark_town_Queenstown  embark_town_Southampton  \n",
       "0                       0                        1  \n",
       "1                       0                        0  "
      ]
     },
     "execution_count": 34,
     "metadata": {},
     "output_type": "execute_result"
    }
   ],
   "source": [
    "titanic.head(2)"
   ]
  },
  {
   "cell_type": "code",
   "execution_count": 35,
   "id": "30560f6e",
   "metadata": {},
   "outputs": [
    {
     "data": {
      "text/plain": [
       "survived                   0\n",
       "pclass                     0\n",
       "sibsp                      0\n",
       "parch                      0\n",
       "fare                       0\n",
       "alone                      0\n",
       "sex_male                   0\n",
       "embark_town_Queenstown     0\n",
       "embark_town_Southampton    0\n",
       "dtype: int64"
      ]
     },
     "execution_count": 35,
     "metadata": {},
     "output_type": "execute_result"
    }
   ],
   "source": [
    "titanic.isna().sum()"
   ]
  },
  {
   "cell_type": "code",
   "execution_count": 36,
   "id": "991c4691",
   "metadata": {},
   "outputs": [
    {
     "data": {
      "text/plain": [
       "((498, 9), (214, 9), (179, 9))"
      ]
     },
     "execution_count": 36,
     "metadata": {},
     "output_type": "execute_result"
    }
   ],
   "source": [
    "#split data\n",
    "train, validate, test= pp.train_validate_test_split(titanic,target = 'survived')\n",
    "train.shape, validate.shape, test.shape"
   ]
  },
  {
   "cell_type": "code",
   "execution_count": 37,
   "id": "1e28d0a3",
   "metadata": {},
   "outputs": [],
   "source": [
    "features = ['pclass','sibsp','parch','fare','alone','sex_male','embark_town_Queenstown','embark_town_Southampton']"
   ]
  },
  {
   "cell_type": "code",
   "execution_count": 38,
   "id": "7be49a72",
   "metadata": {},
   "outputs": [],
   "source": [
    "# Separate out our X and y values\n",
    "x_train = train.drop(columns=[\"survived\"])\n",
    "y_train = train.survived\n",
    "\n",
    "x_validate = validate.drop(columns=[\"survived\"])\n",
    "y_validate = validate.survived\n",
    "\n",
    "x_test = test.drop(columns=[\"survived\"])\n",
    "y_test = test.survived"
   ]
  },
  {
   "cell_type": "code",
   "execution_count": 39,
   "id": "d8fb2e5e",
   "metadata": {},
   "outputs": [
    {
     "data": {
      "text/html": [
       "<div>\n",
       "<style scoped>\n",
       "    .dataframe tbody tr th:only-of-type {\n",
       "        vertical-align: middle;\n",
       "    }\n",
       "\n",
       "    .dataframe tbody tr th {\n",
       "        vertical-align: top;\n",
       "    }\n",
       "\n",
       "    .dataframe thead th {\n",
       "        text-align: right;\n",
       "    }\n",
       "</style>\n",
       "<table border=\"1\" class=\"dataframe\">\n",
       "  <thead>\n",
       "    <tr style=\"text-align: right;\">\n",
       "      <th></th>\n",
       "      <th>pclass</th>\n",
       "      <th>sibsp</th>\n",
       "      <th>parch</th>\n",
       "      <th>fare</th>\n",
       "      <th>alone</th>\n",
       "      <th>sex_male</th>\n",
       "      <th>embark_town_Queenstown</th>\n",
       "      <th>embark_town_Southampton</th>\n",
       "    </tr>\n",
       "  </thead>\n",
       "  <tbody>\n",
       "    <tr>\n",
       "      <th>583</th>\n",
       "      <td>1</td>\n",
       "      <td>0</td>\n",
       "      <td>0</td>\n",
       "      <td>40.1250</td>\n",
       "      <td>1</td>\n",
       "      <td>1</td>\n",
       "      <td>0</td>\n",
       "      <td>0</td>\n",
       "    </tr>\n",
       "    <tr>\n",
       "      <th>165</th>\n",
       "      <td>3</td>\n",
       "      <td>0</td>\n",
       "      <td>2</td>\n",
       "      <td>20.5250</td>\n",
       "      <td>0</td>\n",
       "      <td>1</td>\n",
       "      <td>0</td>\n",
       "      <td>1</td>\n",
       "    </tr>\n",
       "    <tr>\n",
       "      <th>50</th>\n",
       "      <td>3</td>\n",
       "      <td>4</td>\n",
       "      <td>1</td>\n",
       "      <td>39.6875</td>\n",
       "      <td>0</td>\n",
       "      <td>1</td>\n",
       "      <td>0</td>\n",
       "      <td>1</td>\n",
       "    </tr>\n",
       "    <tr>\n",
       "      <th>259</th>\n",
       "      <td>2</td>\n",
       "      <td>0</td>\n",
       "      <td>1</td>\n",
       "      <td>26.0000</td>\n",
       "      <td>0</td>\n",
       "      <td>0</td>\n",
       "      <td>0</td>\n",
       "      <td>1</td>\n",
       "    </tr>\n",
       "    <tr>\n",
       "      <th>306</th>\n",
       "      <td>1</td>\n",
       "      <td>0</td>\n",
       "      <td>0</td>\n",
       "      <td>110.8833</td>\n",
       "      <td>1</td>\n",
       "      <td>0</td>\n",
       "      <td>0</td>\n",
       "      <td>0</td>\n",
       "    </tr>\n",
       "  </tbody>\n",
       "</table>\n",
       "</div>"
      ],
      "text/plain": [
       "     pclass  sibsp  parch      fare  alone  sex_male  embark_town_Queenstown  \\\n",
       "583       1      0      0   40.1250      1         1                       0   \n",
       "165       3      0      2   20.5250      0         1                       0   \n",
       "50        3      4      1   39.6875      0         1                       0   \n",
       "259       2      0      1   26.0000      0         0                       0   \n",
       "306       1      0      0  110.8833      1         0                       0   \n",
       "\n",
       "     embark_town_Southampton  \n",
       "583                        0  \n",
       "165                        1  \n",
       "50                         1  \n",
       "259                        1  \n",
       "306                        0  "
      ]
     },
     "execution_count": 39,
     "metadata": {},
     "output_type": "execute_result"
    }
   ],
   "source": [
    "x_train.head()"
   ]
  },
  {
   "cell_type": "markdown",
   "id": "667d6a08",
   "metadata": {},
   "source": [
    "### Insert Exploratory Data Analysis here"
   ]
  },
  {
   "cell_type": "markdown",
   "id": "79c510f6",
   "metadata": {},
   "source": [
    "## By the Book\n",
    "### Model 1 - Following Lesson example"
   ]
  },
  {
   "cell_type": "code",
   "execution_count": 40,
   "id": "78a9f1f6",
   "metadata": {},
   "outputs": [],
   "source": [
    "# Define the logistic regression model\n",
    "logit = LogisticRegression(C=1, random_state=123)"
   ]
  },
  {
   "cell_type": "code",
   "execution_count": 41,
   "id": "7cb22146",
   "metadata": {},
   "outputs": [
    {
     "data": {
      "text/plain": [
       "LogisticRegression(C=1, random_state=123)"
      ]
     },
     "execution_count": 41,
     "metadata": {},
     "output_type": "execute_result"
    }
   ],
   "source": [
    "#  fit the model on train data\n",
    "logit.fit(x_train, y_train)"
   ]
  },
  {
   "cell_type": "code",
   "execution_count": 43,
   "id": "ba5320a8",
   "metadata": {},
   "outputs": [],
   "source": [
    "y_pred = logit.predict(x_train)"
   ]
  },
  {
   "cell_type": "code",
   "execution_count": 44,
   "id": "7c59f1c9",
   "metadata": {},
   "outputs": [
    {
     "data": {
      "text/plain": [
       "array([0, 0, 0, 1, 1, 0, 0, 0, 0, 0, 1, 0, 1, 0, 0, 0, 0, 1, 0, 1, 1, 0,\n",
       "       1, 1, 0, 0, 1, 1, 0, 0, 0, 0, 0, 0, 1, 0, 0, 1, 0, 1, 0, 0, 0, 1,\n",
       "       0, 0, 0, 0, 1, 0, 0, 0, 1, 1, 0, 1, 0, 1, 1, 0, 0, 0, 0, 0, 0, 0,\n",
       "       0, 0, 0, 1, 0, 0, 1, 0, 0, 0, 0, 0, 0, 0, 0, 1, 0, 0, 0, 0, 1, 1,\n",
       "       1, 0, 0, 0, 1, 1, 0, 0, 1, 0, 0, 1, 0, 0, 1, 0, 1, 1, 0, 0, 0, 0,\n",
       "       0, 0, 0, 0, 1, 1, 0, 0, 1, 1, 1, 0, 0, 1, 0, 1, 1, 0, 1, 0, 1, 0,\n",
       "       0, 1, 0, 0, 0, 0, 0, 1, 1, 1, 0, 0, 0, 0, 1, 1, 1, 1, 0, 1, 1, 0,\n",
       "       1, 0, 0, 0, 1, 0, 0, 1, 0, 1, 0, 0, 0, 0, 0, 0, 0, 1, 1, 0, 0, 0,\n",
       "       1, 0, 0, 0, 0, 0, 0, 1, 0, 1, 0, 1, 1, 1, 0, 1, 0, 0, 1, 1, 0, 0,\n",
       "       0, 0, 0, 1, 1, 0, 0, 0, 0, 1, 0, 1, 1, 0, 0, 1, 1, 0, 0, 0, 1, 0,\n",
       "       1, 0, 0, 1, 0, 0, 0, 0, 0, 0, 0, 0, 0, 0, 0, 1, 1, 0, 0, 0, 0, 1,\n",
       "       1, 0, 1, 0, 1, 0, 0, 1, 0, 0, 0, 0, 0, 1, 1, 1, 1, 1, 0, 0, 1, 1,\n",
       "       0, 0, 1, 0, 0, 1, 0, 1, 0, 1, 0, 0, 0, 0, 0, 0, 0, 1, 1, 1, 0, 0,\n",
       "       1, 0, 0, 0, 0, 0, 0, 0, 1, 0, 0, 0, 0, 0, 0, 0, 0, 1, 0, 0, 1, 0,\n",
       "       0, 1, 0, 0, 0, 1, 0, 1, 0, 1, 0, 0, 0, 0, 1, 0, 0, 0, 0, 0, 0, 1,\n",
       "       0, 0, 1, 0, 0, 1, 0, 1, 0, 0, 0, 1, 1, 0, 0, 1, 0, 0, 0, 0, 1, 0,\n",
       "       0, 1, 1, 1, 1, 0, 1, 0, 1, 0, 1, 0, 0, 0, 0, 0, 0, 0, 0, 0, 1, 0,\n",
       "       1, 1, 1, 1, 1, 0, 0, 1, 1, 0, 0, 1, 0, 1, 0, 0, 0, 0, 0, 1, 0, 1,\n",
       "       1, 0, 0, 1, 0, 1, 0, 0, 0, 0, 0, 0, 0, 1, 0, 0, 0, 0, 1, 1, 1, 1,\n",
       "       1, 0, 0, 0, 0, 1, 0, 1, 1, 1, 0, 1, 0, 0, 0, 0, 1, 0, 1, 0, 1, 0,\n",
       "       0, 1, 0, 0, 0, 1, 0, 0, 0, 0, 0, 1, 0, 0, 1, 0, 0, 0, 0, 0, 0, 0,\n",
       "       1, 1, 1, 1, 1, 0, 0, 0, 1, 0, 0, 0, 0, 0, 1, 0, 0, 0, 1, 1, 0, 1,\n",
       "       0, 0, 0, 1, 0, 1, 1, 0, 1, 0, 0, 0, 0, 0])"
      ]
     },
     "execution_count": 44,
     "metadata": {},
     "output_type": "execute_result"
    }
   ],
   "source": [
    "y_pred"
   ]
  },
  {
   "cell_type": "code",
   "execution_count": 45,
   "id": "750bd812",
   "metadata": {},
   "outputs": [
    {
     "data": {
      "text/plain": [
       "array([[0.60565216, 0.39434784],\n",
       "       [0.86058988, 0.13941012],\n",
       "       [0.97110029, 0.02889971],\n",
       "       [0.12437815, 0.87562185],\n",
       "       [0.09929079, 0.90070921],\n",
       "       [0.72454745, 0.27545255],\n",
       "       [0.76690757, 0.23309243],\n",
       "       [0.80112126, 0.19887874],\n",
       "       [0.85369868, 0.14630132],\n",
       "       [0.94633951, 0.05366049]])"
      ]
     },
     "execution_count": 45,
     "metadata": {},
     "output_type": "execute_result"
    }
   ],
   "source": [
    "logit.predict_proba(x_train)[:10]"
   ]
  },
  {
   "cell_type": "code",
   "execution_count": 46,
   "id": "b47bc5c6",
   "metadata": {},
   "outputs": [
    {
     "data": {
      "text/plain": [
       "array([0, 1])"
      ]
     },
     "execution_count": 46,
     "metadata": {},
     "output_type": "execute_result"
    }
   ],
   "source": [
    "logit.classes_"
   ]
  },
  {
   "cell_type": "code",
   "execution_count": 50,
   "id": "3192049e",
   "metadata": {},
   "outputs": [
    {
     "data": {
      "text/html": [
       "<div>\n",
       "<style scoped>\n",
       "    .dataframe tbody tr th:only-of-type {\n",
       "        vertical-align: middle;\n",
       "    }\n",
       "\n",
       "    .dataframe tbody tr th {\n",
       "        vertical-align: top;\n",
       "    }\n",
       "\n",
       "    .dataframe thead th {\n",
       "        text-align: right;\n",
       "    }\n",
       "</style>\n",
       "<table border=\"1\" class=\"dataframe\">\n",
       "  <thead>\n",
       "    <tr style=\"text-align: right;\">\n",
       "      <th></th>\n",
       "      <th>no_survived</th>\n",
       "      <th>Survived</th>\n",
       "    </tr>\n",
       "  </thead>\n",
       "  <tbody>\n",
       "    <tr>\n",
       "      <th>0</th>\n",
       "      <td>0.605652</td>\n",
       "      <td>0.394348</td>\n",
       "    </tr>\n",
       "    <tr>\n",
       "      <th>1</th>\n",
       "      <td>0.860590</td>\n",
       "      <td>0.139410</td>\n",
       "    </tr>\n",
       "    <tr>\n",
       "      <th>2</th>\n",
       "      <td>0.971100</td>\n",
       "      <td>0.028900</td>\n",
       "    </tr>\n",
       "    <tr>\n",
       "      <th>3</th>\n",
       "      <td>0.124378</td>\n",
       "      <td>0.875622</td>\n",
       "    </tr>\n",
       "    <tr>\n",
       "      <th>4</th>\n",
       "      <td>0.099291</td>\n",
       "      <td>0.900709</td>\n",
       "    </tr>\n",
       "  </tbody>\n",
       "</table>\n",
       "</div>"
      ],
      "text/plain": [
       "   no_survived  Survived\n",
       "0     0.605652  0.394348\n",
       "1     0.860590  0.139410\n",
       "2     0.971100  0.028900\n",
       "3     0.124378  0.875622\n",
       "4     0.099291  0.900709"
      ]
     },
     "execution_count": 50,
     "metadata": {},
     "output_type": "execute_result"
    }
   ],
   "source": [
    "y_pred_proba = logit.predict_proba(x_train)\n",
    "y_pred_proba = pd.DataFrame(y_pred_proba, columns = ['no_survived', 'Survived'])\n",
    "y_pred_proba.head()"
   ]
  },
  {
   "cell_type": "code",
   "execution_count": 51,
   "id": "3b74f06e",
   "metadata": {},
   "outputs": [
    {
     "name": "stdout",
     "output_type": "stream",
     "text": [
      "              precision    recall  f1-score   support\n",
      "\n",
      "           0       0.82      0.88      0.85       307\n",
      "           1       0.78      0.70      0.73       191\n",
      "\n",
      "    accuracy                           0.81       498\n",
      "   macro avg       0.80      0.79      0.79       498\n",
      "weighted avg       0.81      0.81      0.80       498\n",
      "\n"
     ]
    }
   ],
   "source": [
    "print(classification_report(y_train, y_pred))"
   ]
  },
  {
   "cell_type": "markdown",
   "id": "a1e2f470",
   "metadata": {},
   "source": [
    "### Model 2"
   ]
  },
  {
   "cell_type": "code",
   "execution_count": 54,
   "id": "fc45ca43",
   "metadata": {},
   "outputs": [
    {
     "data": {
      "text/plain": [
       "LogisticRegression(C=0.01, random_state=123)"
      ]
     },
     "execution_count": 54,
     "metadata": {},
     "output_type": "execute_result"
    }
   ],
   "source": [
    "logit2 = LogisticRegression(C=.01 ,random_state=123)\n",
    "logit2.fit(x_train,y_train)"
   ]
  },
  {
   "cell_type": "code",
   "execution_count": 56,
   "id": "6a560bf1",
   "metadata": {},
   "outputs": [
    {
     "name": "stdout",
     "output_type": "stream",
     "text": [
      "              precision    recall  f1-score   support\n",
      "\n",
      "           0       0.68      0.94      0.79       307\n",
      "           1       0.76      0.29      0.42       191\n",
      "\n",
      "    accuracy                           0.69       498\n",
      "   macro avg       0.72      0.62      0.61       498\n",
      "weighted avg       0.71      0.69      0.65       498\n",
      "\n"
     ]
    }
   ],
   "source": [
    "y_pred2 = logit2.predict(x_train)\n",
    "#classification report\n",
    "print(classification_report(y_train, y_pred2))"
   ]
  },
  {
   "cell_type": "markdown",
   "id": "d1ad1cc3",
   "metadata": {},
   "source": [
    "### Evaluate Model1 and 2 performance on \"Validate\""
   ]
  },
  {
   "cell_type": "code",
   "execution_count": 58,
   "id": "b83f0ebf",
   "metadata": {},
   "outputs": [],
   "source": [
    "y_pred_validate = logit.predict(x_validate)\n",
    "y_pred_validate2 = logit2.predict(x_validate)"
   ]
  },
  {
   "cell_type": "code",
   "execution_count": 59,
   "id": "50d88bce",
   "metadata": {},
   "outputs": [
    {
     "name": "stdout",
     "output_type": "stream",
     "text": [
      "Model 1: solver = lbfgs, c = 1\n",
      "Accuracy: 0.78\n",
      "              precision    recall  f1-score   support\n",
      "\n",
      "           0       0.79      0.86      0.83       132\n",
      "           1       0.74      0.63      0.68        82\n",
      "\n",
      "    accuracy                           0.78       214\n",
      "   macro avg       0.77      0.75      0.76       214\n",
      "weighted avg       0.77      0.78      0.77       214\n",
      "\n",
      "Model 2: solver = lbfgs, c = .01\n",
      "Accuracy: 0.73\n",
      "              precision    recall  f1-score   support\n",
      "\n",
      "           0       0.71      0.96      0.81       132\n",
      "           1       0.85      0.35      0.50        82\n",
      "\n",
      "    accuracy                           0.73       214\n",
      "   macro avg       0.78      0.66      0.66       214\n",
      "weighted avg       0.76      0.73      0.69       214\n",
      "\n"
     ]
    }
   ],
   "source": [
    "print(\"Model 1: solver = lbfgs, c = 1\")\n",
    "\n",
    "print('Accuracy: {:.2f}'.format(logit.score(x_validate, y_validate)))\n",
    "\n",
    "print(classification_report(y_validate, y_pred_validate))\n",
    "\n",
    "print(\"Model 2: solver = lbfgs, c = .01\")\n",
    "\n",
    "print('Accuracy: {:.2f}'.format(logit2.score(x_validate, y_validate)))\n",
    "\n",
    "print(classification_report(y_validate, y_pred_validate2))"
   ]
  },
  {
   "cell_type": "markdown",
   "id": "fd8249f6",
   "metadata": {},
   "source": [
    "## Trying new methods\n",
    "### Model 3 - New combination of features"
   ]
  },
  {
   "cell_type": "code",
   "execution_count": 61,
   "id": "c375b53b",
   "metadata": {},
   "outputs": [
    {
     "name": "stdout",
     "output_type": "stream",
     "text": [
      "Logistic Regression using age, pclass, fare, and gender features\n",
      "Accuracy of Logistic Regression classifier on training set: 0.80\n"
     ]
    }
   ],
   "source": [
    "# New features \n",
    "features = ['sex_male','pclass', 'fare']\n",
    "#Logistic regression\n",
    "logit3 = LogisticRegression(random_state=123)\n",
    "# Fit\n",
    "logit3.fit(x_train[features], y_train)\n",
    "\n",
    "y_pred = logit3.predict(x_train[features])\n",
    "print(\"Logistic Regression using age, pclass, fare, and gender features\")\n",
    "print('Accuracy of Logistic Regression classifier on training set: {:.2f}'\n",
    "     .format(logit3.score(x_train[features], y_train)))"
   ]
  },
  {
   "cell_type": "markdown",
   "id": "561ebe3d",
   "metadata": {},
   "source": [
    "### Pick Best model"
   ]
  },
  {
   "cell_type": "code",
   "execution_count": 66,
   "id": "789f6e0e",
   "metadata": {},
   "outputs": [],
   "source": [
    "def logistic_regression(train, selected_features, target, c, validate = None, test = None, print_results = True):\n",
    "    \n",
    "    x_train = train[features]\n",
    "    y_train = train[target]\n",
    "    logit = LogisticRegression(C=c,random_state=123, max_iter=1000)\n",
    "    # Fit\n",
    "    logit = logit.fit(x_train, y_train)\n",
    "    \n",
    "    # Predict\n",
    "    y_pred = logit.predict(x_train)\n",
    "    \n",
    "    # Results\n",
    "    tn, fp, fn, tp = confusion_matrix(y_train, y_pred).ravel()\n",
    "    if print_results:\n",
    "        print(\"----------------\")\n",
    "        print(f\"USING c OF {logit.C}\")\n",
    "        print(\"TRAINING RESULTS\")\n",
    "        print(\"----------------\")\n",
    "        # Feature importance\n",
    "        print(selected_features)\n",
    "        print('Coefficient: \\n', logit.coef_)\n",
    "        print('Intercept: \\n', logit.intercept_)\n",
    "        \n",
    "        \n",
    "        print(f\"Accuracy of logistic regression classifer on training set: {logit.score(x_train, y_train):.2%}\")\n",
    "        print(classification_report(y_train, y_pred))\n",
    "\n",
    "        \n",
    "        print(\"Confusion matrix: rows are truth, columns are pred\")\n",
    "        print(\"\")\n",
    "        print(confusion_matrix(y_train, y_pred))\n",
    "        print(\"\")\n",
    "        print(f\"False positive rate: {fp/(fp+tn):.2%}\")\n",
    "        print(f\"False negative rate: {fn/(fn+tp):.2%}\")\n",
    "        print(f\"True positive rate: {tp/(tp+fn):.2%}\")\n",
    "        print(f\"True negative rate: {tn/(fp+tn):.2%}\")\n",
    "        print(\"----------------\")\n",
    "    train_report = classification_report(y_train, y_pred, output_dict=True)\n",
    "    if validate is not None:\n",
    "        ### Predict for Validate \n",
    "        y_pred_val = logit.predict(validate[selected_features])\n",
    "        ### Classification report\n",
    "        validate_report = classification_report(validate[target],y_pred_val, output_dict=True)\n",
    "        if print_results:\n",
    "            print(\"----------------\")\n",
    "            print(f\"USING c OF {logit.C}\")\n",
    "            print(\"VALIDATE RESULTS\")\n",
    "            print(\"-------Logistic Regression---------\")\n",
    "            print(classification_report(validate[target],y_pred_val))\n",
    "    else:\n",
    "        validate_report = None\n",
    "        \n",
    "    ## Test set performance\n",
    "    if test is not None:\n",
    "        ### Predict for Validate \n",
    "        y_pred_test = logit.predict(test[features])\n",
    "        ### Classification report\n",
    "        test_report = classification_report(test[target],y_pred_test, output_dict=True)\n",
    "        if print_results:\n",
    "            print(\"----------------\")\n",
    "            print(f\"USING c OF {logit.C}\")\n",
    "            print(\"TEST RESULTS\")\n",
    "            print(\"-------Logistic Regression---------\")\n",
    "            print(classification_report(test[target],y_pred_test))\n",
    "    else:\n",
    "        test_report = None\n",
    "    reports = {'train':train_report,'validate':validate_report, 'test':test_report}\n",
    "    return reports"
   ]
  },
  {
   "cell_type": "code",
   "execution_count": 67,
   "id": "897f7c40",
   "metadata": {},
   "outputs": [
    {
     "name": "stdout",
     "output_type": "stream",
     "text": [
      "----------------\n",
      "USING c OF 1.0\n",
      "TRAINING RESULTS\n",
      "----------------\n",
      "['sex_male', 'pclass', 'fare']\n",
      "Coefficient: \n",
      " [[-2.71953384e+00 -9.98110819e-01 -8.45873075e-04]]\n",
      "Intercept: \n",
      " [3.44776929]\n",
      "Accuracy of logistic regression classifer on training set: 79.92%\n",
      "              precision    recall  f1-score   support\n",
      "\n",
      "           0       0.82      0.86      0.84       307\n",
      "           1       0.76      0.70      0.73       191\n",
      "\n",
      "    accuracy                           0.80       498\n",
      "   macro avg       0.79      0.78      0.78       498\n",
      "weighted avg       0.80      0.80      0.80       498\n",
      "\n",
      "Confusion matrix: rows are truth, columns are pred\n",
      "\n",
      "[[265  42]\n",
      " [ 58 133]]\n",
      "\n",
      "False positive rate: 13.68%\n",
      "False negative rate: 30.37%\n",
      "True positive rate: 69.63%\n",
      "True negative rate: 86.32%\n",
      "----------------\n"
     ]
    }
   ],
   "source": [
    "re = logistic_regression(train, features, 'survived', 1.0)"
   ]
  },
  {
   "cell_type": "code",
   "execution_count": 68,
   "id": "f4f132b0",
   "metadata": {},
   "outputs": [],
   "source": [
    "features = ['pclass', 'fare', 'sex_male','alone']"
   ]
  },
  {
   "cell_type": "code",
   "execution_count": 69,
   "id": "7a024e5f",
   "metadata": {},
   "outputs": [
    {
     "name": "stdout",
     "output_type": "stream",
     "text": [
      "----------------\n",
      "USING c OF 1.0\n",
      "TRAINING RESULTS\n",
      "----------------\n",
      "['pclass', 'fare', 'sex_male', 'alone']\n",
      "Coefficient: \n",
      " [[-1.00425207e+00 -1.25732548e-03 -2.69374428e+00 -1.15811143e-01]]\n",
      "Intercept: \n",
      " [3.52858262]\n",
      "Accuracy of logistic regression classifer on training set: 79.92%\n",
      "              precision    recall  f1-score   support\n",
      "\n",
      "           0       0.82      0.86      0.84       307\n",
      "           1       0.76      0.70      0.73       191\n",
      "\n",
      "    accuracy                           0.80       498\n",
      "   macro avg       0.79      0.78      0.78       498\n",
      "weighted avg       0.80      0.80      0.80       498\n",
      "\n",
      "Confusion matrix: rows are truth, columns are pred\n",
      "\n",
      "[[265  42]\n",
      " [ 58 133]]\n",
      "\n",
      "False positive rate: 13.68%\n",
      "False negative rate: 30.37%\n",
      "True positive rate: 69.63%\n",
      "True negative rate: 86.32%\n",
      "----------------\n"
     ]
    }
   ],
   "source": [
    "cr = logistic_regression(train, features, 'survived', 1.0)"
   ]
  },
  {
   "cell_type": "code",
   "execution_count": 70,
   "id": "aa8cb085",
   "metadata": {},
   "outputs": [],
   "source": [
    "features = ['pclass', 'fare', 'sex_male', 'alone', 'embark_town_Queenstown', 'embark_town_Southampton']"
   ]
  },
  {
   "cell_type": "code",
   "execution_count": 72,
   "id": "90e8279d",
   "metadata": {},
   "outputs": [
    {
     "name": "stdout",
     "output_type": "stream",
     "text": [
      "----------------\n",
      "USING c OF 1.0\n",
      "TRAINING RESULTS\n",
      "----------------\n",
      "['pclass', 'fare', 'sex_male', 'alone', 'embark_town_Queenstown', 'embark_town_Southampton']\n",
      "Coefficient: \n",
      " [[-1.04688967e+00 -2.00016496e-03 -2.64402628e+00 -1.80055046e-01\n",
      "   4.12163748e-01 -2.27291223e-01]]\n",
      "Intercept: \n",
      " [3.77495137]\n",
      "Accuracy of logistic regression classifer on training set: 79.72%\n",
      "              precision    recall  f1-score   support\n",
      "\n",
      "           0       0.82      0.86      0.84       307\n",
      "           1       0.76      0.70      0.72       191\n",
      "\n",
      "    accuracy                           0.80       498\n",
      "   macro avg       0.79      0.78      0.78       498\n",
      "weighted avg       0.80      0.80      0.80       498\n",
      "\n",
      "Confusion matrix: rows are truth, columns are pred\n",
      "\n",
      "[[264  43]\n",
      " [ 58 133]]\n",
      "\n",
      "False positive rate: 14.01%\n",
      "False negative rate: 30.37%\n",
      "True positive rate: 69.63%\n",
      "True negative rate: 85.99%\n",
      "----------------\n"
     ]
    }
   ],
   "source": [
    "re = logistic_regression(train,features, 'survived', 1.0)"
   ]
  },
  {
   "cell_type": "code",
   "execution_count": 73,
   "id": "d638cf0c",
   "metadata": {},
   "outputs": [],
   "source": [
    "selected_features = ['pclass','sex_male']"
   ]
  },
  {
   "cell_type": "code",
   "execution_count": 74,
   "id": "ddcd851e",
   "metadata": {},
   "outputs": [
    {
     "name": "stdout",
     "output_type": "stream",
     "text": [
      "----------------\n",
      "USING c OF 1.0\n",
      "TRAINING RESULTS\n",
      "----------------\n",
      "['pclass', 'fare', 'sex_male', 'alone', 'embark_town_Queenstown', 'embark_town_Southampton']\n",
      "Coefficient: \n",
      " [[-1.04688967e+00 -2.00016496e-03 -2.64402628e+00 -1.80055046e-01\n",
      "   4.12163748e-01 -2.27291223e-01]]\n",
      "Intercept: \n",
      " [3.77495137]\n",
      "Accuracy of logistic regression classifer on training set: 79.72%\n",
      "              precision    recall  f1-score   support\n",
      "\n",
      "           0       0.82      0.86      0.84       307\n",
      "           1       0.76      0.70      0.72       191\n",
      "\n",
      "    accuracy                           0.80       498\n",
      "   macro avg       0.79      0.78      0.78       498\n",
      "weighted avg       0.80      0.80      0.80       498\n",
      "\n",
      "Confusion matrix: rows are truth, columns are pred\n",
      "\n",
      "[[264  43]\n",
      " [ 58 133]]\n",
      "\n",
      "False positive rate: 14.01%\n",
      "False negative rate: 30.37%\n",
      "True positive rate: 69.63%\n",
      "True negative rate: 85.99%\n",
      "----------------\n"
     ]
    }
   ],
   "source": [
    "re = logistic_regression(train, features, 'survived', 1.0)"
   ]
  },
  {
   "cell_type": "code",
   "execution_count": 75,
   "id": "6c6746df",
   "metadata": {},
   "outputs": [],
   "source": [
    "cs =[]\n",
    "accuracies = []\n",
    "precisions = []\n",
    "recalls = []\n",
    "v_accuracies = []\n",
    "v_precisions = []\n",
    "v_recalls = []\n",
    "c_values = [0.01, 0.1, 1, 10, 100, 1000]\n",
    "# np.linspace(0.01, 1, num = 10):\n",
    "for c in np.linspace(0.01, 3, num = 10):\n",
    "    cs.append(c)\n",
    "    reports = logistic_regression(train, features, 'survived', c, None,None, False)\n",
    "\n",
    "    train_report = reports['train']\n",
    "    accuracies.append(train_report['accuracy'])\n",
    "    precisions.append(train_report['1']['precision'])\n",
    "    recalls.append(train_report['1']['recall'])\n",
    "train_results_df= pd.DataFrame(data = {\"c\":cs,\"accuracy\":accuracies,\"precision\":precisions,\"recall\":recalls})"
   ]
  },
  {
   "cell_type": "code",
   "execution_count": 76,
   "id": "3a9db8b2",
   "metadata": {},
   "outputs": [
    {
     "data": {
      "image/png": "[encoded data removed]",
      "text/plain": [
       "<Figure size 1152x432 with 3 Axes>"
      ]
     },
     "metadata": {
      "needs_background": "light"
     },
     "output_type": "display_data"
    }
   ],
   "source": [
    "_, ax = plt.subplots(1,3,figsize=(16,6))\n",
    "to_plot = ['accuracy','precision','recall']\n",
    "for i, metric in enumerate(to_plot):\n",
    "    sns.lineplot(x = train_results_df.c, y= train_results_df[metric], ax = ax[i])\n",
    "    ax[i].set_title(metric)"
   ]
  },
  {
   "cell_type": "code",
   "execution_count": 77,
   "id": "12b81540",
   "metadata": {},
   "outputs": [],
   "source": [
    "cs =[]\n",
    "accuracies = []\n",
    "precisions = []\n",
    "recalls = []\n",
    "v_accuracies = []\n",
    "v_precisions = []\n",
    "v_recalls = []\n",
    "c_values = [0.01, 0.1, 1, 10, 100, 1000]\n",
    "\n",
    "for c in np.arange(0.01, 2.00, 0.1):\n",
    "    cs.append(c)\n",
    "    reports = logistic_regression(train, features, 'survived', c, validate, None, False)\n",
    "\n",
    "    train_report = reports['train']\n",
    "    accuracies.append(train_report['accuracy'])\n",
    "    precisions.append(train_report['1']['precision'])\n",
    "    recalls.append(train_report['1']['recall'])\n",
    "\n",
    "    validate_report = reports['validate']\n",
    "    v_accuracies.append(validate_report['accuracy'])\n",
    "    v_precisions.append(validate_report['1']['precision'])\n",
    "    v_recalls.append(validate_report['1']['recall'])\n",
    "        \n",
    "train_results_df= pd.DataFrame(data = {\"c\":cs,\"accuracy\":accuracies,\"precision\":precisions,\"recall\":recalls})\n",
    "validate_results_df= pd.DataFrame(data = {\"c\":cs,\"accuracy\":v_accuracies,\"precision\":v_precisions,\"recall\":v_recalls})"
   ]
  },
  {
   "cell_type": "code",
   "execution_count": 78,
   "id": "0133fe56",
   "metadata": {},
   "outputs": [],
   "source": [
    "def plot_train_validate_performance(train_results_df, validate_results_df):\n",
    "    # Combine train and validate results to allow for plotting together\n",
    "    combined_df = train_results_df.merge(validate_results_df,on=['c'], suffixes=['_train','_validate'])\n",
    "    combined_df[\"accuracy_diff\"] = combined_df.accuracy_validate-combined_df.accuracy_train\n",
    "    combined_df[\"precision_diff\"] = combined_df.precision_validate-combined_df.precision_train\n",
    "    combined_df[\"recall_diff\"] = combined_df.recall_validate-combined_df.recall_train\n",
    "    \n",
    "    # Melt metrics into same column to enable clean plotting with seaborn\n",
    "    data = pd.melt(combined_df.drop(columns = ['accuracy_diff','precision_diff','recall_diff']), id_vars =['c'], var_name='metric')\n",
    "    \n",
    "    # Plot train and validate performance\n",
    "    _, ax = plt.subplots(1,3, figsize=(16,6))\n",
    "    to_plot = [\"accuracy\",\"precision\",\"recall\"]\n",
    "    for i, metric in enumerate(to_plot):\n",
    "        sns.lineplot(x = data[data.metric.str.contains(metric)].c, \n",
    "                     y = data[data.metric.str.contains(metric)].value, \n",
    "                     hue = data[data.metric.str.contains(metric)].metric,  \n",
    "                     ax=ax[i])\n",
    "\n",
    "        plt.suptitle('Train and validate performance')\n",
    "        plt.tight_layout()\n",
    "\n",
    "        ax[i].legend(title = 'data set')\n",
    "        ax[i].set_title(metric)\n",
    "        # if metric == \"accuracy\":\n",
    "        #     ax[i].set_title('Accuracy (Baseline accuracy shown in green)')\n",
    "        #     ax[i].axhline(baseline_accuracy, color = 'green')\n",
    "    \n",
    "    # Plot performance difference between train and validate\n",
    "    _, ax = plt.subplots(1,3, figsize=(16,6))\n",
    "    to_plot = [\"accuracy_diff\",\"precision_diff\",\"recall_diff\"]\n",
    "    for i, metric in enumerate(to_plot):\n",
    "        sns.lineplot(x = combined_df.c, y = combined_df[metric], ax=ax[i])\n",
    "        plt.suptitle('Difference between validate and train performance')\n",
    "        ax[i].set_title(metric)\n",
    "        plt.tight_layout()\n",
    "    \n",
    "    return combined_df"
   ]
  },
  {
   "cell_type": "code",
   "execution_count": 79,
   "id": "ccfc35c7",
   "metadata": {},
   "outputs": [
    {
     "data": {
      "image/png": "[encoded data removed]",
      "text/plain": [
       "<Figure size 1152x432 with 3 Axes>"
      ]
     },
     "metadata": {
      "needs_background": "light"
     },
     "output_type": "display_data"
    },
    {
     "data": {
      "image/png": "[encoded data removed]",
      "text/plain": [
       "<Figure size 1152x432 with 3 Axes>"
      ]
     },
     "metadata": {
      "needs_background": "light"
     },
     "output_type": "display_data"
    }
   ],
   "source": [
    "combined_df = plot_train_validate_performance(train_results_df, validate_results_df)"
   ]
  },
  {
   "cell_type": "code",
   "execution_count": 80,
   "id": "3e948568",
   "metadata": {},
   "outputs": [
    {
     "data": {
      "text/plain": [
       "1"
      ]
     },
     "execution_count": 80,
     "metadata": {},
     "output_type": "execute_result"
    }
   ],
   "source": [
    "combined_df.accuracy_validate.idxmax()"
   ]
  },
  {
   "cell_type": "code",
   "execution_count": null,
   "id": "f1434375",
   "metadata": {},
   "outputs": [],
   "source": []
  }
 ],
 "metadata": {
  "kernelspec": {
   "display_name": "Python 3 (ipykernel)",
   "language": "python",
   "name": "python3"
  },
  "language_info": {
   "codemirror_mode": {
    "name": "ipython",
    "version": 3
   },
   "file_extension": ".py",
   "mimetype": "text/x-python",
   "name": "python",
   "nbconvert_exporter": "python",
   "pygments_lexer": "ipython3",
   "version": "3.9.13"
  }
 },
 "nbformat": 4,
 "nbformat_minor": 5
}
