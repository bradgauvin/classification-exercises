{
 "cells": [
  {
   "cell_type": "markdown",
   "id": "45a8b536",
   "metadata": {},
   "source": [
    "Make a new python module, `acquire.py` to hold the following data aquisition functions:\n",
    "\n",
    "7. Make a function named `get_titanic_data` that returns the titanic data from the codeup data science database as a pandas data frame. Obtain your data from the _Codeup Data Science Database_. \n",
    "\n",
    "\n",
    "8. Make a function named `get_iris_data` that returns the data from the `iris_db` on the codeup data science database as a pandas data frame. The returned data frame should include the actual name of the species in addition to the `species_id`s. Obtain your data from the _Codeup Data Science Database_. \n",
    "\n",
    "9. Make a function named `get_telco_data` that returns the data from the `telco_churn` database in SQL. In your SQL, be sure to join all 4 tables together, so that the resulting dataframe contains all the contract, payment, and internet service options. Obtain your data from the _Codeup Data Science Database_. \n",
    "\n",
    "10. Once you've got your `get_titanic_data`, `get_iris_data`, and `get_telco_data` functions written, now it's time to add caching to them. To do this, edit the beginning of the function to check for the local filename of `telco.csv`, `titanic.csv`, or `iris.csv`. If they exist, use the .csv file. If the file doesn't exist, then produce the SQL and pandas necessary to create a dataframe, then write the dataframe to a .csv file with the appropriate name. \n",
    "\n",
    "__Be sure to add env.py, titanic.csv, iris.csv, and telco.csv to your .gitignore file__"
   ]
  },
  {
   "cell_type": "code",
   "execution_count": 7,
   "id": "8eeb46ac",
   "metadata": {},
   "outputs": [],
   "source": [
    "import pandas as pd\n",
    "import numpy as np\n",
    "import os\n",
    "from env import host, user, password\n"
   ]
  },
  {
   "cell_type": "code",
   "execution_count": 8,
   "id": "384c779d",
   "metadata": {},
   "outputs": [],
   "source": [
    "def get_connection(db, user=user, host=host,password=password):\n",
    "    return f'mysql+pymysql://{user}:{password}@{host}/{db}'"
   ]
  },
  {
   "cell_type": "code",
   "execution_count": 11,
   "id": "8810c18a",
   "metadata": {},
   "outputs": [],
   "source": [
    "# New Titanic Data Set\n",
    "def new_titanic_data():\n",
    "    sql_query = 'SELECT * FROM passengers'\n",
    "    df = pd.read_sql(sql_query, get_connection('titanic_db'))\n",
    "    return df"
   ]
  },
  {
   "cell_type": "code",
   "execution_count": 13,
   "id": "ce573fea",
   "metadata": {},
   "outputs": [],
   "source": [
    "# Acquire Titnaic Data \n",
    "def get_titanic_data():\n",
    "    filename = \"titanic.csv\"\n",
    "    \n",
    "    # if file is available locally, read it\n",
    "    if os.path.isfile(filename):\n",
    "        print('Using cached csv')\n",
    "        return pd.read_csv(filename, index_col=0)\n",
    "    \n",
    "    # if file not available locally, acquire data from SQL database\n",
    "    # and write it as csv locally for future use\n",
    "    else:\n",
    "        # read the SQL query into a dataframe\n",
    "        df = new_titanic_data()\n",
    "        \n",
    "        # Write that dataframe to disk for later. Called \"caching\" the data for later.\n",
    "        df.to_csv(filename)\n",
    "\n",
    "        # Return the dataframe to the calling code\n",
    "        return df  "
   ]
  },
  {
   "cell_type": "code",
   "execution_count": 15,
   "id": "3eb5af17",
   "metadata": {},
   "outputs": [],
   "source": [
    "### Iris Data\n",
    "\n",
    "def new_iris_data():\n",
    "    sql_query = ''' \n",
    "                SELECT \n",
    "                    species_id,\n",
    "                    species_name,\n",
    "                    sepal_length,\n",
    "                    sepal_width,\n",
    "                    petal_length,\n",
    "                    petal_width\n",
    "                FROM measurements\n",
    "                JOIN species USING(species_id)\n",
    "              '''\n",
    "    df = pd.read_sql(sql_query, get_connection('iris_db'))\n",
    "    return df"
   ]
  },
  {
   "cell_type": "code",
   "execution_count": 16,
   "id": "6fbd4e3e",
   "metadata": {},
   "outputs": [],
   "source": [
    "def get_iris_data():\n",
    "    filename = \"iris_df.csv\"\n",
    "    \n",
    "    # if file is available locally, read it\n",
    "    if os.path.isfile(filename):\n",
    "        print('Using cached csv')\n",
    "        return pd.read_csv(filename, index_col=0)\n",
    "    \n",
    "    # if file not available locally, acquire data from SQL database\n",
    "    # and write it as csv locally for future use\n",
    "    else:\n",
    "        # read the SQL query into a dataframe\n",
    "        df = new_iris_data()\n",
    "        # Write that dataframe to disk for later. Called \"caching\" the data for later.\n",
    "        df.to_csv(filename)\n",
    "        return df "
   ]
  },
  {
   "cell_type": "code",
   "execution_count": 17,
   "id": "9d5c6d39",
   "metadata": {},
   "outputs": [],
   "source": [
    "### Get Telco Data\n",
    "def new_telco_data():\n",
    "    sql_query = '''\n",
    "            select * FROM customers\n",
    "            join contract_types using (contract_type_id)\n",
    "            join internet_service_types using (internet_service_id)\n",
    "            join payment_types using (payment_type_id)\n",
    "            '''\n",
    "    df=pd.read_sql(sql_query, get_connection('telco_churn'))\n",
    "    return df"
   ]
  },
  {
   "cell_type": "code",
   "execution_count": 18,
   "id": "52c9b1aa",
   "metadata": {},
   "outputs": [],
   "source": [
    "def get_telco_data():\n",
    "    \n",
    "    if os.path.isfile('telco.csv'):\n",
    "        print('Using cached csv')\n",
    "        df = pd.read_csv('telco.csv', index_col=0)\n",
    "        \n",
    "    else:\n",
    "        df = new_telco_data()\n",
    "        df.to_csv('telco.csv')\n",
    "        \n",
    "    return df"
   ]
  },
  {
   "cell_type": "code",
   "execution_count": null,
   "id": "b802aab5",
   "metadata": {},
   "outputs": [],
   "source": []
  }
 ],
 "metadata": {
  "kernelspec": {
   "display_name": "Python 3 (ipykernel)",
   "language": "python",
   "name": "python3"
  },
  "language_info": {
   "codemirror_mode": {
    "name": "ipython",
    "version": 3
   },
   "file_extension": ".py",
   "mimetype": "text/x-python",
   "name": "python",
   "nbconvert_exporter": "python",
   "pygments_lexer": "ipython3",
   "version": "3.9.12"
  }
 },
 "nbformat": 4,
 "nbformat_minor": 5
}
