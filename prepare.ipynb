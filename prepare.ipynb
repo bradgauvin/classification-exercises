{
 "cells": [
  {
   "cell_type": "code",
   "execution_count": null,
   "id": "51fa9cf1",
   "metadata": {},
   "outputs": [],
   "source": [
    "# Prep Iris data\n",
    "def prep_iris(iris):\n",
    "    iris = acquire.get_iris_data()\n",
    "    iris2 =iris.drop(['species_id'], axis=1)\n",
    "    iris3 = iris2.rename({'species_name':'species'}, axis=1)\n",
    "    dummy_iris = pd.get_dummies(iris3[['species']], dummy_na=False, drop_first=[True])\n",
    "    iris4 = pd.concat([iris3,dummy_iris], axis=1)\n",
    "    return iris4\n",
    "\n",
    "# Prep Titanic data\n",
    "def prep_titanic(titanic):\n",
    "    '''\n",
    "    This function will clean the data...\n",
    "    '''\n",
    "    titanic = acquire.get_titanic_data()\n",
    "    titanic = titanic.drop_duplicates()\n",
    "    cols_to_drop = ['deck', 'embarked', 'class', 'age']\n",
    "    titanic2 = titanic.drop(columns=cols_to_drop)\n",
    "    titanic2['embark_town'] = titanic2.embark_town.fillna(value='Southampton')\n",
    "    dummy_df = pd.get_dummies(titanic2[['sex', 'embark_town']], dummy_na=False, drop_first=[True, True])\n",
    "    titanic3 = pd.concat([titanic2, dummy_df], axis=1)\n",
    "    print('Data cleaned for duplicates, columns dropped [deck, embarked, class, age], filled na, and added numerical versions of sex and embark')\n",
    "    return titanic3\n",
    "\n",
    "# Prep Telco data\n",
    "def prep_telco():\n",
    "    telco=acquire.get_telco_data()\n",
    "    # Drop Duplicates\n",
    "    telco.drop(columns=['payment_type_id','internet_service_type_id','contract_type_id','customer_id'], inplace=True)\n",
    "    # Get rid of whitespace\n",
    "    telco.total_charges.replace(to_replace=[' ',''],value = np.nan,inplace=True)\n",
    "    telco = telco[telco.total_charges != '']\n",
    "    # Convert to float\n",
    "    telco['total_charges'] = telco.total_charges.astype(float)\n",
    "    \n",
    "    # adding categorical variables to numeric\n",
    "    telco['gender_binary'] = telco.gender.map({'Female':1, 'Male': 0})\n",
    "    telco['partner_binary'] = telco.partner.map({'Yes':1,'No': 0})\n",
    "    telco['dependents_binary'] = telco.dependents.map({'Yes':1, 'No':0})\n",
    "    telco['phone_service_binary'] = telco.phone_service.map({'Yes':1, 'No':0})\n",
    "    telco['paperless_billing_encoded'] = telco.paperless_billing.map({'Yes': 1, 'No': 0})\n",
    "    telco['churn_encoded'] = telco.churn.map({'Yes': 1, 'No': 0})\n",
    "    \n",
    "    return telco"
   ]
  }
 ],
 "metadata": {
  "kernelspec": {
   "display_name": "Python 3 (ipykernel)",
   "language": "python",
   "name": "python3"
  },
  "language_info": {
   "codemirror_mode": {
    "name": "ipython",
    "version": 3
   },
   "file_extension": ".py",
   "mimetype": "text/x-python",
   "name": "python",
   "nbconvert_exporter": "python",
   "pygments_lexer": "ipython3",
   "version": "3.9.12"
  }
 },
 "nbformat": 4,
 "nbformat_minor": 5
}
